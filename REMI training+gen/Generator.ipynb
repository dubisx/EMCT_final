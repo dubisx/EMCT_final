{
  "cells": [
    {
      "cell_type": "code",
      "execution_count": 23,
      "metadata": {
        "colab": {
          "base_uri": "https://localhost:8080/"
        },
        "id": "n42cJmouxDxS",
        "outputId": "902dfdbb-870f-4dfc-ad41-cd2f59b0dad4"
      },
      "outputs": [
        {
          "output_type": "stream",
          "name": "stdout",
          "text": [
            "Looking in indexes: https://pypi.org/simple, https://us-python.pkg.dev/colab-wheels/public/simple/\n",
            "Requirement already satisfied: miditok in /usr/local/lib/python3.10/dist-packages (2.0.5)\n",
            "Requirement already satisfied: miditoolkit>=0.1.16 in /usr/local/lib/python3.10/dist-packages (from miditok) (0.1.16)\n",
            "Requirement already satisfied: numpy<1.24,>=1.19 in /usr/local/lib/python3.10/dist-packages (from miditok) (1.22.4)\n",
            "Requirement already satisfied: tqdm in /usr/local/lib/python3.10/dist-packages (from miditok) (4.65.0)\n",
            "Requirement already satisfied: mido>=1.1.16 in /usr/local/lib/python3.10/dist-packages (from miditoolkit>=0.1.16->miditok) (1.2.10)\n",
            "Looking in indexes: https://pypi.org/simple, https://us-python.pkg.dev/colab-wheels/public/simple/\n",
            "Requirement already satisfied: tokenizers in /usr/local/lib/python3.10/dist-packages (0.13.3)\n",
            "Looking in indexes: https://pypi.org/simple, https://us-python.pkg.dev/colab-wheels/public/simple/\n",
            "Requirement already satisfied: transformers in /usr/local/lib/python3.10/dist-packages (4.28.1)\n",
            "Requirement already satisfied: regex!=2019.12.17 in /usr/local/lib/python3.10/dist-packages (from transformers) (2022.10.31)\n",
            "Requirement already satisfied: pyyaml>=5.1 in /usr/local/lib/python3.10/dist-packages (from transformers) (6.0)\n",
            "Requirement already satisfied: requests in /usr/local/lib/python3.10/dist-packages (from transformers) (2.27.1)\n",
            "Requirement already satisfied: filelock in /usr/local/lib/python3.10/dist-packages (from transformers) (3.12.0)\n",
            "Requirement already satisfied: numpy>=1.17 in /usr/local/lib/python3.10/dist-packages (from transformers) (1.22.4)\n",
            "Requirement already satisfied: packaging>=20.0 in /usr/local/lib/python3.10/dist-packages (from transformers) (23.1)\n",
            "Requirement already satisfied: huggingface-hub<1.0,>=0.11.0 in /usr/local/lib/python3.10/dist-packages (from transformers) (0.14.1)\n",
            "Requirement already satisfied: tokenizers!=0.11.3,<0.14,>=0.11.1 in /usr/local/lib/python3.10/dist-packages (from transformers) (0.13.3)\n",
            "Requirement already satisfied: tqdm>=4.27 in /usr/local/lib/python3.10/dist-packages (from transformers) (4.65.0)\n",
            "Requirement already satisfied: typing-extensions>=3.7.4.3 in /usr/local/lib/python3.10/dist-packages (from huggingface-hub<1.0,>=0.11.0->transformers) (4.5.0)\n",
            "Requirement already satisfied: fsspec in /usr/local/lib/python3.10/dist-packages (from huggingface-hub<1.0,>=0.11.0->transformers) (2023.4.0)\n",
            "Requirement already satisfied: idna<4,>=2.5 in /usr/local/lib/python3.10/dist-packages (from requests->transformers) (3.4)\n",
            "Requirement already satisfied: charset-normalizer~=2.0.0 in /usr/local/lib/python3.10/dist-packages (from requests->transformers) (2.0.12)\n",
            "Requirement already satisfied: urllib3<1.27,>=1.21.1 in /usr/local/lib/python3.10/dist-packages (from requests->transformers) (1.26.15)\n",
            "Requirement already satisfied: certifi>=2017.4.17 in /usr/local/lib/python3.10/dist-packages (from requests->transformers) (2022.12.7)\n",
            "Looking in indexes: https://pypi.org/simple, https://us-python.pkg.dev/colab-wheels/public/simple/\n",
            "Requirement already satisfied: pretty_midi in /usr/local/lib/python3.10/dist-packages (0.2.10)\n",
            "Requirement already satisfied: mido>=1.1.16 in /usr/local/lib/python3.10/dist-packages (from pretty_midi) (1.2.10)\n",
            "Requirement already satisfied: numpy>=1.7.0 in /usr/local/lib/python3.10/dist-packages (from pretty_midi) (1.22.4)\n",
            "Requirement already satisfied: six in /usr/local/lib/python3.10/dist-packages (from pretty_midi) (1.16.0)\n",
            "Looking in indexes: https://pypi.org/simple, https://us-python.pkg.dev/colab-wheels/public/simple/\n",
            "Requirement already satisfied: librosa in /usr/local/lib/python3.10/dist-packages (0.10.0.post2)\n",
            "Requirement already satisfied: scikit-learn>=0.20.0 in /usr/local/lib/python3.10/dist-packages (from librosa) (1.2.2)\n",
            "Requirement already satisfied: pooch<1.7,>=1.0 in /usr/local/lib/python3.10/dist-packages (from librosa) (1.6.0)\n",
            "Requirement already satisfied: msgpack>=1.0 in /usr/local/lib/python3.10/dist-packages (from librosa) (1.0.5)\n",
            "Requirement already satisfied: joblib>=0.14 in /usr/local/lib/python3.10/dist-packages (from librosa) (1.2.0)\n",
            "Requirement already satisfied: numpy!=1.22.0,!=1.22.1,!=1.22.2,>=1.20.3 in /usr/local/lib/python3.10/dist-packages (from librosa) (1.22.4)\n",
            "Requirement already satisfied: scipy>=1.2.0 in /usr/local/lib/python3.10/dist-packages (from librosa) (1.10.1)\n",
            "Requirement already satisfied: numba>=0.51.0 in /usr/local/lib/python3.10/dist-packages (from librosa) (0.56.4)\n",
            "Requirement already satisfied: lazy-loader>=0.1 in /usr/local/lib/python3.10/dist-packages (from librosa) (0.2)\n",
            "Requirement already satisfied: soundfile>=0.12.1 in /usr/local/lib/python3.10/dist-packages (from librosa) (0.12.1)\n",
            "Requirement already satisfied: soxr>=0.3.2 in /usr/local/lib/python3.10/dist-packages (from librosa) (0.3.5)\n",
            "Requirement already satisfied: typing-extensions>=4.1.1 in /usr/local/lib/python3.10/dist-packages (from librosa) (4.5.0)\n",
            "Requirement already satisfied: decorator>=4.3.0 in /usr/local/lib/python3.10/dist-packages (from librosa) (4.4.2)\n",
            "Requirement already satisfied: audioread>=2.1.9 in /usr/local/lib/python3.10/dist-packages (from librosa) (3.0.0)\n",
            "Requirement already satisfied: llvmlite<0.40,>=0.39.0dev0 in /usr/local/lib/python3.10/dist-packages (from numba>=0.51.0->librosa) (0.39.1)\n",
            "Requirement already satisfied: setuptools in /usr/local/lib/python3.10/dist-packages (from numba>=0.51.0->librosa) (67.7.2)\n",
            "Requirement already satisfied: packaging>=20.0 in /usr/local/lib/python3.10/dist-packages (from pooch<1.7,>=1.0->librosa) (23.1)\n",
            "Requirement already satisfied: requests>=2.19.0 in /usr/local/lib/python3.10/dist-packages (from pooch<1.7,>=1.0->librosa) (2.27.1)\n",
            "Requirement already satisfied: appdirs>=1.3.0 in /usr/local/lib/python3.10/dist-packages (from pooch<1.7,>=1.0->librosa) (1.4.4)\n",
            "Requirement already satisfied: threadpoolctl>=2.0.0 in /usr/local/lib/python3.10/dist-packages (from scikit-learn>=0.20.0->librosa) (3.1.0)\n",
            "Requirement already satisfied: cffi>=1.0 in /usr/local/lib/python3.10/dist-packages (from soundfile>=0.12.1->librosa) (1.15.1)\n",
            "Requirement already satisfied: pycparser in /usr/local/lib/python3.10/dist-packages (from cffi>=1.0->soundfile>=0.12.1->librosa) (2.21)\n",
            "Requirement already satisfied: charset-normalizer~=2.0.0 in /usr/local/lib/python3.10/dist-packages (from requests>=2.19.0->pooch<1.7,>=1.0->librosa) (2.0.12)\n",
            "Requirement already satisfied: urllib3<1.27,>=1.21.1 in /usr/local/lib/python3.10/dist-packages (from requests>=2.19.0->pooch<1.7,>=1.0->librosa) (1.26.15)\n",
            "Requirement already satisfied: idna<4,>=2.5 in /usr/local/lib/python3.10/dist-packages (from requests>=2.19.0->pooch<1.7,>=1.0->librosa) (3.4)\n",
            "Requirement already satisfied: certifi>=2017.4.17 in /usr/local/lib/python3.10/dist-packages (from requests>=2.19.0->pooch<1.7,>=1.0->librosa) (2022.12.7)\n"
          ]
        }
      ],
      "source": [
        "!pip install miditok\n",
        "!pip install tokenizers\n",
        "!pip install transformers\n",
        "!pip install pretty_midi\n",
        "!pip install librosa\n",
        "\n",
        "import tensorflow as tf\n",
        "from tensorflow import keras\n",
        "import numpy\n",
        "import miditok\n",
        "import tqdm\n",
        "from miditok import MIDILike, MIDITokenizer, OctupleMono, REMI\n",
        "import pathlib\n",
        "from miditok.constants import CHORD_MAPS\n",
        "from transformers import TFGPT2LMHeadModel, GPT2Config, Trainer, TrainingArguments, GenerationConfig, pipeline\n",
        "from miditoolkit import MidiFile\n",
        "from pathlib import Path\n",
        "import pretty_midi\n",
        "import librosa.display\n",
        "import matplotlib.pyplot as plt\n"
      ]
    },
    {
      "cell_type": "code",
      "execution_count": 2,
      "metadata": {
        "colab": {
          "base_uri": "https://localhost:8080/"
        },
        "id": "n2JWQ_xsxafl",
        "outputId": "500ab31d-d4ea-498a-e6e9-d97f70984e8f"
      },
      "outputs": [
        {
          "output_type": "stream",
          "name": "stdout",
          "text": [
            "Mounted at /content/gdrive\n"
          ]
        }
      ],
      "source": [
        "from google.colab import drive\n",
        "\n",
        "drive.mount('/content/gdrive', force_remount=True)"
      ]
    },
    {
      "cell_type": "code",
      "source": [
        "pitch_range = range(21, 109)\n",
        "beat_res = {(0, 4): 8, (4, 12): 4}\n",
        "nb_velocities = 32\n",
        "additional_tokens = {'Chord': True, 'Rest': True, 'Tempo': True,\n",
        "                     'rest_range': (2, 8),  # (half, 8 beats)\n",
        "                     'nb_tempos': 32,  # nb of tempo bins\n",
        "                     'tempo_range': (40, 250),  # (min, max)\n",
        "                     'Program': False,\n",
        "                     \"chord_maps\": CHORD_MAPS,\n",
        "                     \"chord_tokens_with_root_note\": True,\n",
        "                     \"chord_unknown\": False}\n",
        "special_tokens = [\"PAD\", \"BOS\", \"EOS\"]\n",
        "\n",
        "#creates tokenizer\n",
        "tokenizer = REMI(params = '/content/gdrive/MyDrive/ala/REMI/tokens_noBPE/config.txt')"
      ],
      "metadata": {
        "id": "KwwhCWXdsyIM"
      },
      "execution_count": 3,
      "outputs": []
    },
    {
      "cell_type": "code",
      "source": [
        "# Creates model\n",
        "config = GPT2Config( \n",
        "    vocab_size=1000,\n",
        "    n_positions=10,\n",
        "    n_embd=64,\n",
        "    n_layer=4,\n",
        "    n_head=4,\n",
        "    n_inner=128,\n",
        "    resid_pdrop=.1,\n",
        "    embd_pdrop=.1,\n",
        "    attn_pdrop=.1,\n",
        "    pad_token_id=tokenizer['PAD_None'],\n",
        "    bos_token_id=tokenizer['BOS_None'],\n",
        "    eos_token_id=tokenizer['EOS_None'],\n",
        ")\n",
        "model = TFGPT2LMHeadModel(config)   "
      ],
      "metadata": {
        "id": "eg--cDXsfTav"
      },
      "execution_count": 4,
      "outputs": []
    },
    {
      "cell_type": "code",
      "execution_count": 5,
      "metadata": {
        "colab": {
          "base_uri": "https://localhost:8080/"
        },
        "id": "IiSFuHtzxS1T",
        "outputId": "cdf6b966-6f06-4e9e-9989-abbac870c4e1"
      },
      "outputs": [
        {
          "output_type": "stream",
          "name": "stderr",
          "text": [
            "All model checkpoint layers were used when initializing TFGPT2LMHeadModel.\n",
            "\n",
            "All the layers of TFGPT2LMHeadModel were initialized from the model checkpoint at /content/gdrive/MyDrive/model_f/REMI_model_1/.\n",
            "If your task is similar to the task the model of the checkpoint was trained on, you can already use TFGPT2LMHeadModel for predictions without further training.\n"
          ]
        },
        {
          "output_type": "execute_result",
          "data": {
            "text/plain": [
              "<transformers.models.gpt2.modeling_tf_gpt2.TFGPT2LMHeadModel at 0x7f761a394040>"
            ]
          },
          "metadata": {},
          "execution_count": 5
        }
      ],
      "source": [
        "model_path = \"/content/gdrive/MyDrive/model_f/REMI_model_1/\"\n",
        "\n",
        "\n",
        "model.from_pretrained(model_path)"
      ]
    },
    {
      "cell_type": "code",
      "execution_count": 6,
      "metadata": {
        "id": "mYt0t9gOyIAp"
      },
      "outputs": [],
      "source": [
        "# defining our optimizer\n",
        "optimizer = tf.keras.optimizers.Adam(learning_rate=3e-5, epsilon=1e-08, clipnorm=1.0)\n",
        "# definining our loss function\n",
        "loss = tf.keras.losses.SparseCategoricalCrossentropy(from_logits=True)\n",
        "# defining our metric which we want to observe\n",
        "metric = tf.keras.metrics.SparseCategoricalAccuracy('accuracy')\n",
        "# compiling the model\n",
        "model.compile(optimizer=optimizer, loss=[loss, *[None] * model.config.n_layer], metrics=[metric])"
      ]
    },
    {
      "cell_type": "code",
      "source": [
        "tokenizer.learn_bpe(\n",
        "    vocab_size=1000,\n",
        "    tokens_paths=list(Path(\"/content/gdrive/MyDrive/ala/REMI/tokens_noBPE\").glob('**/*.json')),\n",
        "    out_dir=Path('/content/gdrive/MyDrive/ala/REMI/tokens_BPE'),\n",
        ")"
      ],
      "metadata": {
        "colab": {
          "base_uri": "https://localhost:8080/"
        },
        "id": "Rr5woFRziujO",
        "outputId": "fc1a7500-7731-4256-bbeb-22eaf33480b4"
      },
      "execution_count": 7,
      "outputs": [
        {
          "output_type": "stream",
          "name": "stderr",
          "text": [
            "Loading token files: 100%|██████████| 6872/6872 [02:16<00:00, 50.25it/s] \n"
          ]
        }
      ]
    },
    {
      "cell_type": "code",
      "execution_count": 25,
      "metadata": {
        "id": "85P_-SIVlxGt",
        "colab": {
          "base_uri": "https://localhost:8080/"
        },
        "outputId": "4a261ea3-2f31-4080-9999-011d840fc11c"
      },
      "outputs": [
        {
          "output_type": "stream",
          "name": "stdout",
          "text": [
            "token: [TokSequence(tokens=['Bar_None', 'Position_0', 'Tempo_134', 'Pitch_53', 'Velocity_127', 'Duration_1.4.8', 'Pitch_60', 'Velocity_127', 'Duration_0.2.8', 'Position_4', 'Tempo_134', 'Pitch_68', 'Velocity_127', 'Duration_0.4.8', 'Position_8', 'Tempo_134', 'Pitch_65', 'Velocity_127', 'Duration_0.4.8', 'Position_12', 'Tempo_134', 'Pitch_56', 'Velocity_127', 'Duration_1.4.8', 'Pitch_63', 'Velocity_127', 'Duration_0.2.8', 'Pitch_65', 'Velocity_127', 'Duration_0.2.8', 'Position_16', 'Tempo_134', 'Pitch_63', 'Velocity_127', 'Duration_0.4.8', 'Position_20', 'Tempo_134', 'Pitch_60', 'Velocity_127', 'Duration_0.4.8', 'Position_24', 'Tempo_134', 'Pitch_49', 'Velocity_127', 'Duration_2.0.8', 'Pitch_60', 'Velocity_127', 'Duration_0.4.8', 'Pitch_61', 'Velocity_127', 'Duration_0.4.8', 'Position_28', 'Tempo_134', 'Pitch_60', 'Velocity_127', 'Duration_1.4.8', 'Bar_None', 'Position_8', 'Tempo_134', 'Pitch_48', 'Velocity_127', 'Duration_1.4.8', 'Position_20', 'Tempo_134', 'Pitch_49', 'Velocity_127', 'Duration_1.4.8', 'Position_24', 'Tempo_134', 'Pitch_60', 'Velocity_127', 'Duration_0.2.8', 'Position_26', 'Tempo_134', 'Pitch_61', 'Velocity_127', 'Duration_0.2.8', 'Position_28', 'Tempo_134', 'Pitch_60', 'Velocity_127', 'Duration_0.2.8', 'Bar_None', 'Position_0', 'Tempo_134', 'Pitch_53', 'Velocity_127', 'Duration_1.4.8', 'Pitch_60', 'Velocity_127', 'Duration_0.2.8', 'Position_4', 'Tempo_134', 'Pitch_68', 'Velocity_127', 'Duration_0.4.8', 'Position_8', 'Tempo_134', 'Pitch_65', 'Velocity_127', 'Duration_0.4.8', 'Position_12', 'Tempo_134', 'Pitch_56', 'Velocity_127', 'Duration_1.4.8', 'Pitch_63', 'Velocity_127', 'Duration_0.2.8', 'Pitch_65', 'Velocity_127', 'Duration_0.2.8', 'Position_16', 'Tempo_134', 'Pitch_63', 'Velocity_127', 'Duration_0.4.8', 'Position_20', 'Tempo_134', 'Pitch_60', 'Velocity_127', 'Duration_0.4.8', 'Position_24', 'Tempo_134', 'Pitch_49', 'Velocity_127', 'Duration_2.0.8', 'Pitch_60', 'Velocity_127', 'Duration_0.4.8', 'Pitch_61', 'Velocity_127', 'Duration_0.4.8', 'Position_28', 'Tempo_134', 'Pitch_60', 'Velocity_127', 'Duration_1.4.8', 'Bar_None', 'Position_8', 'Tempo_134', 'Pitch_48', 'Velocity_127', 'Duration_1.4.8', 'Position_20', 'Tempo_134', 'Pitch_49', 'Velocity_127', 'Duration_1.4.8', 'Position_24', 'Tempo_134', 'Pitch_60', 'Velocity_127', 'Duration_0.2.8', 'Position_26', 'Tempo_134', 'Pitch_61', 'Velocity_127', 'Duration_0.2.8', 'Position_28', 'Tempo_134', 'Pitch_60', 'Velocity_127', 'Duration_0.2.8'], ids=[341, 36, 327, 43, 304, 445, 938, 396, 950, 407, 39, 327, 46, 304, 48, 304, 354, 46, 298, 432, 935, 349, 32, 342, 935, 44, 298, 395, 43, 327, 3, 396, 31, 327, 432, 32, 327, 349, 43, 304, 896, 44, 304, 395, 43, 304, 341, 36, 327, 43, 304, 445, 938, 396, 950, 407, 39, 327, 46, 304, 48, 304, 354, 46, 298, 432, 935, 349, 32, 342, 935, 44, 298, 395, 43, 327, 3, 396, 31, 327, 432, 32, 327, 349, 43, 304, 896, 44, 304, 395, 43, 304], bytes='$ÝƼE\\x9c¨L\\x9c\\x9eáƼT\\x9c\\xa0åƼQ\\x9c\\xa0éƼH\\x9c¨O\\x9c\\x9eQ\\x9c\\x9eíƼO\\x9c\\xa0ñƼL\\x9c\\xa0õƼA\\x9c¬L\\x9c\\xa0M\\x9c\\xa0ùƼL\\x9c¨$åƼ@\\x9c¨ñƼA\\x9c¨õƼL\\x9c\\x9e÷ƼM\\x9c\\x9eùƼL\\x9c\\x9e$ÝƼE\\x9c¨L\\x9c\\x9eáƼT\\x9c\\xa0åƼQ\\x9c\\xa0éƼH\\x9c¨O\\x9c\\x9eQ\\x9c\\x9eíƼO\\x9c\\xa0ñƼL\\x9c\\xa0õƼA\\x9c¬L\\x9c\\xa0M\\x9c\\xa0ùƼL\\x9c¨$åƼ@\\x9c¨ñƼA\\x9c¨õƼL\\x9c\\x9e÷ƼM\\x9c\\x9eùƼL\\x9c\\x9e', events=[Event(type=Bar, value=None, time=0, desc=0), Event(type=Position, value=0, time=0, desc=0), Event(type=Tempo, value=134, time=0, desc=0), Event(type=Pitch, value=53, time=0, desc=53), Event(type=Velocity, value=127, time=0, desc=127), Event(type=Duration, value=1.4.8, time=0, desc=144 ticks), Event(type=Pitch, value=60, time=0, desc=60), Event(type=Velocity, value=127, time=0, desc=127), Event(type=Duration, value=0.2.8, time=0, desc=24 ticks), Event(type=Position, value=4, time=48, desc=48), Event(type=Tempo, value=134, time=48, desc=48), Event(type=Pitch, value=68, time=48, desc=68), Event(type=Velocity, value=127, time=48, desc=127), Event(type=Duration, value=0.4.8, time=48, desc=48 ticks), Event(type=Position, value=8, time=96, desc=96), Event(type=Tempo, value=134, time=96, desc=96), Event(type=Pitch, value=65, time=96, desc=65), Event(type=Velocity, value=127, time=96, desc=127), Event(type=Duration, value=0.4.8, time=96, desc=48 ticks), Event(type=Position, value=12, time=144, desc=144), Event(type=Tempo, value=134, time=144, desc=144), Event(type=Pitch, value=56, time=144, desc=56), Event(type=Velocity, value=127, time=144, desc=127), Event(type=Duration, value=1.4.8, time=144, desc=144 ticks), Event(type=Pitch, value=63, time=144, desc=63), Event(type=Velocity, value=127, time=144, desc=127), Event(type=Duration, value=0.2.8, time=144, desc=24 ticks), Event(type=Pitch, value=65, time=144, desc=65), Event(type=Velocity, value=127, time=144, desc=127), Event(type=Duration, value=0.2.8, time=144, desc=24 ticks), Event(type=Position, value=16, time=192, desc=192), Event(type=Tempo, value=134, time=192, desc=192), Event(type=Pitch, value=63, time=192, desc=63), Event(type=Velocity, value=127, time=192, desc=127), Event(type=Duration, value=0.4.8, time=192, desc=48 ticks), Event(type=Position, value=20, time=240, desc=240), Event(type=Tempo, value=134, time=240, desc=240), Event(type=Pitch, value=60, time=240, desc=60), Event(type=Velocity, value=127, time=240, desc=127), Event(type=Duration, value=0.4.8, time=240, desc=48 ticks), Event(type=Position, value=24, time=288, desc=288), Event(type=Tempo, value=134, time=288, desc=288), Event(type=Pitch, value=49, time=288, desc=49), Event(type=Velocity, value=127, time=288, desc=127), Event(type=Duration, value=2.0.8, time=288, desc=192 ticks), Event(type=Pitch, value=60, time=288, desc=60), Event(type=Velocity, value=127, time=288, desc=127), Event(type=Duration, value=0.4.8, time=288, desc=48 ticks), Event(type=Pitch, value=61, time=288, desc=61), Event(type=Velocity, value=127, time=288, desc=127), Event(type=Duration, value=0.4.8, time=288, desc=48 ticks), Event(type=Position, value=28, time=336, desc=336), Event(type=Tempo, value=134, time=336, desc=336), Event(type=Pitch, value=60, time=336, desc=60), Event(type=Velocity, value=127, time=336, desc=127), Event(type=Duration, value=1.4.8, time=336, desc=144 ticks), Event(type=Bar, value=None, time=384, desc=0), Event(type=Position, value=8, time=480, desc=480), Event(type=Tempo, value=134, time=480, desc=480), Event(type=Pitch, value=48, time=480, desc=48), Event(type=Velocity, value=127, time=480, desc=127), Event(type=Duration, value=1.4.8, time=480, desc=144 ticks), Event(type=Position, value=20, time=624, desc=624), Event(type=Tempo, value=134, time=624, desc=624), Event(type=Pitch, value=49, time=624, desc=49), Event(type=Velocity, value=127, time=624, desc=127), Event(type=Duration, value=1.4.8, time=624, desc=144 ticks), Event(type=Position, value=24, time=672, desc=672), Event(type=Tempo, value=134, time=672, desc=672), Event(type=Pitch, value=60, time=672, desc=60), Event(type=Velocity, value=127, time=672, desc=127), Event(type=Duration, value=0.2.8, time=672, desc=24 ticks), Event(type=Position, value=26, time=696, desc=696), Event(type=Tempo, value=134, time=696, desc=696), Event(type=Pitch, value=61, time=696, desc=61), Event(type=Velocity, value=127, time=696, desc=127), Event(type=Duration, value=0.2.8, time=696, desc=24 ticks), Event(type=Position, value=28, time=720, desc=720), Event(type=Tempo, value=134, time=720, desc=720), Event(type=Pitch, value=60, time=720, desc=60), Event(type=Velocity, value=127, time=720, desc=127), Event(type=Duration, value=0.2.8, time=720, desc=24 ticks), Event(type=Bar, value=None, time=768, desc=0), Event(type=Position, value=0, time=768, desc=768), Event(type=Tempo, value=134, time=768, desc=768), Event(type=Pitch, value=53, time=768, desc=53), Event(type=Velocity, value=127, time=768, desc=127), Event(type=Duration, value=1.4.8, time=768, desc=144 ticks), Event(type=Pitch, value=60, time=768, desc=60), Event(type=Velocity, value=127, time=768, desc=127), Event(type=Duration, value=0.2.8, time=768, desc=24 ticks), Event(type=Position, value=4, time=816, desc=816), Event(type=Tempo, value=134, time=816, desc=816), Event(type=Pitch, value=68, time=816, desc=68), Event(type=Velocity, value=127, time=816, desc=127), Event(type=Duration, value=0.4.8, time=816, desc=48 ticks), Event(type=Position, value=8, time=864, desc=864), Event(type=Tempo, value=134, time=864, desc=864), Event(type=Pitch, value=65, time=864, desc=65), Event(type=Velocity, value=127, time=864, desc=127), Event(type=Duration, value=0.4.8, time=864, desc=48 ticks), Event(type=Position, value=12, time=912, desc=912), Event(type=Tempo, value=134, time=912, desc=912), Event(type=Pitch, value=56, time=912, desc=56), Event(type=Velocity, value=127, time=912, desc=127), Event(type=Duration, value=1.4.8, time=912, desc=144 ticks), Event(type=Pitch, value=63, time=912, desc=63), Event(type=Velocity, value=127, time=912, desc=127), Event(type=Duration, value=0.2.8, time=912, desc=24 ticks), Event(type=Pitch, value=65, time=912, desc=65), Event(type=Velocity, value=127, time=912, desc=127), Event(type=Duration, value=0.2.8, time=912, desc=24 ticks), Event(type=Position, value=16, time=960, desc=960), Event(type=Tempo, value=134, time=960, desc=960), Event(type=Pitch, value=63, time=960, desc=63), Event(type=Velocity, value=127, time=960, desc=127), Event(type=Duration, value=0.4.8, time=960, desc=48 ticks), Event(type=Position, value=20, time=1008, desc=1008), Event(type=Tempo, value=134, time=1008, desc=1008), Event(type=Pitch, value=60, time=1008, desc=60), Event(type=Velocity, value=127, time=1008, desc=127), Event(type=Duration, value=0.4.8, time=1008, desc=48 ticks), Event(type=Position, value=24, time=1056, desc=1056), Event(type=Tempo, value=134, time=1056, desc=1056), Event(type=Pitch, value=49, time=1056, desc=49), Event(type=Velocity, value=127, time=1056, desc=127), Event(type=Duration, value=2.0.8, time=1056, desc=192 ticks), Event(type=Pitch, value=60, time=1056, desc=60), Event(type=Velocity, value=127, time=1056, desc=127), Event(type=Duration, value=0.4.8, time=1056, desc=48 ticks), Event(type=Pitch, value=61, time=1056, desc=61), Event(type=Velocity, value=127, time=1056, desc=127), Event(type=Duration, value=0.4.8, time=1056, desc=48 ticks), Event(type=Position, value=28, time=1104, desc=1104), Event(type=Tempo, value=134, time=1104, desc=1104), Event(type=Pitch, value=60, time=1104, desc=60), Event(type=Velocity, value=127, time=1104, desc=127), Event(type=Duration, value=1.4.8, time=1104, desc=144 ticks), Event(type=Bar, value=None, time=1152, desc=0), Event(type=Position, value=8, time=1248, desc=1248), Event(type=Tempo, value=134, time=1248, desc=1248), Event(type=Pitch, value=48, time=1248, desc=48), Event(type=Velocity, value=127, time=1248, desc=127), Event(type=Duration, value=1.4.8, time=1248, desc=144 ticks), Event(type=Position, value=20, time=1392, desc=1392), Event(type=Tempo, value=134, time=1392, desc=1392), Event(type=Pitch, value=49, time=1392, desc=49), Event(type=Velocity, value=127, time=1392, desc=127), Event(type=Duration, value=1.4.8, time=1392, desc=144 ticks), Event(type=Position, value=24, time=1440, desc=1440), Event(type=Tempo, value=134, time=1440, desc=1440), Event(type=Pitch, value=60, time=1440, desc=60), Event(type=Velocity, value=127, time=1440, desc=127), Event(type=Duration, value=0.2.8, time=1440, desc=24 ticks), Event(type=Position, value=26, time=1464, desc=1464), Event(type=Tempo, value=134, time=1464, desc=1464), Event(type=Pitch, value=61, time=1464, desc=61), Event(type=Velocity, value=127, time=1464, desc=127), Event(type=Duration, value=0.2.8, time=1464, desc=24 ticks), Event(type=Position, value=28, time=1488, desc=1488), Event(type=Tempo, value=134, time=1488, desc=1488), Event(type=Pitch, value=60, time=1488, desc=60), Event(type=Velocity, value=127, time=1488, desc=127), Event(type=Duration, value=0.2.8, time=1488, desc=24 ticks)], ids_bpe_encoded=True, _ids_no_bpe=None)]\n",
            "token ids: [341, 36, 327, 43, 304, 445, 938, 396, 950, 407, 39, 327, 46, 304, 48, 304, 354, 46, 298, 432, 935, 349, 32, 342, 935, 44, 298, 395, 43, 327, 3, 396, 31, 327, 432, 32, 327, 349, 43, 304, 896, 44, 304, 395, 43, 304, 341, 36, 327, 43, 304, 445, 938, 396, 950, 407, 39, 327, 46, 304, 48, 304, 354, 46, 298, 432, 935, 349, 32, 342, 935, 44, 298, 395, 43, 327, 3, 396, 31, 327, 432, 32, 327, 349, 43, 304, 896, 44, 304, 395, 43, 304]\n"
          ]
        }
      ],
      "source": [
        "midi_path = '/content/gdrive/MyDrive/ala/REMI/test_midi/1.mid' #@param {type:\"string\"}\n",
        "\n",
        "midi = MidiFile(midi_path)\n",
        "token = tokenizer(midi)  # automatically detects MidiFile, paths or tokens before converting them\n",
        "print('token:', token)\n",
        "print('token ids:', token[0].ids)\n",
        "\n",
        "prompt = [token[0].ids]\n"
      ]
    },
    {
      "cell_type": "code",
      "execution_count": 27,
      "metadata": {
        "id": "9Tu0912A0Mqu"
      },
      "outputs": [],
      "source": [
        "\n",
        "\n",
        "generation_config = GenerationConfig(\n",
        "    max_new_tokens=512 #@param {type:\"slider\", min:32, max:1024, step:4}\n",
        "    , num_beams=1,        # no beam search\n",
        "    do_sample=True,     # but sample instead\n",
        "    temperature=0.98 #@param {type:\"slider\", min:0.7, max:0.99, step:0.01}\n",
        "    , top_k=15,\n",
        "    top_p=0.95,\n",
        "    epsilon_cutoff=3e-4,\n",
        "    eta_cutoff=1e-3,\n",
        ")"
      ]
    },
    {
      "cell_type": "code",
      "execution_count": 28,
      "metadata": {
        "id": "6pPuCSZ7o68Q"
      },
      "outputs": [],
      "source": [
        "outputs = model.generate(prompt, generation_config)"
      ]
    },
    {
      "cell_type": "code",
      "execution_count": 29,
      "metadata": {
        "colab": {
          "base_uri": "https://localhost:8080/"
        },
        "id": "wx75G9Em0Itt",
        "outputId": "d21b9962-a77c-461a-aa89-1f968fd39ad2"
      },
      "outputs": [
        {
          "output_type": "stream",
          "name": "stdout",
          "text": [
            "old token: [341, 36, 327, 43, 304, 445, 938, 396, 950, 407, 39, 327, 46, 304, 48, 304, 354, 46, 298, 432, 935, 349, 32, 342, 935, 44, 298, 395, 43, 327, 3, 396, 31, 327, 432, 32, 327, 349, 43, 304, 896, 44, 304, 395, 43, 304, 341, 36, 327, 43, 304, 445, 938, 396, 950, 407, 39, 327, 46, 304, 48, 304, 354, 46, 298, 432, 935, 349, 32, 342, 935, 44, 298, 395, 43, 327, 3, 396, 31, 327, 432, 32, 327, 349, 43, 304, 896, 44, 304, 395, 43, 304]\n",
            "new token: [[341, 36, 327, 43, 304, 445, 938, 396, 950, 407, 39, 327, 46, 304, 48, 304, 354, 46, 298, 432, 935, 349, 32, 342, 935, 44, 298, 395, 43, 327, 3, 396, 31, 327, 432, 32, 327, 349, 43, 304, 896, 44, 304, 395, 43, 304, 341, 36, 327, 43, 304, 445, 938, 396, 950, 407, 39, 327, 46, 304, 48, 304, 354, 46, 298, 432, 935, 349, 32, 342, 935, 44, 298, 395, 43, 327, 3, 396, 31, 327, 432, 32, 327, 349, 43, 304, 896, 44, 304, 395, 43, 304, 789, 833, 249, 318, 172, 138, 204, 547, 547, 204, 547, 113, 412, 986, 835, 491, 582, 150, 584, 543, 192, 451, 451, 612, 531, 384, 612, 321, 185, 584, 636, 361, 361, 40, 975, 963, 644, 695, 960, 799, 101, 438, 960, 457, 960, 249, 961, 919, 827, 517, 428, 842, 332, 609, 119, 174, 384, 531, 525, 525, 892, 859, 354, 354, 531, 619, 161, 644, 644, 543, 192, 535, 508, 659, 562, 930, 625, 907, 292, 303, 303, 686, 511, 511, 165, 166, 490, 957, 22, 22, 358, 502, 751, 903, 898, 898, 898, 95, 930, 412, 550, 823, 144, 277, 70, 446, 686, 441, 59, 731, 930, 898, 132, 504, 441, 262, 619, 930, 119, 885, 790, 828, 150, 898, 898, 804, 532, 342, 772, 930, 412, 433, 150, 733, 601, 515, 246, 552, 757, 538, 900, 655, 763, 968, 968, 659, 659, 827, 565, 828, 876, 663, 663, 824, 609, 977, 73, 73, 910, 421, 619, 505, 757, 400, 344, 75, 644, 228, 228, 542, 738, 446, 232, 232, 98, 98, 990, 631, 876, 531, 619, 717, 553, 289, 956, 255, 513, 513, 598, 988, 71, 71, 644, 738, 548, 612, 421, 757, 408, 615, 154, 371, 416, 998, 393, 487, 898, 833, 511, 165, 55, 788, 429, 788, 549, 919, 888, 888, 320, 67, 817, 855, 855, 804, 959, 562, 562, 210, 243, 988, 601, 337, 445, 544, 6, 925, 903, 42, 782, 228, 228, 67, 245, 886, 169, 833, 249, 318, 722, 531, 930, 544, 544, 6, 462, 655, 252, 11, 11, 11, 930, 70, 130, 487, 874, 874, 223, 644, 930, 930, 898, 132, 683, 959, 132, 132, 88, 746, 734, 60, 460, 588, 295, 757, 370, 610, 659, 504, 359, 185, 972, 827, 827, 121, 892, 641, 55, 788, 289, 289, 174, 447, 890, 956, 930, 625, 447, 890, 411, 98, 990, 939, 604, 74, 503, 358, 502, 332, 550, 185, 503, 598, 598, 44, 44, 930, 654, 983, 961, 375, 465, 232, 636, 134, 147, 594, 487, 874, 670, 441, 280, 799, 757, 747, 596, 619, 144, 581, 106, 653, 49, 806, 464, 725, 429, 549, 289, 447, 64, 874, 182, 974, 790, 440, 578, 163, 681, 30, 30, 846, 888, 22, 282, 182, 357, 446, 445, 445, 445, 54, 937, 101, 438, 992, 508, 549, 549, 549, 976, 292, 504, 359, 560, 309, 670, 968, 525, 740, 852, 254, 219, 956, 930, 644, 644, 95, 192, 451, 584, 487, 859, 788, 742, 737, 460, 862, 361, 301, 49, 194, 788, 775, 465, 465, 440, 396, 738, 584, 782, 384, 722, 151, 595, 262, 896, 392, 957, 574, 609, 119, 380, 237, 118, 69, 900, 69, 900, 173, 460, 304, 304, 176, 639, 199, 43, 357, 589, 365, 616, 939, 289, 447, 914, 447, 277, 665, 232, 462, 503, 722, 722, 533, 492, 304, 492, 304, 789, 833, 731, 508, 754, 182, 295, 939, 380, 986, 269, 449, 695, 446, 446, 445, 543, 900, 625, 872, 169, 174, 174, 639, 529, 184, 520, 303, 761, 382, 382, 804, 532, 900, 96, 569]]\n"
          ]
        }
      ],
      "source": [
        "outputs = tf.Variable(outputs).numpy().tolist()\n",
        "print('old token:', token[0].ids)\n",
        "\n",
        "new_data = token\n",
        "new_data[0].ids = outputs\n",
        "\n",
        "print('new token:', new_data[0].ids)"
      ]
    },
    {
      "cell_type": "code",
      "execution_count": 30,
      "metadata": {
        "id": "F9bi0KN8J8k9"
      },
      "outputs": [],
      "source": [
        "generated_midi_filepath = '/content/gdrive/MyDrive/ala/REMI/generated_midi/2.mid' #@param {type:\"string\"}\n",
        "\n",
        "generated_midi = tokenizer(new_data[0].ids)\n",
        "generated_midi.dump(generated_midi_filepath)"
      ]
    },
    {
      "cell_type": "code",
      "source": [
        "def plot_piano_roll(pm, start_pitch, end_pitch, fs=100):\n",
        "    # Use librosa's specshow function for displaying the piano roll\n",
        "    librosa.display.specshow(pm.get_piano_roll(fs)[start_pitch:end_pitch],\n",
        "                             hop_length=1, sr=fs, x_axis='time', y_axis='cqt_note',\n",
        "                             fmin=pretty_midi.note_number_to_hz(start_pitch))"
      ],
      "metadata": {
        "id": "geMBou3ok6fJ"
      },
      "execution_count": 16,
      "outputs": []
    },
    {
      "cell_type": "code",
      "source": [
        "pm = PrettyMIDI(\"/content/gdrive/MyDrive/dummy/test midi/1.mid\")\n",
        "\n",
        "plt.figure(figsize=(8, 4))\n",
        "plot_piano_roll(pm, 56, 70)\n",
        "\n",
        "pm1 = PrettyMIDI(\"/content/gdrive/MyDrive/ala/REMI/generated_midi/2.mid\")\n",
        "\n",
        "plt.figure(figsize=(8, 4))\n",
        "plot_piano_roll(pm1, 56, 70)"
      ],
      "metadata": {
        "colab": {
          "base_uri": "https://localhost:8080/",
          "height": 794
        },
        "id": "apNz_1kKvBWl",
        "outputId": "ecc31ca6-cb9d-419b-b4cb-8b39e07c9ced"
      },
      "execution_count": 32,
      "outputs": [
        {
          "output_type": "stream",
          "name": "stderr",
          "text": [
            "<ipython-input-16-23356387cf61>:3: UserWarning: Frequency axis exceeds Nyquist. Did you remember to set all spectrogram parameters in specshow?\n",
            "  librosa.display.specshow(pm.get_piano_roll(fs)[start_pitch:end_pitch],\n"
          ]
        },
        {
          "output_type": "display_data",
          "data": {
            "text/plain": [
              "<Figure size 800x400 with 1 Axes>"
            ],
            "image/png": "[encoded data removed]"
          },
          "metadata": {}
        },
        {
          "output_type": "display_data",
          "data": {
            "text/plain": [
              "<Figure size 800x400 with 1 Axes>"
            ],
            "image/png": "[encoded data removed]"
          },
          "metadata": {}
        }
      ]
    },
    {
      "cell_type": "code",
      "source": [],
      "metadata": {
        "id": "Mh8JworWz3XH"
      },
      "execution_count": null,
      "outputs": []
    }
  ],
  "metadata": {
    "accelerator": "GPU",
    "colab": {
      "provenance": []
    },
    "gpuClass": "standard",
    "kernelspec": {
      "display_name": "Python 3",
      "name": "python3"
    },
    "language_info": {
      "name": "python"
    }
  },
  "nbformat": 4,
  "nbformat_minor": 0
}