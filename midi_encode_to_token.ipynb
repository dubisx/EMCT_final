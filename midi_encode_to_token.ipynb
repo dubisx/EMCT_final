{
 "cells": [
  {
   "attachments": {},
   "cell_type": "markdown",
   "metadata": {},
   "source": [
    "MIDI TOKENIZATION FOR MACHINE LEARNING"
   ]
  },
  {
   "cell_type": "code",
   "execution_count": 51,
   "metadata": {},
   "outputs": [],
   "source": [
    "from miditok import REMI, MIDILike\n",
    "from miditok.utils import get_midi_programs\n",
    "from miditoolkit import MidiFile\n",
    "from pathlib import Path\n"
   ]
  },
  {
   "attachments": {},
   "cell_type": "markdown",
   "metadata": {},
   "source": [
    "Initiate the tokenizer:"
   ]
  },
  {
   "cell_type": "code",
   "execution_count": 97,
   "metadata": {},
   "outputs": [],
   "source": [
    "#creates tokenizer\n",
    "tokenizer = MIDILike()"
   ]
  },
  {
   "attachments": {},
   "cell_type": "markdown",
   "metadata": {},
   "source": [
    "Paths to the dataset"
   ]
  },
  {
   "cell_type": "code",
   "execution_count": 103,
   "metadata": {},
   "outputs": [],
   "source": [
    "midi_paths = list(Path(\"C:/Users/simas/OneDrive/Desktop/alawais midi/midi dataset\").glob('**/*.mid'))"
   ]
  },
  {
   "cell_type": "markdown",
   "metadata": {},
   "source": [
    "Checking length of the dataset"
   ]
  },
  {
   "cell_type": "code",
   "execution_count": 106,
   "metadata": {},
   "outputs": [
    {
     "name": "stdout",
     "output_type": "stream",
     "text": [
      "708\n"
     ]
    }
   ],
   "source": [
    "print(len(midi_paths))"
   ]
  },
  {
   "attachments": {},
   "cell_type": "markdown",
   "metadata": {},
   "source": [
    "A validation of MIDI files - discarding data that is not usable for machine learning\n"
   ]
  },
  {
   "cell_type": "code",
   "execution_count": 107,
   "metadata": {},
   "outputs": [],
   "source": [
    "\n",
    "def midi_valid(midi) -> bool:\n",
    "    if any(ts.numerator != 4 for ts in midi.time_signature_changes):\n",
    "        return False  # time signature different from 4/*, 4 beats per bar\n",
    "    if midi.max_tick < 10 * midi.ticks_per_beat:\n",
    "        return False  # this MIDI is too short\n",
    "    return True"
   ]
  },
  {
   "attachments": {},
   "cell_type": "markdown",
   "metadata": {},
   "source": [
    "Converting MIDI to .json tokens"
   ]
  },
  {
   "cell_type": "code",
   "execution_count": 108,
   "metadata": {},
   "outputs": [
    {
     "name": "stderr",
     "output_type": "stream",
     "text": [
      "Tokenizing MIDIs (alawais midi/tokens_noBPE): 100%|██████████| 708/708 [00:07<00:00, 99.92it/s] \n",
      "Performing data augmentation: 100%|██████████| 26303/26303 [05:31<00:00, 79.40it/s] \n"
     ]
    }
   ],
   "source": [
    "data_augmentation_offsets = [2, 2, 1]   # will perform data augmentation on 2 pitch octaves,\n",
    "tokenizer.tokenize_midi_dataset(        # 2 velocity and 1 duration values\n",
    "    midi_paths,\n",
    "    Path(\"C:/Users/simas/OneDrive/Desktop/alawais midi/tokens_noBPE\"),\n",
    "    midi_valid,\n",
    "    data_augmentation_offsets\n",
    ")"
   ]
  },
  {
   "attachments": {},
   "cell_type": "markdown",
   "metadata": {},
   "source": [
    "Learning the vocabulary with Byte-Paired Encoding"
   ]
  },
  {
   "cell_type": "code",
   "execution_count": 112,
   "metadata": {},
   "outputs": [
    {
     "name": "stderr",
     "output_type": "stream",
     "text": [
      "Loading token files:  11%|█         | 21041/198390 [00:15<01:38, 1808.73it/s]"
     ]
    }
   ],
   "source": [
    "tokenizer.learn_bpe(\n",
    "    vocab_size=500,\n",
    "    tokens_paths=list(Path(\"C:/Users/simas/OneDrive/Desktop/alawais midi/tokens_noBPE\").glob('**/*.json')),\n",
    "    out_dir=Path('C:/Users/simas/OneDrive/Desktop/alawais midi/tokens_BPE')\n",
    ")"
   ]
  },
  {
   "attachments": {},
   "cell_type": "markdown",
   "metadata": {},
   "source": [
    "Converting the tokenized musics into tokens with BPE\n"
   ]
  },
  {
   "cell_type": "code",
   "execution_count": 110,
   "metadata": {},
   "outputs": [
    {
     "name": "stderr",
     "output_type": "stream",
     "text": [
      "Applying BPE to dataset: 100%|██████████| 198390/198390 [10:59<00:00, 300.98it/s]\n"
     ]
    }
   ],
   "source": [
    "tokenizer.apply_bpe_to_dataset(\n",
    "    Path(\"C:/Users/simas/OneDrive/Desktop/alawais midi/tokens_noBPE\"),\n",
    "    Path('C:/Users/simas/OneDrive/Desktop/alawais midi/tokens_BPE')\n",
    ")\n",
    "\n"
   ]
  },
  {
   "attachments": {},
   "cell_type": "markdown",
   "metadata": {},
   "source": []
  }
 ],
 "metadata": {
  "kernelspec": {
   "display_name": "base",
   "language": "python",
   "name": "python3"
  },
  "language_info": {
   "codemirror_mode": {
    "name": "ipython",
    "version": 3
   },
   "file_extension": ".py",
   "mimetype": "text/x-python",
   "name": "python",
   "nbconvert_exporter": "python",
   "pygments_lexer": "ipython3",
   "version": "3.9.7"
  },
  "orig_nbformat": 4
 },
 "nbformat": 4,
 "nbformat_minor": 2
}
