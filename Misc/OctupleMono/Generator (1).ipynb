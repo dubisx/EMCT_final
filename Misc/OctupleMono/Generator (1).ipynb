{
  "cells": [
    {
      "cell_type": "code",
      "execution_count": null,
      "metadata": {
        "colab": {
          "base_uri": "https://localhost:8080/"
        },
        "id": "n42cJmouxDxS",
        "outputId": "c2df530e-605b-4358-ee90-ada5075d81a5"
      },
      "outputs": [
        {
          "output_type": "stream",
          "name": "stdout",
          "text": [
            "Looking in indexes: https://pypi.org/simple, https://us-python.pkg.dev/colab-wheels/public/simple/\n",
            "Collecting miditok\n",
            "  Downloading miditok-2.0.5-py3-none-any.whl (94 kB)\n",
            "\u001b[2K     \u001b[90m━━━━━━━━━━━━━━━━━━━━━━━━━━━━━━━━━━━━━━━━\u001b[0m \u001b[32m94.4/94.4 kB\u001b[0m \u001b[31m9.9 MB/s\u001b[0m eta \u001b[36m0:00:00\u001b[0m\n",
            "\u001b[?25hRequirement already satisfied: tqdm in /usr/local/lib/python3.10/dist-packages (from miditok) (4.65.0)\n",
            "Requirement already satisfied: numpy<1.24,>=1.19 in /usr/local/lib/python3.10/dist-packages (from miditok) (1.22.4)\n",
            "Collecting miditoolkit>=0.1.16\n",
            "  Downloading miditoolkit-0.1.16-py3-none-any.whl (20 kB)\n",
            "Collecting mido>=1.1.16\n",
            "  Downloading mido-1.2.10-py2.py3-none-any.whl (51 kB)\n",
            "\u001b[2K     \u001b[90m━━━━━━━━━━━━━━━━━━━━━━━━━━━━━━━━━━━━━━━━\u001b[0m \u001b[32m51.1/51.1 kB\u001b[0m \u001b[31m8.6 MB/s\u001b[0m eta \u001b[36m0:00:00\u001b[0m\n",
            "\u001b[?25hInstalling collected packages: mido, miditoolkit, miditok\n",
            "Successfully installed miditok-2.0.5 miditoolkit-0.1.16 mido-1.2.10\n",
            "Looking in indexes: https://pypi.org/simple, https://us-python.pkg.dev/colab-wheels/public/simple/\n",
            "Collecting tokenizers\n",
            "  Downloading tokenizers-0.13.3-cp310-cp310-manylinux_2_17_x86_64.manylinux2014_x86_64.whl (7.8 MB)\n",
            "\u001b[2K     \u001b[90m━━━━━━━━━━━━━━━━━━━━━━━━━━━━━━━━━━━━━━━━\u001b[0m \u001b[32m7.8/7.8 MB\u001b[0m \u001b[31m107.9 MB/s\u001b[0m eta \u001b[36m0:00:00\u001b[0m\n",
            "\u001b[?25hInstalling collected packages: tokenizers\n",
            "Successfully installed tokenizers-0.13.3\n",
            "Looking in indexes: https://pypi.org/simple, https://us-python.pkg.dev/colab-wheels/public/simple/\n",
            "Collecting transformers\n",
            "  Downloading transformers-4.28.1-py3-none-any.whl (7.0 MB)\n",
            "\u001b[2K     \u001b[90m━━━━━━━━━━━━━━━━━━━━━━━━━━━━━━━━━━━━━━━━\u001b[0m \u001b[32m7.0/7.0 MB\u001b[0m \u001b[31m107.6 MB/s\u001b[0m eta \u001b[36m0:00:00\u001b[0m\n",
            "\u001b[?25hRequirement already satisfied: pyyaml>=5.1 in /usr/local/lib/python3.10/dist-packages (from transformers) (6.0)\n",
            "Collecting huggingface-hub<1.0,>=0.11.0\n",
            "  Downloading huggingface_hub-0.14.1-py3-none-any.whl (224 kB)\n",
            "\u001b[2K     \u001b[90m━━━━━━━━━━━━━━━━━━━━━━━━━━━━━━━━━━━━━━\u001b[0m \u001b[32m224.5/224.5 kB\u001b[0m \u001b[31m29.9 MB/s\u001b[0m eta \u001b[36m0:00:00\u001b[0m\n",
            "\u001b[?25hRequirement already satisfied: filelock in /usr/local/lib/python3.10/dist-packages (from transformers) (3.12.0)\n",
            "Requirement already satisfied: regex!=2019.12.17 in /usr/local/lib/python3.10/dist-packages (from transformers) (2022.10.31)\n",
            "Requirement already satisfied: requests in /usr/local/lib/python3.10/dist-packages (from transformers) (2.27.1)\n",
            "Requirement already satisfied: tokenizers!=0.11.3,<0.14,>=0.11.1 in /usr/local/lib/python3.10/dist-packages (from transformers) (0.13.3)\n",
            "Requirement already satisfied: tqdm>=4.27 in /usr/local/lib/python3.10/dist-packages (from transformers) (4.65.0)\n",
            "Requirement already satisfied: packaging>=20.0 in /usr/local/lib/python3.10/dist-packages (from transformers) (23.1)\n",
            "Requirement already satisfied: numpy>=1.17 in /usr/local/lib/python3.10/dist-packages (from transformers) (1.22.4)\n",
            "Requirement already satisfied: fsspec in /usr/local/lib/python3.10/dist-packages (from huggingface-hub<1.0,>=0.11.0->transformers) (2023.4.0)\n",
            "Requirement already satisfied: typing-extensions>=3.7.4.3 in /usr/local/lib/python3.10/dist-packages (from huggingface-hub<1.0,>=0.11.0->transformers) (4.5.0)\n",
            "Requirement already satisfied: idna<4,>=2.5 in /usr/local/lib/python3.10/dist-packages (from requests->transformers) (3.4)\n",
            "Requirement already satisfied: charset-normalizer~=2.0.0 in /usr/local/lib/python3.10/dist-packages (from requests->transformers) (2.0.12)\n",
            "Requirement already satisfied: certifi>=2017.4.17 in /usr/local/lib/python3.10/dist-packages (from requests->transformers) (2022.12.7)\n",
            "Requirement already satisfied: urllib3<1.27,>=1.21.1 in /usr/local/lib/python3.10/dist-packages (from requests->transformers) (1.26.15)\n",
            "Installing collected packages: huggingface-hub, transformers\n",
            "Successfully installed huggingface-hub-0.14.1 transformers-4.28.1\n"
          ]
        }
      ],
      "source": [
        "!pip install miditok\n",
        "!pip install tokenizers\n",
        "!pip install transformers\n",
        "\n",
        "import tensorflow as tf\n",
        "from tensorflow import keras\n",
        "import numpy\n",
        "import miditok\n",
        "import tqdm\n",
        "from miditok import MIDILike, MIDITokenizer, OctupleMono\n",
        "import pathlib\n",
        "from miditok.constants import CHORD_MAPS\n",
        "from transformers import TFGPT2LMHeadModel, GPT2Config, Trainer, TrainingArguments, GenerationConfig, pipeline\n",
        "from miditoolkit import MidiFile\n"
      ]
    },
    {
      "cell_type": "code",
      "execution_count": null,
      "metadata": {
        "colab": {
          "base_uri": "https://localhost:8080/"
        },
        "id": "n2JWQ_xsxafl",
        "outputId": "4cb563c6-0ad7-4107-d7ac-5d598855e2f3"
      },
      "outputs": [
        {
          "output_type": "stream",
          "name": "stdout",
          "text": [
            "Mounted at /content/gdrive\n"
          ]
        }
      ],
      "source": [
        "from google.colab import drive\n",
        "\n",
        "drive.mount('/content/gdrive', force_remount=True)"
      ]
    },
    {
      "cell_type": "code",
      "source": [
        "#creates tokenizer\n",
        "tokenizer = OctupleMono(params = \"/content/gdrive/MyDrive/dummy/config.txt\")\n",
        "\n",
        "# Creates model\n",
        "config = GPT2Config( \n",
        "    vocab_size=1000,\n",
        "    n_positions=4,\n",
        "    n_embd=64,\n",
        "    n_layer=4,\n",
        "    n_head=4,\n",
        "    n_inner=128,\n",
        "    resid_pdrop=.1,\n",
        "    embd_pdrop=.1,\n",
        "    attn_pdrop=.1,\n",
        "    padding_token_id=tokenizer[0, 'PAD_None'],\n",
        "    bos_token_id=tokenizer[0, 'BOS_None'],\n",
        "    eos_token_id=tokenizer[0, 'EOS_None'],\n",
        "\n",
        ")\n",
        "model = TFGPT2LMHeadModel(config)                      "
      ],
      "metadata": {
        "id": "063aByC8pLs0"
      },
      "execution_count": null,
      "outputs": []
    },
    {
      "cell_type": "code",
      "execution_count": null,
      "metadata": {
        "colab": {
          "base_uri": "https://localhost:8080/"
        },
        "id": "IiSFuHtzxS1T",
        "outputId": "3ff75a06-6920-495f-8a82-8a00df7ecee9"
      },
      "outputs": [
        {
          "output_type": "stream",
          "name": "stderr",
          "text": [
            "All model checkpoint layers were used when initializing TFGPT2LMHeadModel.\n",
            "\n",
            "All the layers of TFGPT2LMHeadModel were initialized from the model checkpoint at /content/gdrive/MyDrive/dummy/models/OCTMONO1.\n",
            "If your task is similar to the task the model of the checkpoint was trained on, you can already use TFGPT2LMHeadModel for predictions without further training.\n"
          ]
        },
        {
          "output_type": "execute_result",
          "data": {
            "text/plain": [
              "<transformers.models.gpt2.modeling_tf_gpt2.TFGPT2LMHeadModel at 0x7fb6415eb3d0>"
            ]
          },
          "metadata": {},
          "execution_count": 5
        }
      ],
      "source": [
        "model_path = \"/content/gdrive/MyDrive/dummy/models/OCTMONO1\"\n",
        "\n",
        "\n",
        "model.from_pretrained(model_path)"
      ]
    },
    {
      "cell_type": "code",
      "execution_count": null,
      "metadata": {
        "id": "mYt0t9gOyIAp"
      },
      "outputs": [],
      "source": [
        "# defining our optimizer\n",
        "optimizer = tf.keras.optimizers.Adam(learning_rate=3e-5, epsilon=1e-08, clipnorm=1.0)\n",
        "# definining our loss function\n",
        "loss = tf.keras.losses.SparseCategoricalCrossentropy(from_logits=True)\n",
        "# defining our metric which we want to observe\n",
        "metric = tf.keras.metrics.SparseCategoricalAccuracy('accuracy')\n",
        "# compiling the model\n",
        "model.compile(optimizer=optimizer, loss=[loss, *[None] * model.config.n_layer], metrics=[metric])"
      ]
    },
    {
      "cell_type": "code",
      "execution_count": null,
      "metadata": {
        "id": "STsgWikABOFk"
      },
      "outputs": [],
      "source": [
        "# from pathlib import Path\n",
        "# from miditok.utils import get_midi_programs\n",
        "# from miditoolkit import MidiFile\n",
        "\n",
        "# tokenizer.learn_bpe(\n",
        "#     vocab_size=1000,\n",
        "#     tokens_paths=list(Path(\"/content/gdrive/MyDrive/tokens_noBPE\").glob('**/*.json')),\n",
        "#     out_dir=Path('/content/gdrive/MyDrive/tokens_BPE')\n",
        "# )"
      ]
    },
    {
      "cell_type": "code",
      "execution_count": null,
      "metadata": {
        "id": "85P_-SIVlxGt"
      },
      "outputs": [],
      "source": [
        "midi_path = '/content/gdrive/MyDrive/dummy/test midi/1.mid'\n",
        "\n",
        "midi = MidiFile(midi_path)\n",
        "token = tokenizer(midi)  # automatically detects MidiFile, paths or tokens before converting them"
      ]
    },
    {
      "cell_type": "code",
      "execution_count": null,
      "metadata": {
        "colab": {
          "base_uri": "https://localhost:8080/"
        },
        "id": "YDjivfILD3wb",
        "outputId": "e761403b-dbda-4f2f-eb5c-05e10afef3ed"
      },
      "outputs": [
        {
          "output_type": "stream",
          "name": "stdout",
          "text": [
            "[TokSequence(tokens=[['Pitch_78', 'Velocity_99', 'Duration_0.2.8', 'Position_0', 'Bar_0', 'Tempo_141'], ['Pitch_83', 'Velocity_99', 'Duration_0.2.8', 'Position_0', 'Bar_0', 'Tempo_141'], ['Pitch_86', 'Velocity_99', 'Duration_0.2.8', 'Position_0', 'Bar_0', 'Tempo_141'], ['Pitch_78', 'Velocity_99', 'Duration_0.2.8', 'Position_12', 'Bar_0', 'Tempo_141'], ['Pitch_82', 'Velocity_99', 'Duration_0.2.8', 'Position_12', 'Bar_0', 'Tempo_141'], ['Pitch_86', 'Velocity_99', 'Duration_0.2.8', 'Position_12', 'Bar_0', 'Tempo_141'], ['Pitch_79', 'Velocity_99', 'Duration_0.2.8', 'Position_24', 'Bar_0', 'Tempo_141'], ['Pitch_83', 'Velocity_99', 'Duration_0.2.8', 'Position_24', 'Bar_0', 'Tempo_141'], ['Pitch_86', 'Velocity_99', 'Duration_0.2.8', 'Position_24', 'Bar_0', 'Tempo_141'], ['Pitch_76', 'Velocity_99', 'Duration_0.2.8', 'Position_8', 'Bar_1', 'Tempo_141'], ['Pitch_82', 'Velocity_99', 'Duration_0.2.8', 'Position_8', 'Bar_1', 'Tempo_141']], ids=[[60, 27, 4, 3, 3, 18], [65, 27, 4, 3, 3, 18], [68, 27, 4, 3, 3, 18], [60, 27, 4, 15, 3, 18], [64, 27, 4, 15, 3, 18], [68, 27, 4, 15, 3, 18], [61, 27, 4, 27, 3, 18], [65, 27, 4, 27, 3, 18], [68, 27, 4, 27, 3, 18], [58, 27, 4, 11, 4, 18], [64, 27, 4, 11, 4, 18]], bytes=None, events=None, ids_bpe_encoded=False, _ids_no_bpe=None)]\n",
            "[[60, 27, 4, 3, 3, 18], [65, 27, 4, 3, 3, 18], [68, 27, 4, 3, 3, 18], [60, 27, 4, 15, 3, 18], [64, 27, 4, 15, 3, 18], [68, 27, 4, 15, 3, 18], [61, 27, 4, 27, 3, 18], [65, 27, 4, 27, 3, 18], [68, 27, 4, 27, 3, 18], [58, 27, 4, 11, 4, 18], [64, 27, 4, 11, 4, 18]]\n"
          ]
        },
        {
          "output_type": "execute_result",
          "data": {
            "text/plain": [
              "11"
            ]
          },
          "metadata": {},
          "execution_count": 9
        }
      ],
      "source": [
        "print(token)\n",
        "print(token[0].ids)\n",
        "len(token[0].ids)"
      ]
    },
    {
      "cell_type": "code",
      "execution_count": null,
      "metadata": {
        "id": "HcJAown6mytC"
      },
      "outputs": [],
      "source": [
        "# savetok = Path('/content/gdrive/MyDrive/example midi/token2.json')\n",
        "\n",
        "# tokenizer.save_tokens(token, savetok)"
      ]
    },
    {
      "cell_type": "code",
      "execution_count": null,
      "metadata": {
        "id": "LhK9J3caWIbI"
      },
      "outputs": [],
      "source": [
        "# import os, json\n",
        "\n",
        "# json_token = '/content/gdrive/MyDrive/example midi/token2.json'\n",
        "\n",
        "# i = open(json_token)\n",
        "\n",
        "# data = json.load(i)"
      ]
    },
    {
      "cell_type": "code",
      "execution_count": null,
      "metadata": {
        "id": "GEEpNQuMn1mr"
      },
      "outputs": [],
      "source": [
        "# import json\n",
        "# import os\n",
        "\n",
        "# directory = '/content/gdrive/MyDrive/example midi/tokens/'\n",
        "\n",
        "\n",
        "# for fname in os.listdir(directory):                     # for each file in the directory\n",
        "#     with open(os.path.join(directory, fname)) as i:     # open the file\n",
        "#         data = json.load(i)   "
      ]
    },
    {
      "cell_type": "code",
      "execution_count": null,
      "metadata": {
        "id": "zq92oHA38voP"
      },
      "outputs": [],
      "source": [
        "# print(data)"
      ]
    },
    {
      "cell_type": "code",
      "execution_count": null,
      "metadata": {
        "id": "q6QqZy8cBBta"
      },
      "outputs": [],
      "source": [
        "prompt = [token[0].ids]\n",
        "\n"
      ]
    },
    {
      "cell_type": "code",
      "source": [
        "tf.shape(prompt)"
      ],
      "metadata": {
        "colab": {
          "base_uri": "https://localhost:8080/"
        },
        "id": "wWCbqOgj9MlV",
        "outputId": "3e6f32a0-9c82-4994-e3b5-03a3c79d9ad7"
      },
      "execution_count": null,
      "outputs": [
        {
          "output_type": "execute_result",
          "data": {
            "text/plain": [
              "<tf.Tensor: shape=(3,), dtype=int32, numpy=array([ 1, 11,  6], dtype=int32)>"
            ]
          },
          "metadata": {},
          "execution_count": 16
        }
      ]
    },
    {
      "cell_type": "code",
      "source": [
        "prompt = tf.constant(prompt)  # Convert prompt to a 2D tensor"
      ],
      "metadata": {
        "id": "_oZQ4RDCOOOm"
      },
      "execution_count": null,
      "outputs": []
    },
    {
      "cell_type": "code",
      "source": [
        "prompt = tf.Variable(prompt).numpy().tolist()\n",
        "\n",
        "prompt"
      ],
      "metadata": {
        "colab": {
          "base_uri": "https://localhost:8080/"
        },
        "id": "aQWCxsbtOSSx",
        "outputId": "ac12e602-5358-45bc-d296-c74d2f9df112"
      },
      "execution_count": null,
      "outputs": [
        {
          "output_type": "execute_result",
          "data": {
            "text/plain": [
              "[[[60, 27, 4, 3, 3, 18],\n",
              "  [65, 27, 4, 3, 3, 18],\n",
              "  [68, 27, 4, 3, 3, 18],\n",
              "  [60, 27, 4, 15, 3, 18],\n",
              "  [64, 27, 4, 15, 3, 18],\n",
              "  [68, 27, 4, 15, 3, 18],\n",
              "  [61, 27, 4, 27, 3, 18],\n",
              "  [65, 27, 4, 27, 3, 18],\n",
              "  [68, 27, 4, 27, 3, 18],\n",
              "  [58, 27, 4, 11, 4, 18],\n",
              "  [64, 27, 4, 11, 4, 18]]]"
            ]
          },
          "metadata": {},
          "execution_count": 24
        }
      ]
    },
    {
      "cell_type": "code",
      "execution_count": null,
      "metadata": {
        "id": "9Tu0912A0Mqu"
      },
      "outputs": [],
      "source": [
        "generation_config = GenerationConfig(\n",
        "    max_new_tokens=512,  # extends samples by 512 tokens\n",
        "    num_beams=1,        # no beam search\n",
        "    do_sample=True,     # but sample instead\n",
        "    temperature=0.9,\n",
        "    top_k=15,\n",
        "    top_p=0.95,\n",
        "    epsilon_cutoff=3e-4,\n",
        "    eta_cutoff=1e-3,\n",
        ")"
      ]
    },
    {
      "cell_type": "code",
      "execution_count": null,
      "metadata": {
        "id": "6pPuCSZ7o68Q",
        "colab": {
          "base_uri": "https://localhost:8080/",
          "height": 328
        },
        "outputId": "df7bafcb-7c1a-41cc-9383-38b442b037ff"
      },
      "outputs": [
        {
          "output_type": "error",
          "ename": "ValueError",
          "evalue": "ignored",
          "traceback": [
            "\u001b[0;31m---------------------------------------------------------------------------\u001b[0m",
            "\u001b[0;31mValueError\u001b[0m                                Traceback (most recent call last)",
            "\u001b[0;32m<ipython-input-26-2532e692b0ff>\u001b[0m in \u001b[0;36m<cell line: 1>\u001b[0;34m()\u001b[0m\n\u001b[0;32m----> 1\u001b[0;31m \u001b[0moutputs\u001b[0m \u001b[0;34m=\u001b[0m \u001b[0mmodel\u001b[0m\u001b[0;34m.\u001b[0m\u001b[0mgenerate\u001b[0m\u001b[0;34m(\u001b[0m\u001b[0mprompt\u001b[0m\u001b[0;34m,\u001b[0m \u001b[0mgeneration_config\u001b[0m\u001b[0;34m)\u001b[0m\u001b[0;34m\u001b[0m\u001b[0;34m\u001b[0m\u001b[0m\n\u001b[0m",
            "\u001b[0;32m/usr/local/lib/python3.10/dist-packages/transformers/generation/tf_utils.py\u001b[0m in \u001b[0;36mgenerate\u001b[0;34m(self, inputs, generation_config, logits_processor, seed, **kwargs)\u001b[0m\n\u001b[1;32m    965\u001b[0m \u001b[0;34m\u001b[0m\u001b[0m\n\u001b[1;32m    966\u001b[0m             \u001b[0;31m# 13. run sample\u001b[0m\u001b[0;34m\u001b[0m\u001b[0;34m\u001b[0m\u001b[0m\n\u001b[0;32m--> 967\u001b[0;31m             return self.sample(\n\u001b[0m\u001b[1;32m    968\u001b[0m                 \u001b[0minput_ids\u001b[0m\u001b[0;34m,\u001b[0m\u001b[0;34m\u001b[0m\u001b[0;34m\u001b[0m\u001b[0m\n\u001b[1;32m    969\u001b[0m                 \u001b[0mlogits_processor\u001b[0m\u001b[0;34m=\u001b[0m\u001b[0mlogits_processor\u001b[0m\u001b[0;34m,\u001b[0m\u001b[0;34m\u001b[0m\u001b[0;34m\u001b[0m\u001b[0m\n",
            "\u001b[0;32m/usr/local/lib/python3.10/dist-packages/transformers/generation/tf_utils.py\u001b[0m in \u001b[0;36msample\u001b[0;34m(self, input_ids, logits_processor, logits_warper, max_length, pad_token_id, eos_token_id, seed, output_attentions, output_hidden_states, output_scores, return_dict_in_generate, **model_kwargs)\u001b[0m\n\u001b[1;32m   1910\u001b[0m \u001b[0;34m\u001b[0m\u001b[0m\n\u001b[1;32m   1911\u001b[0m         \u001b[0;31m# 3. init tensors to use for \"xla-compileable\" generate function\u001b[0m\u001b[0;34m\u001b[0m\u001b[0;34m\u001b[0m\u001b[0m\n\u001b[0;32m-> 1912\u001b[0;31m         \u001b[0mbatch_size\u001b[0m\u001b[0;34m,\u001b[0m \u001b[0mcur_len\u001b[0m \u001b[0;34m=\u001b[0m \u001b[0mshape_list\u001b[0m\u001b[0;34m(\u001b[0m\u001b[0minput_ids\u001b[0m\u001b[0;34m)\u001b[0m\u001b[0;34m\u001b[0m\u001b[0;34m\u001b[0m\u001b[0m\n\u001b[0m\u001b[1;32m   1913\u001b[0m \u001b[0;34m\u001b[0m\u001b[0m\n\u001b[1;32m   1914\u001b[0m         \u001b[0;31m# initialize `generated` (pre-populated with `pad_token_id`), `finished_sequences`\u001b[0m\u001b[0;34m\u001b[0m\u001b[0;34m\u001b[0m\u001b[0m\n",
            "\u001b[0;31mValueError\u001b[0m: too many values to unpack (expected 2)"
          ]
        }
      ],
      "source": [
        "outputs = model.generate(prompt, generation_config)"
      ]
    },
    {
      "cell_type": "code",
      "execution_count": null,
      "metadata": {
        "colab": {
          "base_uri": "https://localhost:8080/"
        },
        "id": "wx75G9Em0Itt",
        "outputId": "1aa07aae-b1b4-4a8f-fd0b-1e27e5f6a4b6"
      },
      "outputs": [
        {
          "output_type": "stream",
          "name": "stdout",
          "text": [
            "old token: [328, 15, 205, 27, 205, 51, 343, 39, 201, 42, 427, 430, 54, 204, 231, 886, 130, 714, 991, 614, 11, 205, 23, 615, 35, 202, 400, 53, 700, 42, 204, 231, 123, 683, 127, 738, 99, 111, 8, 205, 20, 615, 294, 32, 205, 35, 359, 39, 751, 700, 637, 224, 56, 351, 54, 344, 475, 96, 108, 10, 205, 22, 205, 53, 344, 142, 142, 216, 120, 974, 127, 130, 217, 141, 605, 226, 98, 110, 139, 15, 205, 27, 615, 39, 201, 42, 427, 430, 54, 204, 231, 886, 130, 714, 991, 142, 11, 205, 23, 615, 35, 202, 400, 56, 700, 42, 204, 231, 123, 753, 127, 738, 99, 111, 8, 205, 20, 615, 294, 32, 205, 35, 359, 39, 751, 700, 58, 207, 232, 96, 108, 10, 205, 22, 615, 120, 974, 127, 738, 146, 232, 98, 110, 15, 205, 27, 205, 51, 343, 39, 201, 42, 427, 430, 54, 204, 231, 886, 130, 714, 991, 614, 11, 205, 23, 615, 35, 202, 400, 53, 700, 42, 204, 231, 123, 683, 127, 738, 99, 111, 8, 205, 20, 615, 294, 32, 205, 35, 359, 39, 751, 700, 637, 224, 56, 351, 54, 344, 475, 96, 108, 10, 205, 22, 205, 53, 344, 142, 142, 216, 120, 974, 127, 130, 217, 141, 605, 226, 98, 110, 139, 15, 205, 27, 615, 39, 201, 42, 427, 430, 54, 204, 231, 886, 130, 714, 991, 142, 11, 205, 23, 615, 35, 202, 400, 56, 700, 42, 204, 231, 123, 753, 127, 738, 99, 111, 8, 205, 20, 615, 294, 32, 205, 35, 359, 39, 751, 700, 58, 207, 232, 96, 108, 10, 205, 22, 615, 120, 974, 127, 738, 146, 232, 98, 110, 15, 205, 27, 205, 51, 343, 39, 201, 42, 427, 430, 54, 204, 231, 886, 130, 714, 991, 614, 11, 205, 23, 615, 35, 202, 400, 53, 700, 42, 204, 231, 123, 683, 127, 738, 99, 111, 8, 205, 20, 615, 294, 32, 205, 35, 359, 39, 751, 700, 637, 224, 56, 351, 54, 344, 475, 96, 108, 10, 205, 22, 205, 53, 344, 142, 142, 216, 120, 974, 127, 130, 217, 141, 605, 226, 98, 110, 139, 15, 205, 27, 615, 39, 201, 42, 427, 430, 54, 204, 231, 886, 130, 714, 991, 142, 11, 205, 23, 615, 35, 202, 400, 56, 700, 42, 204, 231, 123, 753, 127, 738, 99, 111, 8, 205, 20, 615, 294, 32, 205, 35, 359, 39, 751, 700, 58, 207, 232, 96, 108, 10, 205, 22, 615, 120, 974, 127, 738, 146, 232, 98, 110]\n",
            "new token: [[328, 15, 205, 27, 205, 51, 343, 39, 201, 42, 427, 430, 54, 204, 231, 886, 130, 714, 991, 614, 11, 205, 23, 615, 35, 202, 400, 53, 700, 42, 204, 231, 123, 683, 127, 738, 99, 111, 8, 205, 20, 615, 294, 32, 205, 35, 359, 39, 751, 700, 637, 224, 56, 351, 54, 344, 475, 96, 108, 10, 205, 22, 205, 53, 344, 142, 142, 216, 120, 974, 127, 130, 217, 141, 605, 226, 98, 110, 139, 15, 205, 27, 615, 39, 201, 42, 427, 430, 54, 204, 231, 886, 130, 714, 991, 142, 11, 205, 23, 615, 35, 202, 400, 56, 700, 42, 204, 231, 123, 753, 127, 738, 99, 111, 8, 205, 20, 615, 294, 32, 205, 35, 359, 39, 751, 700, 58, 207, 232, 96, 108, 10, 205, 22, 615, 120, 974, 127, 738, 146, 232, 98, 110, 15, 205, 27, 205, 51, 343, 39, 201, 42, 427, 430, 54, 204, 231, 886, 130, 714, 991, 614, 11, 205, 23, 615, 35, 202, 400, 53, 700, 42, 204, 231, 123, 683, 127, 738, 99, 111, 8, 205, 20, 615, 294, 32, 205, 35, 359, 39, 751, 700, 637, 224, 56, 351, 54, 344, 475, 96, 108, 10, 205, 22, 205, 53, 344, 142, 142, 216, 120, 974, 127, 130, 217, 141, 605, 226, 98, 110, 139, 15, 205, 27, 615, 39, 201, 42, 427, 430, 54, 204, 231, 886, 130, 714, 991, 142, 11, 205, 23, 615, 35, 202, 400, 56, 700, 42, 204, 231, 123, 753, 127, 738, 99, 111, 8, 205, 20, 615, 294, 32, 205, 35, 359, 39, 751, 700, 58, 207, 232, 96, 108, 10, 205, 22, 615, 120, 974, 127, 738, 146, 232, 98, 110, 15, 205, 27, 205, 51, 343, 39, 201, 42, 427, 430, 54, 204, 231, 886, 130, 714, 991, 614, 11, 205, 23, 615, 35, 202, 400, 53, 700, 42, 204, 231, 123, 683, 127, 738, 99, 111, 8, 205, 20, 615, 294, 32, 205, 35, 359, 39, 751, 700, 637, 224, 56, 351, 54, 344, 475, 96, 108, 10, 205, 22, 205, 53, 344, 142, 142, 216, 120, 974, 127, 130, 217, 141, 605, 226, 98, 110, 139, 15, 205, 27, 615, 39, 201, 42, 427, 430, 54, 204, 231, 886, 130, 714, 991, 142, 11, 205, 23, 615, 35, 202, 400, 56, 700, 42, 204, 231, 123, 753, 127, 738, 99, 111, 8, 205, 20, 615, 294, 32, 205, 35, 359, 39, 751, 700, 58, 207, 232, 96, 108, 10, 205, 22, 615, 120, 974, 127, 738, 146, 232, 98, 110, 792, 669, 955, 318, 711, 926, 878, 97, 715, 675, 166, 236, 36, 988, 887, 276, 235, 619, 114, 731, 977, 834, 798, 798, 508, 145, 378, 804, 294, 468, 850, 71, 151, 804, 257, 40, 49, 38, 563, 563, 23, 145, 931, 722, 177, 510, 508, 697, 701, 834, 620, 732, 441, 675, 699, 840, 213, 213, 840, 777, 897, 687, 715, 935, 332, 977, 569, 126, 368, 668, 707, 252, 51, 510, 804, 428, 318, 145, 253, 157, 285, 166, 579, 579, 637, 579, 269, 177, 598, 223, 366, 840, 840, 366, 850, 516, 662, 662, 617, 151, 665, 665, 715, 715, 935, 784, 699, 366, 931, 754, 834, 600, 640, 136, 136, 136, 206, 619, 244, 244, 801, 876, 44, 97, 299, 12, 850, 71, 221, 221, 257, 850, 637, 157, 614, 179, 170, 152, 82, 778, 778, 579, 551, 711, 696, 696, 988, 164, 164, 322, 136, 365, 398, 124, 408, 992, 977, 145, 931, 600, 395, 145, 340, 406, 848, 666, 434, 668, 855, 86, 283, 805, 124, 752, 426, 426, 976, 410, 109, 75, 41, 580, 525, 754, 145, 925, 34, 520, 498, 217, 498, 988, 988, 219, 459, 459, 550, 719, 224, 719, 582, 682, 682, 276, 768, 516, 924, 104, 226, 226, 789, 145, 896, 660, 86, 807, 328, 600, 635, 369, 795, 505, 929, 929, 63, 312, 294, 468, 468, 675, 600, 130, 635, 498, 498, 498, 219, 322, 827, 665, 592, 592, 894, 86, 86, 294, 105, 565, 262, 577, 788, 41, 580, 294, 468, 468, 468, 192, 44, 217, 217, 635, 141, 166, 140, 346, 362, 997, 86, 464, 269, 223, 675, 853, 192, 366, 560, 205, 945, 945, 310, 491, 294, 340, 406, 848, 666, 15, 358, 603, 919, 579, 579, 976, 94, 155, 139, 557, 525, 675, 579, 294, 340, 373, 666, 92, 14, 23, 777, 777, 145, 141, 669, 853, 669, 955, 105, 932, 699, 113, 919, 889, 637, 223, 223, 294, 840, 844, 3, 3, 606, 606, 489, 131, 71, 669, 233, 797, 918, 426, 751, 681, 681, 906, 977, 503, 798, 369, 574, 51, 739, 580, 352, 164, 784, 298, 769, 395, 163, 706, 97, 97, 97, 715, 976, 626, 850, 887, 886, 145, 657, 637, 504, 59, 277, 925, 373, 883, 883, 586, 368, 216, 363, 318, 600, 878, 699, 192, 850, 288, 219, 179, 899, 941, 805, 886, 714, 299, 224, 113, 601, 826, 506, 506, 23, 23, 23, 44, 652, 44, 44, 141, 669, 669, 669, 340, 560, 699, 167, 814, 852, 310, 187, 340, 848, 964, 817, 223, 164, 784, 340, 395, 340, 385, 992, 626, 525, 610, 699, 699, 523, 406, 406, 809, 666, 669, 115, 328, 458, 925, 373, 167, 365, 721, 971, 641, 428, 86, 417, 219, 589, 936, 579, 84, 511, 117, 223, 223, 117, 639, 464, 919, 604, 604, 809, 408, 408, 976, 385, 385, 240, 27, 27, 416, 353, 406, 925, 666, 434, 434, 675, 166, 887, 718, 294, 859, 859, 92, 214, 100, 51, 145, 248, 216, 760, 555, 39, 522, 252, 571, 925, 340]]\n"
          ]
        }
      ],
      "source": [
        "outputs = tf.Variable(outputs).numpy().tolist()\n",
        "print('old token:', token[0].ids)\n",
        "\n",
        "new_data = token\n",
        "new_data[0].ids = outputs\n",
        "\n",
        "print('new token:', new_data[0].ids)"
      ]
    },
    {
      "cell_type": "markdown",
      "metadata": {
        "id": "qmV513R79ZXF"
      },
      "source": [
        "Not sure what the issue is, as the data seems to be in the correct type.\n",
        "\n"
      ]
    },
    {
      "cell_type": "markdown",
      "metadata": {
        "id": "u2zH0d9v57pA"
      },
      "source": [
        "Tried changing architecture, as suggested, however now I am getting this error.\n"
      ]
    },
    {
      "cell_type": "code",
      "execution_count": null,
      "metadata": {
        "id": "F9bi0KN8J8k9"
      },
      "outputs": [],
      "source": [
        "programs = get_midi_programs(midi)\n",
        "generated_midi = tokenizer(new_data[0].ids, programs=programs)\n",
        "\n",
        "generated_midi.dump('/content/gdrive/MyDrive/example midi/file.mid')"
      ]
    }
  ],
  "metadata": {
    "accelerator": "GPU",
    "colab": {
      "provenance": []
    },
    "gpuClass": "standard",
    "kernelspec": {
      "display_name": "Python 3",
      "name": "python3"
    },
    "language_info": {
      "name": "python"
    }
  },
  "nbformat": 4,
  "nbformat_minor": 0
}