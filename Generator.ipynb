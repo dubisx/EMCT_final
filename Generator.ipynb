{
  "nbformat": 4,
  "nbformat_minor": 0,
  "metadata": {
    "colab": {
      "provenance": [],
      "authorship_tag": "ABX9TyMREbX1cFXDshiJPG3tKLNQ",
      "include_colab_link": true
    },
    "kernelspec": {
      "name": "python3",
      "display_name": "Python 3"
    },
    "language_info": {
      "name": "python"
    },
    "accelerator": "GPU",
    "gpuClass": "standard"
  },
  "cells": [
    {
      "cell_type": "markdown",
      "metadata": {
        "id": "view-in-github",
        "colab_type": "text"
      },
      "source": [
        "<a href=\"https://colab.research.google.com/github/dubisx/EMCT_final/blob/main/Generator.ipynb\" target=\"_parent\"><img src=\"https://colab.research.google.com/assets/colab-badge.svg\" alt=\"Open In Colab\"/></a>"
      ]
    },
    {
      "cell_type": "code",
      "execution_count": 3,
      "metadata": {
        "colab": {
          "base_uri": "https://localhost:8080/"
        },
        "id": "n42cJmouxDxS",
        "outputId": "57efa543-6e5f-4041-cec7-65269f057284"
      },
      "outputs": [
        {
          "output_type": "stream",
          "name": "stdout",
          "text": [
            "Looking in indexes: https://pypi.org/simple, https://us-python.pkg.dev/colab-wheels/public/simple/\n",
            "Collecting miditok\n",
            "  Downloading miditok-2.0.3-py3-none-any.whl (93 kB)\n",
            "\u001b[?25l     \u001b[90m━━━━━━━━━━━━━━━━━━━━━━━━━━━━━━━━━━━━━━━━\u001b[0m \u001b[32m0.0/93.7 kB\u001b[0m \u001b[31m?\u001b[0m eta \u001b[36m-:--:--\u001b[0m\r\u001b[2K     \u001b[90m━━━━━━━━━━━━━━━━━━━━━━━━━━━━━━━━━━━━━━━━\u001b[0m \u001b[32m93.7/93.7 kB\u001b[0m \u001b[31m4.3 MB/s\u001b[0m eta \u001b[36m0:00:00\u001b[0m\n",
            "\u001b[?25hRequirement already satisfied: numpy<1.24,>=1.19 in /usr/local/lib/python3.9/dist-packages (from miditok) (1.22.4)\n",
            "Collecting miditoolkit>=0.1.16\n",
            "  Downloading miditoolkit-0.1.16-py3-none-any.whl (20 kB)\n",
            "Requirement already satisfied: tqdm in /usr/local/lib/python3.9/dist-packages (from miditok) (4.65.0)\n",
            "Collecting mido>=1.1.16\n",
            "  Downloading mido-1.2.10-py2.py3-none-any.whl (51 kB)\n",
            "\u001b[2K     \u001b[90m━━━━━━━━━━━━━━━━━━━━━━━━━━━━━━━━━━━━━━━━\u001b[0m \u001b[32m51.1/51.1 kB\u001b[0m \u001b[31m7.2 MB/s\u001b[0m eta \u001b[36m0:00:00\u001b[0m\n",
            "\u001b[?25hInstalling collected packages: mido, miditoolkit, miditok\n",
            "Successfully installed miditok-2.0.3 miditoolkit-0.1.16 mido-1.2.10\n",
            "Looking in indexes: https://pypi.org/simple, https://us-python.pkg.dev/colab-wheels/public/simple/\n",
            "Collecting tokenizers\n",
            "  Downloading tokenizers-0.13.3-cp39-cp39-manylinux_2_17_x86_64.manylinux2014_x86_64.whl (7.8 MB)\n",
            "\u001b[2K     \u001b[90m━━━━━━━━━━━━━━━━━━━━━━━━━━━━━━━━━━━━━━━━\u001b[0m \u001b[32m7.8/7.8 MB\u001b[0m \u001b[31m55.6 MB/s\u001b[0m eta \u001b[36m0:00:00\u001b[0m\n",
            "\u001b[?25hInstalling collected packages: tokenizers\n",
            "Successfully installed tokenizers-0.13.3\n",
            "Looking in indexes: https://pypi.org/simple, https://us-python.pkg.dev/colab-wheels/public/simple/\n",
            "Collecting transformers\n",
            "  Downloading transformers-4.28.1-py3-none-any.whl (7.0 MB)\n",
            "\u001b[2K     \u001b[90m━━━━━━━━━━━━━━━━━━━━━━━━━━━━━━━━━━━━━━━━\u001b[0m \u001b[32m7.0/7.0 MB\u001b[0m \u001b[31m49.6 MB/s\u001b[0m eta \u001b[36m0:00:00\u001b[0m\n",
            "\u001b[?25hRequirement already satisfied: requests in /usr/local/lib/python3.9/dist-packages (from transformers) (2.27.1)\n",
            "Requirement already satisfied: packaging>=20.0 in /usr/local/lib/python3.9/dist-packages (from transformers) (23.1)\n",
            "Requirement already satisfied: tqdm>=4.27 in /usr/local/lib/python3.9/dist-packages (from transformers) (4.65.0)\n",
            "Requirement already satisfied: numpy>=1.17 in /usr/local/lib/python3.9/dist-packages (from transformers) (1.22.4)\n",
            "Requirement already satisfied: filelock in /usr/local/lib/python3.9/dist-packages (from transformers) (3.11.0)\n",
            "Collecting huggingface-hub<1.0,>=0.11.0\n",
            "  Downloading huggingface_hub-0.14.1-py3-none-any.whl (224 kB)\n",
            "\u001b[2K     \u001b[90m━━━━━━━━━━━━━━━━━━━━━━━━━━━━━━━━━━━━━━\u001b[0m \u001b[32m224.5/224.5 kB\u001b[0m \u001b[31m26.0 MB/s\u001b[0m eta \u001b[36m0:00:00\u001b[0m\n",
            "\u001b[?25hRequirement already satisfied: pyyaml>=5.1 in /usr/local/lib/python3.9/dist-packages (from transformers) (6.0)\n",
            "Requirement already satisfied: tokenizers!=0.11.3,<0.14,>=0.11.1 in /usr/local/lib/python3.9/dist-packages (from transformers) (0.13.3)\n",
            "Requirement already satisfied: regex!=2019.12.17 in /usr/local/lib/python3.9/dist-packages (from transformers) (2022.10.31)\n",
            "Requirement already satisfied: fsspec in /usr/local/lib/python3.9/dist-packages (from huggingface-hub<1.0,>=0.11.0->transformers) (2023.4.0)\n",
            "Requirement already satisfied: typing-extensions>=3.7.4.3 in /usr/local/lib/python3.9/dist-packages (from huggingface-hub<1.0,>=0.11.0->transformers) (4.5.0)\n",
            "Requirement already satisfied: certifi>=2017.4.17 in /usr/local/lib/python3.9/dist-packages (from requests->transformers) (2022.12.7)\n",
            "Requirement already satisfied: idna<4,>=2.5 in /usr/local/lib/python3.9/dist-packages (from requests->transformers) (3.4)\n",
            "Requirement already satisfied: urllib3<1.27,>=1.21.1 in /usr/local/lib/python3.9/dist-packages (from requests->transformers) (1.26.15)\n",
            "Requirement already satisfied: charset-normalizer~=2.0.0 in /usr/local/lib/python3.9/dist-packages (from requests->transformers) (2.0.12)\n",
            "Installing collected packages: huggingface-hub, transformers\n",
            "Successfully installed huggingface-hub-0.14.1 transformers-4.28.1\n"
          ]
        }
      ],
      "source": [
        "!pip install miditok\n",
        "!pip install tokenizers\n",
        "!pip install transformers\n",
        "\n",
        "import tensorflow as tf\n",
        "from tensorflow import keras\n",
        "import numpy\n",
        "import miditok\n",
        "import tqdm\n",
        "from miditok import MIDILike, MIDITokenizer, REMI\n",
        "import pathlib\n",
        "from miditok.constants import CHORD_MAPS\n",
        "from transformers import TFGPT2LMHeadModel, GPT2Config, Trainer, TrainingArguments, GenerationConfig, pipeline"
      ]
    },
    {
      "cell_type": "code",
      "source": [
        "from google.colab import drive\n",
        "\n",
        "drive.mount('/content/gdrive', force_remount=True)"
      ],
      "metadata": {
        "colab": {
          "base_uri": "https://localhost:8080/"
        },
        "id": "n2JWQ_xsxafl",
        "outputId": "2a3fb85b-57ed-4ccb-a7a2-853176dcb370"
      },
      "execution_count": 2,
      "outputs": [
        {
          "output_type": "stream",
          "name": "stdout",
          "text": [
            "Mounted at /content/gdrive\n"
          ]
        }
      ]
    },
    {
      "cell_type": "code",
      "source": [
        "model_path = \"/content/gdrive/MyDrive/model_f/model2/\"\n",
        "\n",
        "pitch_range = range(21, 109)\n",
        "beat_res = {(0, 4): 8, (4, 12): 4}\n",
        "nb_velocities = 32\n",
        "additional_tokens = {'Chord': True, 'Rest': True, 'Tempo': True,\n",
        "                     'rest_range': (2, 8),  # (half, 8 beats)\n",
        "                     'nb_tempos': 32,  # nb of tempo bins\n",
        "                     'tempo_range': (40, 250),  # (min, max)\n",
        "                     'Program': False,\n",
        "                     \"chord_maps\": CHORD_MAPS,\n",
        "                     \"chord_tokens_with_root_note\": True,\n",
        "                     \"chord_unknown\": False}\n",
        "special_tokens = [\"PAD\", \"BOS\", \"EOS\"]\n",
        "\n",
        "tokenizer = MIDILike(pitch_range, beat_res, nb_velocities, additional_tokens, special_tokens=special_tokens)\n",
        "\n",
        "print('Loading the model...')\n",
        "\n",
        "config = GPT2Config(\n",
        "    vocab_size=1000,\n",
        "    n_positions=2048,\n",
        "    n_embd=512,\n",
        "    n_layer=8,\n",
        "    n_head=8,\n",
        "    n_inner=2048,\n",
        "    resid_pdrop=.1,\n",
        "    embd_pdrop=.1,\n",
        "    attn_pdrop=.1,\n",
        "    padding_token_id=tokenizer['PAD_None'],\n",
        "    bos_token_id=tokenizer['BOS_None'],\n",
        "    eos_token_id=tokenizer['EOS_None'],\n",
        ")\n",
        "model = TFGPT2LMHeadModel(config)\n",
        "\n",
        "#model.save_pretrained('/content/gdrive/MyDrive/models/')\n",
        "\n"
      ],
      "metadata": {
        "colab": {
          "base_uri": "https://localhost:8080/"
        },
        "id": "ABXEpdOMxdkN",
        "outputId": "0c3fd7f3-57a3-4854-a5dd-e50f70319993"
      },
      "execution_count": 6,
      "outputs": [
        {
          "output_type": "stream",
          "name": "stdout",
          "text": [
            "Loading the model...\n"
          ]
        }
      ]
    },
    {
      "cell_type": "code",
      "source": [
        "model.from_pretrained(model_path)"
      ],
      "metadata": {
        "id": "IiSFuHtzxS1T",
        "outputId": "5c7160ff-8d3e-4907-f6c4-2abf1de4f8ff",
        "colab": {
          "base_uri": "https://localhost:8080/"
        }
      },
      "execution_count": 4,
      "outputs": [
        {
          "output_type": "stream",
          "name": "stderr",
          "text": [
            "All model checkpoint layers were used when initializing TFGPT2LMHeadModel.\n",
            "\n",
            "All the layers of TFGPT2LMHeadModel were initialized from the model checkpoint at /content/gdrive/MyDrive/model_f/model2/.\n",
            "If your task is similar to the task the model of the checkpoint was trained on, you can already use TFGPT2LMHeadModel for predictions without further training.\n"
          ]
        },
        {
          "output_type": "execute_result",
          "data": {
            "text/plain": [
              "<transformers.models.gpt2.modeling_tf_gpt2.TFGPT2LMHeadModel at 0x7fd33b089580>"
            ]
          },
          "metadata": {},
          "execution_count": 4
        }
      ]
    },
    {
      "cell_type": "code",
      "source": [
        "\n",
        "# defining our optimizer\n",
        "optimizer = tf.keras.optimizers.Adam(learning_rate=3e-5, epsilon=1e-08, clipnorm=1.0)\n",
        "# definining our loss function\n",
        "loss = tf.keras.losses.SparseCategoricalCrossentropy(from_logits=True)\n",
        "# defining our metric which we want to observe\n",
        "metric = tf.keras.metrics.SparseCategoricalAccuracy('accuracy')\n",
        "# compiling the model\n",
        "model.compile(optimizer=optimizer, loss=[loss, *[None] * model.config.n_layer], metrics=[metric])"
      ],
      "metadata": {
        "id": "mYt0t9gOyIAp"
      },
      "execution_count": 5,
      "outputs": []
    },
    {
      "cell_type": "code",
      "source": [
        "from pathlib import Path\n",
        "from miditok.utils import get_midi_programs\n",
        "from miditoolkit import MidiFile\n",
        "\n",
        "\n",
        "midi_path = '/content/gdrive/MyDrive/example midi/midi_example.mid'\n",
        "\n",
        "tokenizer.learn_bpe(\n",
        "    vocab_size=1000,\n",
        "    tokens_paths=list(Path(\"/content/gdrive/MyDrive/tokens_noBPE\").glob('**/*.json')),\n",
        "    out_dir=Path('/content/gdrive/MyDrive/tokens_BPE')\n",
        ")"
      ],
      "metadata": {
        "colab": {
          "base_uri": "https://localhost:8080/"
        },
        "id": "STsgWikABOFk",
        "outputId": "a44df76a-0705-45b9-b3f0-b92310754cec"
      },
      "execution_count": 6,
      "outputs": [
        {
          "output_type": "stream",
          "name": "stderr",
          "text": [
            "Loading token files: 100%|██████████| 5456/5456 [00:58<00:00, 93.82it/s]  \n"
          ]
        }
      ]
    },
    {
      "cell_type": "code",
      "source": [
        "midi_path = '/content/gdrive/MyDrive/example midi/midi/midi_example.mid'\n",
        "\n",
        "midi = MidiFile(midi_path)\n",
        "token = tokenizer(midi)  # automatically detects MidiFile, paths or tokens before converting them\n"
      ],
      "metadata": {
        "id": "85P_-SIVlxGt"
      },
      "execution_count": 7,
      "outputs": []
    },
    {
      "cell_type": "code",
      "source": [
        "print(token[0].ids)"
      ],
      "metadata": {
        "colab": {
          "base_uri": "https://localhost:8080/"
        },
        "id": "YDjivfILD3wb",
        "outputId": "6e5803b2-e559-4832-988e-b1f0efdf7e1f"
      },
      "execution_count": 8,
      "outputs": [
        {
          "output_type": "stream",
          "name": "stdout",
          "text": [
            "[328, 904, 48, 204, 52, 438, 21, 201, 226, 109, 24, 461, 112, 17, 204, 213, 702, 133, 136, 271, 38, 204, 41, 201, 45, 438, 64, 205, 217, 958, 64, 201, 65, 347, 152, 213, 64, 204, 213, 882, 105, 16, 201, 217, 587, 211, 126, 104, 679, 794, 45, 204, 48, 202, 222, 152, 214, 67, 534, 65, 338, 155, 64, 862, 133, 136, 882, 102, 129, 520, 40, 200, 43, 202, 389, 226, 128, 40, 204, 62, 202, 217, 958, 740, 201, 217, 131, 135, 958, 104, 128, 904, 48, 204, 52, 438, 21, 201, 226, 109, 24, 461, 112, 17, 204, 213, 136, 702, 133, 271, 38, 204, 41, 201, 904, 234, 105, 16, 201, 217, 126, 587, 211, 104, 679, 794, 45, 204, 48, 202, 241, 587, 820, 102, 520, 40, 200, 43, 202, 389, 226, 128, 40, 204, 225, 131, 135, 780, 104]\n"
          ]
        }
      ]
    },
    {
      "cell_type": "code",
      "source": [
        "# savetok = Path('/content/gdrive/MyDrive/example midi/token1.json')\n",
        "\n",
        "# tokenizer.save_tokens(token, savetok)"
      ],
      "metadata": {
        "id": "HcJAown6mytC"
      },
      "execution_count": 9,
      "outputs": []
    },
    {
      "cell_type": "code",
      "source": [
        "import json\n",
        "import os\n",
        "\n",
        "directory = '/content/gdrive/MyDrive/example midi/tokens/'\n",
        "\n",
        "\n",
        "for fname in os.listdir(directory):                     # for each file in the directory\n",
        "    with open(os.path.join(directory, fname)) as i:     # open the file\n",
        "        data = json.load(i)   "
      ],
      "metadata": {
        "id": "GEEpNQuMn1mr"
      },
      "execution_count": 4,
      "outputs": []
    },
    {
      "cell_type": "code",
      "source": [
        "print(data)"
      ],
      "metadata": {
        "colab": {
          "base_uri": "https://localhost:8080/"
        },
        "id": "zq92oHA38voP",
        "outputId": "ff56477f-6752-4b52-b918-d8173d2ac4a6"
      },
      "execution_count": 19,
      "outputs": [
        {
          "output_type": "stream",
          "name": "stdout",
          "text": [
            "{'ids': [[328, 904, 48, 204, 52, 438, 21, 201, 226, 109, 24, 461, 112, 17, 204, 213, 702, 133, 136, 271, 38, 204, 41, 201, 45, 438, 64, 205, 217, 958, 64, 201, 65, 347, 152, 213, 64, 204, 213, 882, 105, 16, 201, 217, 587, 211, 126, 104, 679, 794, 45, 204, 48, 202, 222, 152, 214, 67, 534, 65, 338, 155, 64, 862, 133, 136, 882, 102, 129, 520, 40, 200, 43, 202, 389, 226, 128, 40, 204, 62, 202, 217, 958, 740, 201, 217, 131, 135, 958, 104, 128, 904, 48, 204, 52, 438, 21, 201, 226, 109, 24, 461, 112, 17, 204, 213, 136, 702, 133, 271, 38, 204, 41, 201, 904, 234, 105, 16, 201, 217, 126, 587, 211, 104, 679, 794, 45, 204, 48, 202, 241, 587, 820, 102, 520, 40, 200, 43, 202, 389, 226, 128, 40, 204, 225, 131, 135, 780, 104]], 'programs': [], 'ids_bpe_encoded': [True]}\n"
          ]
        }
      ]
    },
    {
      "cell_type": "code",
      "source": [
        "prompt = [data ['ids'][0][:300]]\n"
      ],
      "metadata": {
        "id": "q6QqZy8cBBta"
      },
      "execution_count": 20,
      "outputs": []
    },
    {
      "cell_type": "markdown",
      "source": [
        " I have managed to convert a new MIDI to a BPE encoded token, however I am unsure on how to feed the data into the model.generate function to generate a new sequence."
      ],
      "metadata": {
        "id": "nL07Onqdrj71"
      }
    },
    {
      "cell_type": "code",
      "source": [
        "generation_config = GenerationConfig(\n",
        "    max_new_tokens=512,  # extends samples by 512 tokens\n",
        "    num_beams=1,        # no beam search\n",
        "    do_sample=True,     # but sample instead\n",
        "    temperature=0.9,\n",
        "    top_k=15,\n",
        "    top_p=0.95,\n",
        "    epsilon_cutoff=3e-4,\n",
        "    eta_cutoff=1e-3,\n",
        "    pad_token_id=config.padding_token_id,\n",
        ")"
      ],
      "metadata": {
        "id": "9Tu0912A0Mqu"
      },
      "execution_count": 21,
      "outputs": []
    },
    {
      "cell_type": "code",
      "source": [
        "outputs = model.generate(prompt, generation_config)\n"
      ],
      "metadata": {
        "id": "6pPuCSZ7o68Q"
      },
      "execution_count": 28,
      "outputs": []
    },
    {
      "cell_type": "code",
      "source": [
        "outputs = tf.Variable(outputs).numpy().tolist()\n",
        "print('old token:', data['ids'])\n",
        "\n",
        "new_data = data\n",
        "new_data['ids'] = outputs\n",
        "\n",
        "print('new token:', new_data['ids'])"
      ],
      "metadata": {
        "colab": {
          "base_uri": "https://localhost:8080/"
        },
        "id": "wx75G9Em0Itt",
        "outputId": "9430b3e9-dcee-4257-ace1-2e3c87729ed8"
      },
      "execution_count": 29,
      "outputs": [
        {
          "output_type": "stream",
          "name": "stdout",
          "text": [
            "old token: [[328, 904, 48, 204, 52, 438, 21, 201, 226, 109, 24, 461, 112, 17, 204, 213, 702, 133, 136, 271, 38, 204, 41, 201, 45, 438, 64, 205, 217, 958, 64, 201, 65, 347, 152, 213, 64, 204, 213, 882, 105, 16, 201, 217, 587, 211, 126, 104, 679, 794, 45, 204, 48, 202, 222, 152, 214, 67, 534, 65, 338, 155, 64, 862, 133, 136, 882, 102, 129, 520, 40, 200, 43, 202, 389, 226, 128, 40, 204, 62, 202, 217, 958, 740, 201, 217, 131, 135, 958, 104, 128, 904, 48, 204, 52, 438, 21, 201, 226, 109, 24, 461, 112, 17, 204, 213, 136, 702, 133, 271, 38, 204, 41, 201, 904, 234, 105, 16, 201, 217, 126, 587, 211, 104, 679, 794, 45, 204, 48, 202, 241, 587, 820, 102, 520, 40, 200, 43, 202, 389, 226, 128, 40, 204, 225, 131, 135, 780, 104]]\n",
            "new token: [[328, 904, 48, 204, 52, 438, 21, 201, 226, 109, 24, 461, 112, 17, 204, 213, 702, 133, 136, 271, 38, 204, 41, 201, 45, 438, 64, 205, 217, 958, 64, 201, 65, 347, 152, 213, 64, 204, 213, 882, 105, 16, 201, 217, 587, 211, 126, 104, 679, 794, 45, 204, 48, 202, 222, 152, 214, 67, 534, 65, 338, 155, 64, 862, 133, 136, 882, 102, 129, 520, 40, 200, 43, 202, 389, 226, 128, 40, 204, 62, 202, 217, 958, 740, 201, 217, 131, 135, 958, 104, 128, 904, 48, 204, 52, 438, 21, 201, 226, 109, 24, 461, 112, 17, 204, 213, 136, 702, 133, 271, 38, 204, 41, 201, 904, 234, 105, 16, 201, 217, 126, 587, 211, 104, 679, 794, 45, 204, 48, 202, 241, 587, 820, 102, 520, 40, 200, 43, 202, 389, 226, 128, 40, 204, 225, 131, 135, 780, 104, 229, 473, 611, 548, 931, 611, 471, 175, 676, 292, 850, 548, 868, 336, 292, 65, 974, 292, 548, 548, 69, 69, 8, 57, 408, 751, 611, 767, 297, 938, 713, 473, 754, 610, 548, 611, 689, 689, 930, 548, 777, 767, 845, 972, 931, 890, 257, 769, 350, 930, 611, 443, 143, 751, 936, 850, 35, 974, 610, 974, 564, 754, 610, 676, 246, 417, 931, 579, 57, 336, 754, 676, 477, 579, 531, 579, 292, 473, 732, 920, 602, 404, 292, 292, 292, 548, 15, 610, 417, 754, 417, 350, 920, 751, 676, 233, 473, 531, 754, 917, 917, 417, 868, 181, 974, 917, 507, 297, 350, 713, 175, 323, 960, 754, 751, 292, 754, 246, 250, 891, 845, 938, 404, 769, 841, 336, 292, 920, 920, 631, 579, 850, 438, 404, 507, 917, 850, 292, 754, 610, 292, 69, 754, 676, 676, 106, 920, 920, 610, 610, 397, 921, 920, 507, 438, 751, 917, 417, 250, 676, 676, 548, 970, 143, 821, 713, 754, 676, 868, 336, 751, 292, 507, 143, 417, 323, 676, 430, 507, 845, 850, 921, 507, 751, 336, 250, 751, 769, 917, 265, 507, 400, 920, 509, 812, 987, 751, 891, 938, 175, 890, 183, 20, 336, 610, 292, 143, 821, 891, 276, 745, 890, 890, 758, 723, 890, 573, 754, 751, 507, 754, 751, 676, 292, 676, 676, 676, 756, 777, 107, 824, 181, 181, 891, 473, 400, 754, 676, 713, 920, 751, 257, 438, 257, 477, 970, 292, 676, 676, 920, 602, 181, 292, 503, 183, 292, 292, 531, 920, 754, 507, 507, 292, 144, 610, 777, 143, 292, 917, 144, 751, 292, 369, 404, 35, 350, 336, 430, 917, 602, 292, 323, 920, 292, 974, 507, 548, 751, 514, 611, 868, 143, 69, 676, 673, 610, 292, 751, 974, 438, 292, 336, 710, 404, 507, 292, 917, 143, 745, 920, 837, 287, 477, 631, 292, 850, 610, 676, 493, 378, 179, 183, 751, 754, 890, 292, 920, 250, 610, 920, 917, 183, 400, 766, 920, 920, 920, 920, 821, 891, 35, 181, 292, 920, 438, 400, 507, 323, 890, 751, 442, 890, 257, 250, 777, 845, 751, 676, 931, 524, 610, 143, 917, 974, 438, 142, 503, 292, 65, 257, 257, 392, 890, 183, 890, 890, 417, 758, 257, 807, 292, 400, 610, 974, 292, 507, 610, 751, 920, 610, 920, 745, 745, 69, 845, 891, 404, 507, 713, 507, 507, 73, 970, 837, 69, 931, 966, 745, 250, 250, 890, 250, 292, 751, 751, 723, 507, 143, 602, 142, 181, 868, 292, 323, 758, 503, 257, 400, 331, 890, 287, 292, 920, 602, 507, 257, 806, 751, 917, 144, 890, 257, 764, 920, 920, 292, 323, 713, 713, 292, 69, 917, 891, 891, 676, 920, 920, 333, 35, 181, 631, 676, 400, 292, 438, 404, 920, 754, 751, 175, 288, 807, 917, 890, 292, 507, 461, 438, 917, 917, 890, 178, 400, 265, 265, 676, 917, 143, 917, 69, 250, 574, 404, 142, 758, 766, 920, 183, 257, 917, 257, 69, 292, 292, 65, 610, 292, 73, 183, 257, 292, 974]]\n"
          ]
        }
      ]
    },
    {
      "cell_type": "markdown",
      "source": [
        "Not sure what the issue is, as the data seems to be in the correct type.\n",
        "\n"
      ],
      "metadata": {
        "id": "qmV513R79ZXF"
      }
    },
    {
      "cell_type": "code",
      "source": [
        "midi = tokenizer.tokens_to_midi(data)"
      ],
      "metadata": {
        "id": "aiivwfC2UL9l",
        "colab": {
          "base_uri": "https://localhost:8080/",
          "height": 311
        },
        "outputId": "39e7d1a4-c87d-4142-c513-961b7e99f582"
      },
      "execution_count": 7,
      "outputs": [
        {
          "output_type": "error",
          "ename": "TypeError",
          "evalue": "ignored",
          "traceback": [
            "\u001b[0;31m---------------------------------------------------------------------------\u001b[0m",
            "\u001b[0;31mTypeError\u001b[0m                                 Traceback (most recent call last)",
            "\u001b[0;32m<ipython-input-7-11292fd1e8ee>\u001b[0m in \u001b[0;36m<cell line: 1>\u001b[0;34m()\u001b[0m\n\u001b[0;32m----> 1\u001b[0;31m \u001b[0mmidi\u001b[0m \u001b[0;34m=\u001b[0m \u001b[0mtokenizer\u001b[0m\u001b[0;34m.\u001b[0m\u001b[0mtokens_to_midi\u001b[0m\u001b[0;34m(\u001b[0m\u001b[0mdata\u001b[0m\u001b[0;34m)\u001b[0m\u001b[0;34m\u001b[0m\u001b[0;34m\u001b[0m\u001b[0m\n\u001b[0m",
            "\u001b[0;32m/usr/local/lib/python3.9/dist-packages/miditok/midi_tokenizer.py\u001b[0m in \u001b[0;36mtokens_to_midi\u001b[0;34m(self, tokens, programs, output_path, time_division)\u001b[0m\n\u001b[1;32m    626\u001b[0m                 )\n\u001b[1;32m    627\u001b[0m             \u001b[0;32melse\u001b[0m\u001b[0;34m:\u001b[0m\u001b[0;34m\u001b[0m\u001b[0;34m\u001b[0m\u001b[0m\n\u001b[0;32m--> 628\u001b[0;31m                 \u001b[0mtrack\u001b[0m\u001b[0;34m,\u001b[0m \u001b[0mtempo_changes\u001b[0m \u001b[0;34m=\u001b[0m \u001b[0mself\u001b[0m\u001b[0;34m.\u001b[0m\u001b[0mtokens_to_track\u001b[0m\u001b[0;34m(\u001b[0m\u001b[0mtrack_tokens\u001b[0m\u001b[0;34m,\u001b[0m \u001b[0mtime_division\u001b[0m\u001b[0;34m)\u001b[0m\u001b[0;34m\u001b[0m\u001b[0;34m\u001b[0m\u001b[0m\n\u001b[0m\u001b[1;32m    629\u001b[0m             \u001b[0mmidi\u001b[0m\u001b[0;34m.\u001b[0m\u001b[0minstruments\u001b[0m\u001b[0;34m.\u001b[0m\u001b[0mappend\u001b[0m\u001b[0;34m(\u001b[0m\u001b[0mtrack\u001b[0m\u001b[0;34m)\u001b[0m\u001b[0;34m\u001b[0m\u001b[0;34m\u001b[0m\u001b[0m\n\u001b[1;32m    630\u001b[0m             \u001b[0;32mif\u001b[0m \u001b[0mi\u001b[0m \u001b[0;34m==\u001b[0m \u001b[0;36m0\u001b[0m\u001b[0;34m:\u001b[0m  \u001b[0;31m# only keep tempo changes of the first track\u001b[0m\u001b[0;34m\u001b[0m\u001b[0;34m\u001b[0m\u001b[0m\n",
            "\u001b[0;32m/usr/local/lib/python3.9/dist-packages/miditok/midi_tokenizer.py\u001b[0m in \u001b[0;36mwrapper\u001b[0;34m(*args, **kwargs)\u001b[0m\n\u001b[1;32m     67\u001b[0m                     \u001b[0mtokens\u001b[0m\u001b[0;34m=\u001b[0m\u001b[0mtokens\u001b[0m\u001b[0;34m,\u001b[0m\u001b[0;34m\u001b[0m\u001b[0;34m\u001b[0m\u001b[0m\n\u001b[1;32m     68\u001b[0m                     \u001b[0mevents\u001b[0m\u001b[0;34m=\u001b[0m\u001b[0mevents\u001b[0m\u001b[0;34m,\u001b[0m\u001b[0;34m\u001b[0m\u001b[0;34m\u001b[0m\u001b[0m\n\u001b[0;32m---> 69\u001b[0;31m                     \u001b[0mids_bpe_encoded\u001b[0m\u001b[0;34m=\u001b[0m\u001b[0mself\u001b[0m\u001b[0;34m.\u001b[0m\u001b[0m_ids_are_bpe_encoded\u001b[0m\u001b[0;34m(\u001b[0m\u001b[0mids\u001b[0m\u001b[0;34m)\u001b[0m\u001b[0;34m,\u001b[0m\u001b[0;34m\u001b[0m\u001b[0;34m\u001b[0m\u001b[0m\n\u001b[0m\u001b[1;32m     70\u001b[0m                 )\n\u001b[1;32m     71\u001b[0m \u001b[0;34m\u001b[0m\u001b[0m\n",
            "\u001b[0;32m/usr/local/lib/python3.9/dist-packages/miditok/midi_tokenizer.py\u001b[0m in \u001b[0;36m_ids_are_bpe_encoded\u001b[0;34m(self, ids)\u001b[0m\n\u001b[1;32m   1426\u001b[0m         \u001b[0;34m:\u001b[0m\u001b[0;32mreturn\u001b[0m\u001b[0;34m:\u001b[0m \u001b[0mboolean\u001b[0m\u001b[0;34m,\u001b[0m \u001b[0;32mTrue\u001b[0m \u001b[0;32mif\u001b[0m \u001b[0mids\u001b[0m \u001b[0mare\u001b[0m \u001b[0mencoded\u001b[0m \u001b[0;32mwith\u001b[0m \u001b[0mBPE\u001b[0m\u001b[0;34m,\u001b[0m \u001b[0;32mFalse\u001b[0m \u001b[0motherwise\u001b[0m\u001b[0;34m.\u001b[0m\u001b[0;34m\u001b[0m\u001b[0;34m\u001b[0m\u001b[0m\n\u001b[1;32m   1427\u001b[0m         \"\"\"\n\u001b[0;32m-> 1428\u001b[0;31m         \u001b[0;32mreturn\u001b[0m \u001b[0mnp\u001b[0m\u001b[0;34m.\u001b[0m\u001b[0many\u001b[0m\u001b[0;34m(\u001b[0m\u001b[0mnp\u001b[0m\u001b[0;34m.\u001b[0m\u001b[0marray\u001b[0m\u001b[0;34m(\u001b[0m\u001b[0mids\u001b[0m\u001b[0;34m)\u001b[0m \u001b[0;34m>=\u001b[0m \u001b[0mlen\u001b[0m\u001b[0;34m(\u001b[0m\u001b[0mself\u001b[0m\u001b[0;34m.\u001b[0m\u001b[0m_vocab_base\u001b[0m\u001b[0;34m)\u001b[0m\u001b[0;34m)\u001b[0m\u001b[0;34m\u001b[0m\u001b[0;34m\u001b[0m\u001b[0m\n\u001b[0m\u001b[1;32m   1429\u001b[0m \u001b[0;34m\u001b[0m\u001b[0m\n\u001b[1;32m   1430\u001b[0m     \u001b[0;32mdef\u001b[0m \u001b[0mdecode_bpe\u001b[0m\u001b[0;34m(\u001b[0m\u001b[0mself\u001b[0m\u001b[0;34m,\u001b[0m \u001b[0mseq\u001b[0m\u001b[0;34m:\u001b[0m \u001b[0mUnion\u001b[0m\u001b[0;34m[\u001b[0m\u001b[0mTokSequence\u001b[0m\u001b[0;34m,\u001b[0m \u001b[0mList\u001b[0m\u001b[0;34m[\u001b[0m\u001b[0mTokSequence\u001b[0m\u001b[0;34m]\u001b[0m\u001b[0;34m]\u001b[0m\u001b[0;34m)\u001b[0m\u001b[0;34m:\u001b[0m\u001b[0;34m\u001b[0m\u001b[0;34m\u001b[0m\u001b[0m\n",
            "\u001b[0;31mTypeError\u001b[0m: '>=' not supported between instances of 'NoneType' and 'int'"
          ]
        }
      ]
    },
    {
      "cell_type": "code",
      "source": [],
      "metadata": {
        "id": "zClbMrKSU1ue"
      },
      "execution_count": null,
      "outputs": []
    }
  ]
}