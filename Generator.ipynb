{
  "nbformat": 4,
  "nbformat_minor": 0,
  "metadata": {
    "colab": {
      "provenance": [],
      "authorship_tag": "ABX9TyMk8TBOFSER6uyOYOK0nePa",
      "include_colab_link": true
    },
    "kernelspec": {
      "name": "python3",
      "display_name": "Python 3"
    },
    "language_info": {
      "name": "python"
    },
    "accelerator": "GPU",
    "gpuClass": "standard"
  },
  "cells": [
    {
      "cell_type": "markdown",
      "metadata": {
        "id": "view-in-github",
        "colab_type": "text"
      },
      "source": [
        "<a href=\"https://colab.research.google.com/github/dubisx/EMCT_final/blob/main/Generator.ipynb\" target=\"_parent\"><img src=\"https://colab.research.google.com/assets/colab-badge.svg\" alt=\"Open In Colab\"/></a>"
      ]
    },
    {
      "cell_type": "code",
      "execution_count": 26,
      "metadata": {
        "colab": {
          "base_uri": "https://localhost:8080/"
        },
        "id": "n42cJmouxDxS",
        "outputId": "18128696-ef3f-4098-b3a7-c64576bd38d6"
      },
      "outputs": [
        {
          "output_type": "stream",
          "name": "stdout",
          "text": [
            "Looking in indexes: https://pypi.org/simple, https://us-python.pkg.dev/colab-wheels/public/simple/\n",
            "Requirement already satisfied: miditok in /usr/local/lib/python3.10/dist-packages (2.0.3)\n",
            "Requirement already satisfied: miditoolkit>=0.1.16 in /usr/local/lib/python3.10/dist-packages (from miditok) (0.1.16)\n",
            "Requirement already satisfied: tqdm in /usr/local/lib/python3.10/dist-packages (from miditok) (4.65.0)\n",
            "Requirement already satisfied: numpy<1.24,>=1.19 in /usr/local/lib/python3.10/dist-packages (from miditok) (1.22.4)\n",
            "Requirement already satisfied: mido>=1.1.16 in /usr/local/lib/python3.10/dist-packages (from miditoolkit>=0.1.16->miditok) (1.2.10)\n",
            "Looking in indexes: https://pypi.org/simple, https://us-python.pkg.dev/colab-wheels/public/simple/\n",
            "Requirement already satisfied: tokenizers in /usr/local/lib/python3.10/dist-packages (0.13.3)\n",
            "Looking in indexes: https://pypi.org/simple, https://us-python.pkg.dev/colab-wheels/public/simple/\n",
            "Requirement already satisfied: transformers in /usr/local/lib/python3.10/dist-packages (4.28.1)\n",
            "Requirement already satisfied: pyyaml>=5.1 in /usr/local/lib/python3.10/dist-packages (from transformers) (6.0)\n",
            "Requirement already satisfied: tokenizers!=0.11.3,<0.14,>=0.11.1 in /usr/local/lib/python3.10/dist-packages (from transformers) (0.13.3)\n",
            "Requirement already satisfied: numpy>=1.17 in /usr/local/lib/python3.10/dist-packages (from transformers) (1.22.4)\n",
            "Requirement already satisfied: huggingface-hub<1.0,>=0.11.0 in /usr/local/lib/python3.10/dist-packages (from transformers) (0.14.1)\n",
            "Requirement already satisfied: regex!=2019.12.17 in /usr/local/lib/python3.10/dist-packages (from transformers) (2022.10.31)\n",
            "Requirement already satisfied: requests in /usr/local/lib/python3.10/dist-packages (from transformers) (2.27.1)\n",
            "Requirement already satisfied: filelock in /usr/local/lib/python3.10/dist-packages (from transformers) (3.12.0)\n",
            "Requirement already satisfied: packaging>=20.0 in /usr/local/lib/python3.10/dist-packages (from transformers) (23.1)\n",
            "Requirement already satisfied: tqdm>=4.27 in /usr/local/lib/python3.10/dist-packages (from transformers) (4.65.0)\n",
            "Requirement already satisfied: typing-extensions>=3.7.4.3 in /usr/local/lib/python3.10/dist-packages (from huggingface-hub<1.0,>=0.11.0->transformers) (4.5.0)\n",
            "Requirement already satisfied: fsspec in /usr/local/lib/python3.10/dist-packages (from huggingface-hub<1.0,>=0.11.0->transformers) (2023.4.0)\n",
            "Requirement already satisfied: urllib3<1.27,>=1.21.1 in /usr/local/lib/python3.10/dist-packages (from requests->transformers) (1.26.15)\n",
            "Requirement already satisfied: idna<4,>=2.5 in /usr/local/lib/python3.10/dist-packages (from requests->transformers) (3.4)\n",
            "Requirement already satisfied: certifi>=2017.4.17 in /usr/local/lib/python3.10/dist-packages (from requests->transformers) (2022.12.7)\n",
            "Requirement already satisfied: charset-normalizer~=2.0.0 in /usr/local/lib/python3.10/dist-packages (from requests->transformers) (2.0.12)\n"
          ]
        }
      ],
      "source": [
        "!pip install miditok\n",
        "!pip install tokenizers\n",
        "!pip install transformers\n",
        "\n",
        "import tensorflow as tf\n",
        "from tensorflow import keras\n",
        "import numpy\n",
        "import miditok\n",
        "import tqdm\n",
        "from miditok import MIDILike, MIDITokenizer, REMI\n",
        "import pathlib\n",
        "from miditok.constants import CHORD_MAPS\n",
        "from transformers import TFGPT2LMHeadModel, GPT2Config, Trainer, TrainingArguments, GenerationConfig, pipeline"
      ]
    },
    {
      "cell_type": "code",
      "source": [
        "from google.colab import drive\n",
        "\n",
        "drive.mount('/content/gdrive', force_remount=True)"
      ],
      "metadata": {
        "id": "n2JWQ_xsxafl",
        "colab": {
          "base_uri": "https://localhost:8080/"
        },
        "outputId": "9f7f700c-f4ac-4af4-e96f-e625a65e9113"
      },
      "execution_count": 24,
      "outputs": [
        {
          "output_type": "stream",
          "name": "stdout",
          "text": [
            "Mounted at /content/gdrive\n"
          ]
        }
      ]
    },
    {
      "cell_type": "code",
      "source": [
        "model_path = \"/content/gdrive/MyDrive/model_f/model5/\"\n",
        "\n",
        "pitch_range = range(21, 109)\n",
        "beat_res = {(0, 4): 8, (4, 12): 4}\n",
        "nb_velocities = 32\n",
        "additional_tokens = {'Chord': True, 'Rest': True, 'Tempo': True,\n",
        "                     'rest_range': (2, 8),  # (half, 8 beats)\n",
        "                     'nb_tempos': 32,  # nb of tempo bins\n",
        "                     'tempo_range': (40, 250),  # (min, max)\n",
        "                     'Program': False,\n",
        "                     \"chord_maps\": CHORD_MAPS,\n",
        "                     \"chord_tokens_with_root_note\": True,\n",
        "                     \"chord_unknown\": False}\n",
        "special_tokens = [\"PAD\", \"BOS\", \"EOS\"]\n",
        "\n",
        "tokenizer = MIDILike(pitch_range, beat_res, nb_velocities, additional_tokens, special_tokens=special_tokens)\n",
        "\n",
        "print('Loading the model...')\n",
        "\n",
        "# Creates model\n",
        "config = GPT2Config(\n",
        "    vocab_size=1000,\n",
        "    n_positions=10,\n",
        "    n_embd=512,\n",
        "    n_layer=8,\n",
        "    n_head=8,\n",
        "    n_inner=2048,\n",
        "    resid_pdrop=.1,\n",
        "    embd_pdrop=.1,\n",
        "    attn_pdrop=.1,\n",
        "    padding_token_id=tokenizer['PAD_None'],\n",
        "    bos_token_id=tokenizer['BOS_None'],\n",
        "    eos_token_id=tokenizer['EOS_None'],\n",
        ")\n",
        "model = TFGPT2LMHeadModel(config)"
      ],
      "metadata": {
        "id": "ABXEpdOMxdkN",
        "colab": {
          "base_uri": "https://localhost:8080/"
        },
        "outputId": "223306a4-929a-48ad-fe43-13bf9340b8e2"
      },
      "execution_count": 29,
      "outputs": [
        {
          "output_type": "stream",
          "name": "stdout",
          "text": [
            "Loading the model...\n"
          ]
        }
      ]
    },
    {
      "cell_type": "code",
      "source": [
        "model.from_pretrained(model_path)"
      ],
      "metadata": {
        "id": "IiSFuHtzxS1T",
        "colab": {
          "base_uri": "https://localhost:8080/"
        },
        "outputId": "3b0daa9f-e2d9-49f9-944f-fbab459f37d0"
      },
      "execution_count": 30,
      "outputs": [
        {
          "output_type": "stream",
          "name": "stderr",
          "text": [
            "All model checkpoint layers were used when initializing TFGPT2LMHeadModel.\n",
            "\n",
            "All the layers of TFGPT2LMHeadModel were initialized from the model checkpoint at /content/gdrive/MyDrive/model_f/model5/.\n",
            "If your task is similar to the task the model of the checkpoint was trained on, you can already use TFGPT2LMHeadModel for predictions without further training.\n"
          ]
        },
        {
          "output_type": "execute_result",
          "data": {
            "text/plain": [
              "<transformers.models.gpt2.modeling_tf_gpt2.TFGPT2LMHeadModel at 0x7f67fb2521d0>"
            ]
          },
          "metadata": {},
          "execution_count": 30
        }
      ]
    },
    {
      "cell_type": "code",
      "source": [
        "\n",
        "# defining our optimizer\n",
        "optimizer = tf.keras.optimizers.Adam(learning_rate=3e-5, epsilon=1e-08, clipnorm=1.0)\n",
        "# definining our loss function\n",
        "loss = tf.keras.losses.SparseCategoricalCrossentropy(from_logits=True)\n",
        "# defining our metric which we want to observe\n",
        "metric = tf.keras.metrics.SparseCategoricalAccuracy('accuracy')\n",
        "# compiling the model\n",
        "model.compile(optimizer=optimizer, loss=[loss, *[None] * model.config.n_layer], metrics=[metric])"
      ],
      "metadata": {
        "id": "mYt0t9gOyIAp"
      },
      "execution_count": 31,
      "outputs": []
    },
    {
      "cell_type": "code",
      "source": [
        "from pathlib import Path\n",
        "from miditok.utils import get_midi_programs\n",
        "from miditoolkit import MidiFile\n",
        "\n",
        "\n",
        "midi_path = '/content/gdrive/MyDrive/example midi/midi_example.mid'\n",
        "\n",
        "tokenizer.learn_bpe(\n",
        "    vocab_size=1900,\n",
        "    tokens_paths=list(Path(\"/content/gdrive/MyDrive/tokens_noBPE\").glob('**/*.json')),\n",
        "    out_dir=Path('/content/gdrive/MyDrive/tokens_BPE')\n",
        ")"
      ],
      "metadata": {
        "id": "STsgWikABOFk",
        "colab": {
          "base_uri": "https://localhost:8080/"
        },
        "outputId": "a4d60793-2714-42a3-ef58-feeabe805c71"
      },
      "execution_count": 32,
      "outputs": [
        {
          "output_type": "stream",
          "name": "stderr",
          "text": [
            "Loading token files: 100%|██████████| 5456/5456 [00:08<00:00, 622.44it/s] \n"
          ]
        }
      ]
    },
    {
      "cell_type": "code",
      "source": [
        "midi_path = '/content/gdrive/MyDrive/example midi/midi/midi_example.mid'\n",
        "\n",
        "midi = MidiFile(midi_path)\n",
        "token = tokenizer(midi)  # automatically detects MidiFile, paths or tokens before converting them\n"
      ],
      "metadata": {
        "id": "85P_-SIVlxGt"
      },
      "execution_count": 33,
      "outputs": []
    },
    {
      "cell_type": "code",
      "source": [
        "print(token[0].ids)"
      ],
      "metadata": {
        "id": "YDjivfILD3wb",
        "colab": {
          "base_uri": "https://localhost:8080/"
        },
        "outputId": "66fb4e72-8c24-407b-ceef-116cdfa0e941"
      },
      "execution_count": 34,
      "outputs": [
        {
          "output_type": "stream",
          "name": "stdout",
          "text": [
            "[328, 904, 48, 204, 52, 438, 21, 201, 226, 109, 24, 461, 112, 17, 1139, 702, 1106, 271, 38, 204, 1627, 45, 438, 64, 205, 217, 958, 64, 201, 65, 347, 152, 213, 64, 1139, 882, 105, 16, 201, 217, 587, 211, 126, 104, 679, 794, 45, 204, 1075, 222, 1284, 67, 534, 1160, 155, 64, 862, 1106, 882, 102, 129, 520, 1893, 1014, 389, 226, 128, 40, 204, 62, 202, 217, 958, 740, 201, 217, 131, 135, 958, 104, 128, 904, 48, 204, 52, 438, 21, 201, 226, 109, 24, 461, 112, 17, 1139, 136, 702, 133, 271, 38, 204, 1627, 904, 234, 105, 16, 201, 217, 1318, 211, 104, 679, 794, 45, 204, 1075, 241, 587, 820, 102, 520, 1893, 1014, 389, 226, 128, 40, 204, 225, 131, 135, 780, 104]\n"
          ]
        }
      ]
    },
    {
      "cell_type": "code",
      "source": [
        "# savetok = Path('/content/gdrive/MyDrive/example midi/token1.json')\n",
        "\n",
        "# tokenizer.save_tokens(token, savetok)"
      ],
      "metadata": {
        "id": "HcJAown6mytC"
      },
      "execution_count": 35,
      "outputs": []
    },
    {
      "cell_type": "code",
      "source": [
        "import json\n",
        "import os\n",
        "\n",
        "directory = '/content/gdrive/MyDrive/example midi/tokens/'\n",
        "\n",
        "\n",
        "for fname in os.listdir(directory):                     # for each file in the directory\n",
        "    with open(os.path.join(directory, fname)) as i:     # open the file\n",
        "        data = json.load(i)   "
      ],
      "metadata": {
        "id": "GEEpNQuMn1mr"
      },
      "execution_count": 36,
      "outputs": []
    },
    {
      "cell_type": "code",
      "source": [
        "# print(data)"
      ],
      "metadata": {
        "id": "zq92oHA38voP"
      },
      "execution_count": 37,
      "outputs": []
    },
    {
      "cell_type": "code",
      "source": [
        "prompt = [data['ids'][0][:300]]\n"
      ],
      "metadata": {
        "id": "q6QqZy8cBBta"
      },
      "execution_count": 38,
      "outputs": []
    },
    {
      "cell_type": "markdown",
      "source": [
        " I have managed to convert a new MIDI to a BPE encoded token, however I am unsure on how to feed the data into the model.generate function to generate a new sequence."
      ],
      "metadata": {
        "id": "nL07Onqdrj71"
      }
    },
    {
      "cell_type": "code",
      "source": [
        "generation_config = GenerationConfig(\n",
        "    max_new_tokens=512,  # extends samples by 512 tokens\n",
        "    num_beams=1,        # no beam search\n",
        "    do_sample=True,     # but sample instead\n",
        "    temperature=0.9,\n",
        "    top_k=15,\n",
        "    top_p=0.95,\n",
        "    epsilon_cutoff=3e-4,\n",
        "    eta_cutoff=1e-3,\n",
        "    pad_token_id=config.padding_token_id,\n",
        ")"
      ],
      "metadata": {
        "id": "9Tu0912A0Mqu"
      },
      "execution_count": 39,
      "outputs": []
    },
    {
      "cell_type": "code",
      "source": [
        "outputs = model.generate(prompt, generation_config)"
      ],
      "metadata": {
        "id": "6pPuCSZ7o68Q"
      },
      "execution_count": 40,
      "outputs": []
    },
    {
      "cell_type": "code",
      "source": [
        "outputs = tf.Variable(outputs).numpy().tolist()\n",
        "print('old token:', token[0].ids)\n",
        "\n",
        "new_data = token\n",
        "new_data[0].ids = outputs\n",
        "\n",
        "print('new token:', new_data[0].ids)"
      ],
      "metadata": {
        "id": "wx75G9Em0Itt",
        "colab": {
          "base_uri": "https://localhost:8080/"
        },
        "outputId": "3c9d7818-35a2-450b-c0b6-1430a5677eb2"
      },
      "execution_count": 41,
      "outputs": [
        {
          "output_type": "stream",
          "name": "stdout",
          "text": [
            "old token: [328, 904, 48, 204, 52, 438, 21, 201, 226, 109, 24, 461, 112, 17, 1139, 702, 1106, 271, 38, 204, 1627, 45, 438, 64, 205, 217, 958, 64, 201, 65, 347, 152, 213, 64, 1139, 882, 105, 16, 201, 217, 587, 211, 126, 104, 679, 794, 45, 204, 1075, 222, 1284, 67, 534, 1160, 155, 64, 862, 1106, 882, 102, 129, 520, 1893, 1014, 389, 226, 128, 40, 204, 62, 202, 217, 958, 740, 201, 217, 131, 135, 958, 104, 128, 904, 48, 204, 52, 438, 21, 201, 226, 109, 24, 461, 112, 17, 1139, 136, 702, 133, 271, 38, 204, 1627, 904, 234, 105, 16, 201, 217, 1318, 211, 104, 679, 794, 45, 204, 1075, 241, 587, 820, 102, 520, 1893, 1014, 389, 226, 128, 40, 204, 225, 131, 135, 780, 104]\n",
            "new token: [[328, 904, 48, 204, 52, 438, 21, 201, 226, 109, 24, 461, 112, 17, 204, 213, 702, 133, 136, 271, 38, 204, 41, 201, 45, 438, 64, 205, 217, 958, 64, 201, 65, 347, 152, 213, 64, 204, 213, 882, 105, 16, 201, 217, 587, 211, 126, 104, 679, 794, 45, 204, 48, 202, 222, 152, 214, 67, 534, 65, 338, 155, 64, 862, 133, 136, 882, 102, 129, 520, 40, 200, 43, 202, 389, 226, 128, 40, 204, 62, 202, 217, 958, 740, 201, 217, 131, 135, 958, 104, 128, 904, 48, 204, 52, 438, 21, 201, 226, 109, 24, 461, 112, 17, 204, 213, 136, 702, 133, 271, 38, 204, 41, 201, 904, 234, 105, 16, 201, 217, 126, 587, 211, 104, 679, 794, 45, 204, 48, 202, 241, 587, 820, 102, 520, 40, 200, 43, 202, 389, 226, 128, 40, 204, 225, 131, 135, 780, 104, 894, 541, 179, 657, 715, 705, 158, 497, 585, 657, 657, 589, 705, 497, 585, 976, 752, 891, 819, 705, 908, 81, 705, 402, 798, 501, 815, 402, 669, 669, 657, 589, 476, 81, 533, 908, 715, 494, 294, 657, 589, 73, 705, 186, 705, 989, 841, 497, 294, 585, 976, 752, 497, 368, 908, 644, 504, 811, 744, 841, 81, 533, 501, 949, 715, 657, 705, 705, 989, 894, 815, 815, 705, 894, 198, 744, 841, 815, 908, 894, 92, 471, 894, 198, 158, 669, 894, 744, 494, 76, 585, 585, 56, 497, 471, 894, 198, 294, 4, 841, 585, 976, 494, 841, 949, 669, 949, 705, 585, 501, 494, 391, 501, 245, 179, 96, 937, 476, 758, 705, 497, 198, 744, 841, 798, 841, 585, 46, 705, 705, 798, 841, 841, 689, 738, 497, 585, 553, 456, 494, 705, 894, 894, 954, 476, 497, 96, 175, 705, 497, 497, 497, 497, 669, 894, 417, 680, 497, 669, 894, 623, 96, 949, 894, 158, 175, 494, 76, 433, 497, 149, 841, 798, 589, 423, 811, 894, 815, 908, 894, 198, 158, 158, 894, 383, 198, 841, 497, 795, 46, 175, 497, 497, 894, 494, 744, 724, 841, 24, 198, 841, 894, 744, 849, 937, 724, 724, 894, 149, 949, 669, 353, 179, 894, 744, 724, 585, 149, 56, 841, 497, 705, 724, 724, 705, 520, 353, 149, 849, 271, 841, 585, 849, 768, 198, 705, 949, 520, 383, 657, 456, 149, 497, 705, 798, 798, 46, 175, 175, 585, 705, 705, 158, 949, 497, 198, 811, 497, 188, 970, 623, 612, 501, 937, 476, 175, 841, 894, 353, 520, 149, 375, 149, 166, 476, 705, 46, 220, 949, 256, 949, 198, 705, 798, 471, 158, 841, 497, 795, 494, 801, 497, 705, 894, 76, 623, 811, 670, 179, 494, 898, 497, 149, 166, 810, 705, 476, 559, 705, 476, 476, 81, 497, 494, 841, 894, 497, 937, 949, 256, 476, 476, 841, 585, 198, 705, 841, 841, 920, 198, 175, 175, 497, 198, 175, 908, 841, 198, 175, 795, 149, 790, 949, 752, 198, 849, 768, 937, 669, 353, 46, 277, 46, 76, 811, 175, 863, 811, 811, 497, 669, 894, 670, 497, 705, 724, 724, 669, 277, 175, 175, 46, 46, 657, 198, 670, 188, 494, 841, 841, 198, 670, 149, 56, 520, 383, 623, 894, 670, 198, 497, 795, 433, 841, 670, 841, 149, 198, 894, 612, 497, 149, 497, 188, 476, 456, 198, 705, 980, 705, 724, 894, 383, 623, 894, 894, 158, 795, 670, 841, 795, 585, 175, 175, 795, 149, 894, 46, 46, 440, 46, 175, 894, 76, 623, 158, 670, 175, 937, 649, 949, 811, 149, 841, 949, 256, 476, 277, 894, 894, 908, 841, 841, 670, 752, 841, 897, 894, 149, 670, 795, 670, 46, 76, 497, 149, 898, 497, 188, 476, 509, 198, 689, 811, 89, 811, 33, 497, 795, 194, 841, 949, 811, 33, 920, 198, 841, 657, 46, 76, 623, 149, 849, 768, 705, 790, 894, 158, 795, 894, 198, 158, 476, 175, 937, 949, 33, 937, 657, 456, 623, 949]]\n"
          ]
        }
      ]
    },
    {
      "cell_type": "markdown",
      "source": [
        "Not sure what the issue is, as the data seems to be in the correct type.\n",
        "\n"
      ],
      "metadata": {
        "id": "qmV513R79ZXF"
      }
    },
    {
      "cell_type": "markdown",
      "source": [
        "Tried changing architecture, as suggested, however now I am getting this error.\n"
      ],
      "metadata": {
        "id": "u2zH0d9v57pA"
      }
    },
    {
      "cell_type": "code",
      "source": [
        "generated_midi1 = tokenizer.tokens_to_midi(new_data[0].ids)"
      ],
      "metadata": {
        "id": "aiivwfC2UL9l"
      },
      "execution_count": 42,
      "outputs": []
    },
    {
      "cell_type": "code",
      "source": [
        "programs = get_midi_programs(midi)"
      ],
      "metadata": {
        "id": "F9bi0KN8J8k9"
      },
      "execution_count": null,
      "outputs": []
    },
    {
      "cell_type": "code",
      "source": [
        "generated_midi = tokenizer(new_data[0].ids, programs=programs)"
      ],
      "metadata": {
        "id": "zClbMrKSU1ue",
        "colab": {
          "base_uri": "https://localhost:8080/",
          "height": 311
        },
        "outputId": "2e3d03bf-0156-43e5-aac9-78af4e4346e6"
      },
      "execution_count": null,
      "outputs": [
        {
          "output_type": "error",
          "ename": "KeyError",
          "evalue": "ignored",
          "traceback": [
            "\u001b[0;31m---------------------------------------------------------------------------\u001b[0m",
            "\u001b[0;31mKeyError\u001b[0m                                  Traceback (most recent call last)",
            "\u001b[0;32m<ipython-input-18-7c886551cf8a>\u001b[0m in \u001b[0;36m<cell line: 1>\u001b[0;34m()\u001b[0m\n\u001b[0;32m----> 1\u001b[0;31m \u001b[0mgenerated_midi\u001b[0m \u001b[0;34m=\u001b[0m \u001b[0mtokenizer\u001b[0m\u001b[0;34m(\u001b[0m\u001b[0mnew_data\u001b[0m\u001b[0;34m[\u001b[0m\u001b[0;36m0\u001b[0m\u001b[0;34m]\u001b[0m\u001b[0;34m.\u001b[0m\u001b[0mids\u001b[0m\u001b[0;34m,\u001b[0m \u001b[0mprograms\u001b[0m\u001b[0;34m=\u001b[0m\u001b[0mprograms\u001b[0m\u001b[0;34m)\u001b[0m\u001b[0;34m\u001b[0m\u001b[0;34m\u001b[0m\u001b[0m\n\u001b[0m",
            "\u001b[0;32m/usr/local/lib/python3.10/dist-packages/miditok/midi_tokenizer.py\u001b[0m in \u001b[0;36m__call__\u001b[0;34m(self, obj, *args, **kwargs)\u001b[0m\n\u001b[1;32m   1807\u001b[0m         \u001b[0;31m# Consider it tokens --> converts to MIDI\u001b[0m\u001b[0;34m\u001b[0m\u001b[0;34m\u001b[0m\u001b[0m\n\u001b[1;32m   1808\u001b[0m         \u001b[0;32melse\u001b[0m\u001b[0;34m:\u001b[0m\u001b[0;34m\u001b[0m\u001b[0;34m\u001b[0m\u001b[0m\n\u001b[0;32m-> 1809\u001b[0;31m             \u001b[0;32mreturn\u001b[0m \u001b[0mself\u001b[0m\u001b[0;34m.\u001b[0m\u001b[0mtokens_to_midi\u001b[0m\u001b[0;34m(\u001b[0m\u001b[0mobj\u001b[0m\u001b[0;34m,\u001b[0m \u001b[0;34m*\u001b[0m\u001b[0margs\u001b[0m\u001b[0;34m,\u001b[0m \u001b[0;34m**\u001b[0m\u001b[0mkwargs\u001b[0m\u001b[0;34m)\u001b[0m\u001b[0;34m\u001b[0m\u001b[0;34m\u001b[0m\u001b[0m\n\u001b[0m\u001b[1;32m   1810\u001b[0m \u001b[0;34m\u001b[0m\u001b[0m\n\u001b[1;32m   1811\u001b[0m     \u001b[0;32mdef\u001b[0m \u001b[0m__len__\u001b[0m\u001b[0;34m(\u001b[0m\u001b[0mself\u001b[0m\u001b[0;34m)\u001b[0m \u001b[0;34m->\u001b[0m \u001b[0mint\u001b[0m\u001b[0;34m:\u001b[0m\u001b[0;34m\u001b[0m\u001b[0;34m\u001b[0m\u001b[0m\n",
            "\u001b[0;32m/usr/local/lib/python3.10/dist-packages/miditok/midi_tokenizer.py\u001b[0m in \u001b[0;36mtokens_to_midi\u001b[0;34m(self, tokens, programs, output_path, time_division)\u001b[0m\n\u001b[1;32m    622\u001b[0m         \u001b[0;32mfor\u001b[0m \u001b[0mi\u001b[0m\u001b[0;34m,\u001b[0m \u001b[0mtrack_tokens\u001b[0m \u001b[0;32min\u001b[0m \u001b[0menumerate\u001b[0m\u001b[0;34m(\u001b[0m\u001b[0mtokens\u001b[0m\u001b[0;34m)\u001b[0m\u001b[0;34m:\u001b[0m\u001b[0;34m\u001b[0m\u001b[0;34m\u001b[0m\u001b[0m\n\u001b[1;32m    623\u001b[0m             \u001b[0;32mif\u001b[0m \u001b[0mprograms\u001b[0m \u001b[0;32mis\u001b[0m \u001b[0;32mnot\u001b[0m \u001b[0;32mNone\u001b[0m\u001b[0;34m:\u001b[0m\u001b[0;34m\u001b[0m\u001b[0;34m\u001b[0m\u001b[0m\n\u001b[0;32m--> 624\u001b[0;31m                 track, tempo_changes = self.tokens_to_track(\n\u001b[0m\u001b[1;32m    625\u001b[0m                     \u001b[0mtrack_tokens\u001b[0m\u001b[0;34m,\u001b[0m \u001b[0mtime_division\u001b[0m\u001b[0;34m,\u001b[0m \u001b[0mprograms\u001b[0m\u001b[0;34m[\u001b[0m\u001b[0mi\u001b[0m\u001b[0;34m]\u001b[0m\u001b[0;34m\u001b[0m\u001b[0;34m\u001b[0m\u001b[0m\n\u001b[1;32m    626\u001b[0m                 )\n",
            "\u001b[0;32m/usr/local/lib/python3.10/dist-packages/miditok/midi_tokenizer.py\u001b[0m in \u001b[0;36mwrapper\u001b[0;34m(*args, **kwargs)\u001b[0m\n\u001b[1;32m     71\u001b[0m \u001b[0;34m\u001b[0m\u001b[0m\n\u001b[1;32m     72\u001b[0m             \u001b[0;32mif\u001b[0m \u001b[0mself\u001b[0m\u001b[0;34m.\u001b[0m\u001b[0mhas_bpe\u001b[0m \u001b[0;32mand\u001b[0m \u001b[0mdecode_bpe\u001b[0m\u001b[0;34m:\u001b[0m\u001b[0;34m\u001b[0m\u001b[0;34m\u001b[0m\u001b[0m\n\u001b[0;32m---> 73\u001b[0;31m                 \u001b[0mself\u001b[0m\u001b[0;34m.\u001b[0m\u001b[0mdecode_bpe\u001b[0m\u001b[0;34m(\u001b[0m\u001b[0mseq\u001b[0m\u001b[0;34m)\u001b[0m\u001b[0;34m\u001b[0m\u001b[0;34m\u001b[0m\u001b[0m\n\u001b[0m\u001b[1;32m     74\u001b[0m             \u001b[0;32mif\u001b[0m \u001b[0mcomplete\u001b[0m\u001b[0;34m:\u001b[0m\u001b[0;34m\u001b[0m\u001b[0;34m\u001b[0m\u001b[0m\n\u001b[1;32m     75\u001b[0m                 \u001b[0mself\u001b[0m\u001b[0;34m.\u001b[0m\u001b[0mcomplete_sequence\u001b[0m\u001b[0;34m(\u001b[0m\u001b[0mseq\u001b[0m\u001b[0;34m)\u001b[0m\u001b[0;34m\u001b[0m\u001b[0;34m\u001b[0m\u001b[0m\n",
            "\u001b[0;32m/usr/local/lib/python3.10/dist-packages/miditok/midi_tokenizer.py\u001b[0m in \u001b[0;36mdecode_bpe\u001b[0;34m(self, seq)\u001b[0m\n\u001b[1;32m   1449\u001b[0m         \u001b[0;32melif\u001b[0m \u001b[0misinstance\u001b[0m\u001b[0;34m(\u001b[0m\u001b[0mseq\u001b[0m\u001b[0;34m,\u001b[0m \u001b[0mTokSequence\u001b[0m\u001b[0;34m)\u001b[0m \u001b[0;32mand\u001b[0m \u001b[0mseq\u001b[0m\u001b[0;34m.\u001b[0m\u001b[0mids_bpe_encoded\u001b[0m\u001b[0;34m:\u001b[0m\u001b[0;34m\u001b[0m\u001b[0;34m\u001b[0m\u001b[0m\n\u001b[1;32m   1450\u001b[0m             \u001b[0mencoded_bytes\u001b[0m \u001b[0;34m=\u001b[0m \u001b[0;34m[\u001b[0m\u001b[0mself\u001b[0m\u001b[0;34m.\u001b[0m\u001b[0m_bpe_model\u001b[0m\u001b[0;34m.\u001b[0m\u001b[0mid_to_token\u001b[0m\u001b[0;34m(\u001b[0m\u001b[0mid_\u001b[0m\u001b[0;34m)\u001b[0m \u001b[0;32mfor\u001b[0m \u001b[0mid_\u001b[0m \u001b[0;32min\u001b[0m \u001b[0mseq\u001b[0m\u001b[0;34m.\u001b[0m\u001b[0mids\u001b[0m\u001b[0;34m]\u001b[0m\u001b[0;34m\u001b[0m\u001b[0;34m\u001b[0m\u001b[0m\n\u001b[0;32m-> 1451\u001b[0;31m             decoded_tokens = [\n\u001b[0m\u001b[1;32m   1452\u001b[0m                 \u001b[0mself\u001b[0m\u001b[0;34m.\u001b[0m\u001b[0m_vocab_bpe_bytes_to_tokens\u001b[0m\u001b[0;34m[\u001b[0m\u001b[0mbyte_\u001b[0m\u001b[0;34m]\u001b[0m \u001b[0;32mfor\u001b[0m \u001b[0mbyte_\u001b[0m \u001b[0;32min\u001b[0m \u001b[0mencoded_bytes\u001b[0m\u001b[0;34m\u001b[0m\u001b[0;34m\u001b[0m\u001b[0m\n\u001b[1;32m   1453\u001b[0m             ]\n",
            "\u001b[0;32m/usr/local/lib/python3.10/dist-packages/miditok/midi_tokenizer.py\u001b[0m in \u001b[0;36m<listcomp>\u001b[0;34m(.0)\u001b[0m\n\u001b[1;32m   1450\u001b[0m             \u001b[0mencoded_bytes\u001b[0m \u001b[0;34m=\u001b[0m \u001b[0;34m[\u001b[0m\u001b[0mself\u001b[0m\u001b[0;34m.\u001b[0m\u001b[0m_bpe_model\u001b[0m\u001b[0;34m.\u001b[0m\u001b[0mid_to_token\u001b[0m\u001b[0;34m(\u001b[0m\u001b[0mid_\u001b[0m\u001b[0;34m)\u001b[0m \u001b[0;32mfor\u001b[0m \u001b[0mid_\u001b[0m \u001b[0;32min\u001b[0m \u001b[0mseq\u001b[0m\u001b[0;34m.\u001b[0m\u001b[0mids\u001b[0m\u001b[0;34m]\u001b[0m\u001b[0;34m\u001b[0m\u001b[0;34m\u001b[0m\u001b[0m\n\u001b[1;32m   1451\u001b[0m             decoded_tokens = [\n\u001b[0;32m-> 1452\u001b[0;31m                 \u001b[0mself\u001b[0m\u001b[0;34m.\u001b[0m\u001b[0m_vocab_bpe_bytes_to_tokens\u001b[0m\u001b[0;34m[\u001b[0m\u001b[0mbyte_\u001b[0m\u001b[0;34m]\u001b[0m \u001b[0;32mfor\u001b[0m \u001b[0mbyte_\u001b[0m \u001b[0;32min\u001b[0m \u001b[0mencoded_bytes\u001b[0m\u001b[0;34m\u001b[0m\u001b[0;34m\u001b[0m\u001b[0m\n\u001b[0m\u001b[1;32m   1453\u001b[0m             ]\n\u001b[1;32m   1454\u001b[0m             decoded_tokens = [\n",
            "\u001b[0;31mKeyError\u001b[0m: None"
          ]
        }
      ]
    },
    {
      "cell_type": "code",
      "source": [
        "generated_midi1.dump('/content/gdrive/MyDrive/example midi/file.mid')"
      ],
      "metadata": {
        "id": "Por_Aac5Ks8H"
      },
      "execution_count": 43,
      "outputs": []
    },
    {
      "cell_type": "code",
      "source": [],
      "metadata": {
        "id": "8aiR-H1vK3-v"
      },
      "execution_count": null,
      "outputs": []
    }
  ]
}