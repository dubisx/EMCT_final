{
  "nbformat": 4,
  "nbformat_minor": 0,
  "metadata": {
    "colab": {
      "provenance": [],
      "authorship_tag": "ABX9TyNASsYCx6r3N3z4I8B1MAsy",
      "include_colab_link": true
    },
    "kernelspec": {
      "name": "python3",
      "display_name": "Python 3"
    },
    "language_info": {
      "name": "python"
    },
    "accelerator": "GPU",
    "gpuClass": "standard"
  },
  "cells": [
    {
      "cell_type": "markdown",
      "metadata": {
        "id": "view-in-github",
        "colab_type": "text"
      },
      "source": [
        "<a href=\"https://colab.research.google.com/github/dubisx/EMCT_final/blob/main/Generator.ipynb\" target=\"_parent\"><img src=\"https://colab.research.google.com/assets/colab-badge.svg\" alt=\"Open In Colab\"/></a>"
      ]
    },
    {
      "cell_type": "code",
      "execution_count": 16,
      "metadata": {
        "colab": {
          "base_uri": "https://localhost:8080/"
        },
        "id": "n42cJmouxDxS",
        "outputId": "c4dd51ff-d94e-4c9a-f2f4-b93173c05540"
      },
      "outputs": [
        {
          "output_type": "stream",
          "name": "stdout",
          "text": [
            "Looking in indexes: https://pypi.org/simple, https://us-python.pkg.dev/colab-wheels/public/simple/\n",
            "Requirement already satisfied: miditok in /usr/local/lib/python3.9/dist-packages (2.0.3)\n",
            "Requirement already satisfied: tqdm in /usr/local/lib/python3.9/dist-packages (from miditok) (4.65.0)\n",
            "Requirement already satisfied: miditoolkit>=0.1.16 in /usr/local/lib/python3.9/dist-packages (from miditok) (0.1.16)\n",
            "Requirement already satisfied: numpy<1.24,>=1.19 in /usr/local/lib/python3.9/dist-packages (from miditok) (1.22.4)\n",
            "Requirement already satisfied: mido>=1.1.16 in /usr/local/lib/python3.9/dist-packages (from miditoolkit>=0.1.16->miditok) (1.2.10)\n",
            "Looking in indexes: https://pypi.org/simple, https://us-python.pkg.dev/colab-wheels/public/simple/\n",
            "Requirement already satisfied: tokenizers in /usr/local/lib/python3.9/dist-packages (0.13.3)\n",
            "Looking in indexes: https://pypi.org/simple, https://us-python.pkg.dev/colab-wheels/public/simple/\n",
            "Requirement already satisfied: transformers in /usr/local/lib/python3.9/dist-packages (4.28.1)\n",
            "Requirement already satisfied: numpy>=1.17 in /usr/local/lib/python3.9/dist-packages (from transformers) (1.22.4)\n",
            "Requirement already satisfied: tqdm>=4.27 in /usr/local/lib/python3.9/dist-packages (from transformers) (4.65.0)\n",
            "Requirement already satisfied: tokenizers!=0.11.3,<0.14,>=0.11.1 in /usr/local/lib/python3.9/dist-packages (from transformers) (0.13.3)\n",
            "Requirement already satisfied: packaging>=20.0 in /usr/local/lib/python3.9/dist-packages (from transformers) (23.0)\n",
            "Requirement already satisfied: pyyaml>=5.1 in /usr/local/lib/python3.9/dist-packages (from transformers) (6.0)\n",
            "Requirement already satisfied: regex!=2019.12.17 in /usr/local/lib/python3.9/dist-packages (from transformers) (2022.10.31)\n",
            "Requirement already satisfied: huggingface-hub<1.0,>=0.11.0 in /usr/local/lib/python3.9/dist-packages (from transformers) (0.13.4)\n",
            "Requirement already satisfied: requests in /usr/local/lib/python3.9/dist-packages (from transformers) (2.27.1)\n",
            "Requirement already satisfied: filelock in /usr/local/lib/python3.9/dist-packages (from transformers) (3.11.0)\n",
            "Requirement already satisfied: typing-extensions>=3.7.4.3 in /usr/local/lib/python3.9/dist-packages (from huggingface-hub<1.0,>=0.11.0->transformers) (4.5.0)\n",
            "Requirement already satisfied: certifi>=2017.4.17 in /usr/local/lib/python3.9/dist-packages (from requests->transformers) (2022.12.7)\n",
            "Requirement already satisfied: idna<4,>=2.5 in /usr/local/lib/python3.9/dist-packages (from requests->transformers) (3.4)\n",
            "Requirement already satisfied: charset-normalizer~=2.0.0 in /usr/local/lib/python3.9/dist-packages (from requests->transformers) (2.0.12)\n",
            "Requirement already satisfied: urllib3<1.27,>=1.21.1 in /usr/local/lib/python3.9/dist-packages (from requests->transformers) (1.26.15)\n"
          ]
        }
      ],
      "source": [
        "!pip install miditok\n",
        "!pip install tokenizers\n",
        "!pip install transformers\n",
        "\n",
        "import tensorflow as tf\n",
        "from tensorflow import keras\n",
        "import numpy\n",
        "import miditok\n",
        "import tqdm\n",
        "from miditok import MIDILike, MIDITokenizer, REMI\n",
        "import pathlib\n",
        "from miditok.constants import CHORD_MAPS\n",
        "from transformers import TFGPT2LMHeadModel, GPT2Config, Trainer, TrainingArguments, GenerationConfig, pipeline"
      ]
    },
    {
      "cell_type": "code",
      "source": [
        "from google.colab import drive\n",
        "\n",
        "drive.mount('/content/gdrive', force_remount=True)"
      ],
      "metadata": {
        "colab": {
          "base_uri": "https://localhost:8080/"
        },
        "id": "n2JWQ_xsxafl",
        "outputId": "99f513cc-ebef-4ad9-98cd-a226c8511af2"
      },
      "execution_count": 2,
      "outputs": [
        {
          "output_type": "stream",
          "name": "stdout",
          "text": [
            "Mounted at /content/gdrive\n"
          ]
        }
      ]
    },
    {
      "cell_type": "code",
      "source": [
        "model_path = \"/content/gdrive/MyDrive/model_f/model2/\"\n",
        "\n",
        "pitch_range = range(21, 109)\n",
        "beat_res = {(0, 4): 8, (4, 12): 4}\n",
        "nb_velocities = 32\n",
        "additional_tokens = {'Chord': True, 'Rest': True, 'Tempo': True,\n",
        "                     'rest_range': (2, 8),  # (half, 8 beats)\n",
        "                     'nb_tempos': 32,  # nb of tempo bins\n",
        "                     'tempo_range': (40, 250),  # (min, max)\n",
        "                     'Program': False,\n",
        "                     \"chord_maps\": CHORD_MAPS,\n",
        "                     \"chord_tokens_with_root_note\": True,\n",
        "                     \"chord_unknown\": False}\n",
        "special_tokens = [\"PAD\", \"BOS\", \"EOS\"]\n",
        "\n",
        "tokenizer = MIDILike(pitch_range, beat_res, nb_velocities, additional_tokens, special_tokens=special_tokens)\n",
        "\n",
        "print('Loading the model...')\n",
        "\n",
        "config = GPT2Config(\n",
        "    vocab_size=500,\n",
        "    n_positions=2048,\n",
        "    n_embd=512,\n",
        "    n_layer=8,\n",
        "    n_head=8,\n",
        "    n_inner=2048,\n",
        "    resid_pdrop=.1,\n",
        "    embd_pdrop=.1,\n",
        "    attn_pdrop=.1,\n",
        "    padding_token_id=tokenizer['PAD_None'],\n",
        "    bos_token_id=tokenizer['BOS_None'],\n",
        "    eos_token_id=tokenizer['EOS_None'],\n",
        ")\n",
        "model = TFGPT2LMHeadModel(config)\n",
        "\n",
        "#model.save_pretrained('/content/gdrive/MyDrive/models/')\n",
        "\n"
      ],
      "metadata": {
        "colab": {
          "base_uri": "https://localhost:8080/"
        },
        "id": "ABXEpdOMxdkN",
        "outputId": "bc0eb4e7-fe9c-43b3-dfed-c5ae46413793"
      },
      "execution_count": 20,
      "outputs": [
        {
          "output_type": "stream",
          "name": "stdout",
          "text": [
            "Loading the model...\n"
          ]
        }
      ]
    },
    {
      "cell_type": "code",
      "source": [
        "model.from_pretrained(model_path)"
      ],
      "metadata": {
        "id": "IiSFuHtzxS1T",
        "outputId": "e12f252e-8f92-4f9b-dd96-ecc01eb5600e",
        "colab": {
          "base_uri": "https://localhost:8080/"
        }
      },
      "execution_count": 21,
      "outputs": [
        {
          "output_type": "stream",
          "name": "stderr",
          "text": [
            "All model checkpoint layers were used when initializing TFGPT2LMHeadModel.\n",
            "\n",
            "All the layers of TFGPT2LMHeadModel were initialized from the model checkpoint at /content/gdrive/MyDrive/model_f/model2/.\n",
            "If your task is similar to the task the model of the checkpoint was trained on, you can already use TFGPT2LMHeadModel for predictions without further training.\n"
          ]
        },
        {
          "output_type": "execute_result",
          "data": {
            "text/plain": [
              "<transformers.models.gpt2.modeling_tf_gpt2.TFGPT2LMHeadModel at 0x7ff3b37278e0>"
            ]
          },
          "metadata": {},
          "execution_count": 21
        }
      ]
    },
    {
      "cell_type": "code",
      "source": [
        "\n",
        "# defining our optimizer\n",
        "optimizer = tf.keras.optimizers.Adam(learning_rate=3e-5, epsilon=1e-08, clipnorm=1.0)\n",
        "# definining our loss function\n",
        "loss = tf.keras.losses.SparseCategoricalCrossentropy(from_logits=True)\n",
        "# defining our metric which we want to observe\n",
        "metric = tf.keras.metrics.SparseCategoricalAccuracy('accuracy')\n",
        "# compiling the model\n",
        "model.compile(optimizer=optimizer, loss=[loss, *[None] * model.config.n_layer], metrics=[metric])"
      ],
      "metadata": {
        "id": "mYt0t9gOyIAp"
      },
      "execution_count": 22,
      "outputs": []
    },
    {
      "cell_type": "code",
      "source": [
        "from pathlib import Path\n",
        "from miditok.utils import get_midi_programs\n",
        "from miditoolkit import MidiFile\n",
        "\n",
        "\n",
        "midi_path = '/content/gdrive/MyDrive/example midi/midi_example.mid'\n",
        "\n",
        "tokenizer.learn_bpe(\n",
        "    vocab_size=1000,\n",
        "    tokens_paths=list(Path(\"/content/gdrive/MyDrive/tokens_noBPE\").glob('**/*.json')),\n",
        "    out_dir=Path('/content/gdrive/MyDrive/tokens_BPE')\n",
        ")"
      ],
      "metadata": {
        "colab": {
          "base_uri": "https://localhost:8080/"
        },
        "id": "STsgWikABOFk",
        "outputId": "3b851635-be44-4a68-bc60-5ee621637775"
      },
      "execution_count": 23,
      "outputs": [
        {
          "output_type": "stream",
          "name": "stderr",
          "text": [
            "Loading token files: 100%|██████████| 5456/5456 [00:10<00:00, 537.39it/s]\n"
          ]
        }
      ]
    },
    {
      "cell_type": "code",
      "source": [
        "midi_path = '/content/gdrive/MyDrive/example midi/midi_example.mid'\n",
        "\n",
        "midi = MidiFile(midi_path)\n",
        "token = tokenizer(midi)  # automatically detects MidiFile, paths or tokens before converting them\n"
      ],
      "metadata": {
        "id": "85P_-SIVlxGt"
      },
      "execution_count": 24,
      "outputs": []
    },
    {
      "cell_type": "code",
      "source": [
        "print(token)"
      ],
      "metadata": {
        "colab": {
          "base_uri": "https://localhost:8080/"
        },
        "id": "YDjivfILD3wb",
        "outputId": "572547b7-23fa-49b6-a8e2-6e2b36c070d9"
      },
      "execution_count": 25,
      "outputs": [
        {
          "output_type": "stream",
          "name": "stdout",
          "text": [
            "[TokSequence(tokens=['Tempo_141', 'Chord_D#:min', 'NoteOn_63', 'Velocity_95', 'NoteOn_66', 'Velocity_103', 'NoteOn_70', 'Velocity_95', 'TimeShift_1.0.8', 'NoteOn_39', 'Velocity_91', 'TimeShift_2.0.8', 'NoteOff_39', 'NoteOn_42', 'Velocity_91', 'TimeShift_0.4.8', 'NoteOff_42', 'NoteOn_35', 'Velocity_103', 'TimeShift_0.3.8', 'NoteOff_70', 'TimeShift_0.1.8', 'NoteOff_63', 'NoteOff_66', 'Chord_G#:min', 'NoteOn_56', 'Velocity_103', 'NoteOn_59', 'Velocity_91', 'NoteOn_63', 'Velocity_95', 'TimeShift_1.0.8', 'NoteOn_82', 'Velocity_107', 'TimeShift_0.7.8', 'NoteOff_82', 'TimeShift_0.1.8', 'NoteOn_82', 'Velocity_91', 'NoteOn_83', 'Velocity_99', 'TimeShift_0.1.8', 'NoteOff_82', 'TimeShift_0.3.8', 'NoteOn_82', 'Velocity_103', 'TimeShift_0.3.8', 'NoteOff_83', 'TimeShift_0.1.8', 'NoteOff_35', 'NoteOn_34', 'Velocity_91', 'TimeShift_0.7.8', 'NoteOff_59', 'NoteOff_63', 'TimeShift_0.1.8', 'NoteOff_56', 'NoteOff_34', 'NoteOn_32', 'Velocity_99', 'NoteOn_59', 'Velocity_95', 'NoteOn_63', 'Velocity_103', 'NoteOn_66', 'Velocity_95', 'TimeShift_1.4.8', 'NoteOff_82', 'TimeShift_0.4.8', 'NoteOn_85', 'Velocity_91', 'TimeShift_1.0.8', 'NoteOn_83', 'Velocity_99', 'TimeShift_0.4.8', 'NoteOff_85', 'NoteOn_82', 'Velocity_107', 'TimeShift_0.3.8', 'NoteOff_63', 'NoteOff_66', 'NoteOff_83', 'TimeShift_0.1.8', 'NoteOff_32', 'NoteOff_59', 'NoteOn_34', 'Velocity_99', 'NoteOn_58', 'Velocity_87', 'NoteOn_61', 'Velocity_95', 'NoteOn_65', 'Velocity_99', 'TimeShift_2.0.8', 'NoteOff_58', 'NoteOn_58', 'Velocity_103', 'NoteOn_80', 'Velocity_95', 'TimeShift_0.7.8', 'NoteOff_82', 'TimeShift_0.1.8', 'NoteOff_80', 'NoteOn_82', 'Velocity_91', 'TimeShift_0.7.8', 'NoteOff_61', 'NoteOff_65', 'NoteOff_82', 'TimeShift_0.1.8', 'NoteOff_34', 'NoteOff_58', 'Chord_D#:min', 'NoteOn_63', 'Velocity_95', 'NoteOn_66', 'Velocity_103', 'NoteOn_70', 'Velocity_95', 'TimeShift_1.0.8', 'NoteOn_39', 'Velocity_91', 'TimeShift_2.0.8', 'NoteOff_39', 'NoteOn_42', 'Velocity_91', 'TimeShift_0.4.8', 'NoteOff_42', 'NoteOn_35', 'Velocity_103', 'TimeShift_0.3.8', 'NoteOff_66', 'NoteOff_70', 'TimeShift_0.1.8', 'NoteOff_63', 'Chord_G#:min', 'NoteOn_56', 'Velocity_103', 'NoteOn_59', 'Velocity_91', 'NoteOn_63', 'Velocity_95', 'TimeShift_3.0.8', 'NoteOff_35', 'NoteOn_34', 'Velocity_91', 'TimeShift_0.7.8', 'NoteOff_56', 'NoteOff_59', 'NoteOff_63', 'TimeShift_0.1.8', 'NoteOff_34', 'NoteOn_32', 'Velocity_99', 'NoteOn_59', 'Velocity_95', 'NoteOn_63', 'Velocity_103', 'NoteOn_66', 'Velocity_95', 'TimeShift_3.7.8', 'NoteOff_59', 'NoteOff_63', 'NoteOff_66', 'TimeShift_0.1.8', 'NoteOff_32', 'NoteOn_34', 'Velocity_99', 'NoteOn_58', 'Velocity_87', 'NoteOn_61', 'Velocity_95', 'NoteOn_65', 'Velocity_99', 'TimeShift_2.0.8', 'NoteOff_58', 'NoteOn_58', 'Velocity_103', 'TimeShift_1.7.8', 'NoteOff_61', 'NoteOff_65', 'NoteOff_58', 'TimeShift_0.1.8', 'NoteOff_34'], ids=[328, 904, 48, 204, 52, 438, 21, 201, 226, 109, 24, 461, 112, 17, 204, 213, 702, 133, 136, 271, 38, 204, 41, 201, 45, 438, 64, 205, 217, 958, 64, 201, 65, 347, 152, 213, 64, 204, 213, 882, 105, 16, 201, 217, 587, 211, 126, 104, 679, 794, 45, 204, 48, 202, 222, 152, 214, 67, 534, 65, 338, 155, 64, 862, 133, 136, 882, 102, 129, 520, 40, 200, 43, 202, 389, 226, 128, 40, 204, 62, 202, 217, 958, 740, 201, 217, 131, 135, 958, 104, 128, 904, 48, 204, 52, 438, 21, 201, 226, 109, 24, 461, 112, 17, 204, 213, 136, 702, 133, 271, 38, 204, 41, 201, 904, 234, 105, 16, 201, 217, 126, 587, 211, 104, 679, 794, 45, 204, 48, 202, 241, 587, 820, 102, 520, 40, 200, 43, 202, 389, 226, 128, 40, 204, 225, 131, 135, 780, 104], bytes='ǴķNëQíUëû6êă\\x8e9ê÷\\x912íö\\xadô¦©ļGíJêNëûaîú¹ôaêbìô¹öaíöºô\\x8a1êú¢¦ô\\x9f\\x89/ìJëNíQëÿ¹÷dêûbì÷¼aîö¦©ºô\\x87¢1ìIéLëPìă¡Ií_ëú¹ô·aêú¤¨¹ô\\x89¡ķNëQíUëû6êă\\x8e9ê÷\\x912íö©\\xadô¦ļGíJêNëċ\\x8a1êú\\x9f¢¦ô\\x89/ìJëNíQëĒ¢¦©ô\\x871ìIéLëPìă¡IíĂ¤¨¡ô\\x89', events=[Event(type=Tempo, value=141, time=0, desc=141), Event(type=Chord, value=D#:min, time=0, desc=(0, 3, 7)), Event(type=NoteOn, value=63, time=0, desc=384), Event(type=Velocity, value=95, time=0, desc=95), Event(type=NoteOn, value=66, time=0, desc=384), Event(type=Velocity, value=103, time=0, desc=103), Event(type=NoteOn, value=70, time=0, desc=372), Event(type=Velocity, value=95, time=0, desc=95), Event(type=TimeShift, value=1.0.8, time=0, desc=96 ticks), Event(type=NoteOn, value=39, time=96, desc=288), Event(type=Velocity, value=91, time=96, desc=91), Event(type=TimeShift, value=2.0.8, time=96, desc=192 ticks), Event(type=NoteOff, value=39, time=288, desc=288), Event(type=NoteOn, value=42, time=288, desc=336), Event(type=Velocity, value=91, time=288, desc=91), Event(type=TimeShift, value=0.4.8, time=288, desc=48 ticks), Event(type=NoteOff, value=42, time=336, desc=336), Event(type=NoteOn, value=35, time=336, desc=672), Event(type=Velocity, value=103, time=336, desc=103), Event(type=TimeShift, value=0.3.8, time=336, desc=36 ticks), Event(type=NoteOff, value=70, time=372, desc=372), Event(type=TimeShift, value=0.1.8, time=372, desc=12 ticks), Event(type=NoteOff, value=63, time=384, desc=384), Event(type=NoteOff, value=66, time=384, desc=384), Event(type=Chord, value=G#:min, time=384, desc=(0, 3, 7)), Event(type=NoteOn, value=56, time=384, desc=768), Event(type=Velocity, value=103, time=384, desc=103), Event(type=NoteOn, value=59, time=384, desc=756), Event(type=Velocity, value=91, time=384, desc=91), Event(type=NoteOn, value=63, time=384, desc=756), Event(type=Velocity, value=95, time=384, desc=95), Event(type=TimeShift, value=1.0.8, time=384, desc=96 ticks), Event(type=NoteOn, value=82, time=480, desc=564), Event(type=Velocity, value=107, time=480, desc=107), Event(type=TimeShift, value=0.7.8, time=480, desc=84 ticks), Event(type=NoteOff, value=82, time=564, desc=564), Event(type=TimeShift, value=0.1.8, time=564, desc=12 ticks), Event(type=NoteOn, value=82, time=576, desc=588), Event(type=Velocity, value=91, time=576, desc=91), Event(type=NoteOn, value=83, time=576, desc=660), Event(type=Velocity, value=99, time=576, desc=99), Event(type=TimeShift, value=0.1.8, time=576, desc=12 ticks), Event(type=NoteOff, value=82, time=588, desc=588), Event(type=TimeShift, value=0.3.8, time=588, desc=36 ticks), Event(type=NoteOn, value=82, time=624, desc=912), Event(type=Velocity, value=103, time=624, desc=103), Event(type=TimeShift, value=0.3.8, time=624, desc=36 ticks), Event(type=NoteOff, value=83, time=660, desc=660), Event(type=TimeShift, value=0.1.8, time=660, desc=12 ticks), Event(type=NoteOff, value=35, time=672, desc=672), Event(type=NoteOn, value=34, time=672, desc=768), Event(type=Velocity, value=91, time=672, desc=91), Event(type=TimeShift, value=0.7.8, time=672, desc=84 ticks), Event(type=NoteOff, value=59, time=756, desc=756), Event(type=NoteOff, value=63, time=756, desc=756), Event(type=TimeShift, value=0.1.8, time=756, desc=12 ticks), Event(type=NoteOff, value=56, time=768, desc=768), Event(type=NoteOff, value=34, time=768, desc=768), Event(type=NoteOn, value=32, time=768, desc=1152), Event(type=Velocity, value=99, time=768, desc=99), Event(type=NoteOn, value=59, time=768, desc=1152), Event(type=Velocity, value=95, time=768, desc=95), Event(type=NoteOn, value=63, time=768, desc=1140), Event(type=Velocity, value=103, time=768, desc=103), Event(type=NoteOn, value=66, time=768, desc=1140), Event(type=Velocity, value=95, time=768, desc=95), Event(type=TimeShift, value=1.4.8, time=768, desc=144 ticks), Event(type=NoteOff, value=82, time=912, desc=912), Event(type=TimeShift, value=0.4.8, time=912, desc=48 ticks), Event(type=NoteOn, value=85, time=960, desc=1104), Event(type=Velocity, value=91, time=960, desc=91), Event(type=TimeShift, value=1.0.8, time=960, desc=96 ticks), Event(type=NoteOn, value=83, time=1056, desc=1140), Event(type=Velocity, value=99, time=1056, desc=99), Event(type=TimeShift, value=0.4.8, time=1056, desc=48 ticks), Event(type=NoteOff, value=85, time=1104, desc=1104), Event(type=NoteOn, value=82, time=1104, desc=1428), Event(type=Velocity, value=107, time=1104, desc=107), Event(type=TimeShift, value=0.3.8, time=1104, desc=36 ticks), Event(type=NoteOff, value=63, time=1140, desc=1140), Event(type=NoteOff, value=66, time=1140, desc=1140), Event(type=NoteOff, value=83, time=1140, desc=1140), Event(type=TimeShift, value=0.1.8, time=1140, desc=12 ticks), Event(type=NoteOff, value=32, time=1152, desc=1152), Event(type=NoteOff, value=59, time=1152, desc=1152), Event(type=NoteOn, value=34, time=1152, desc=1536), Event(type=Velocity, value=99, time=1152, desc=99), Event(type=NoteOn, value=58, time=1152, desc=1344), Event(type=Velocity, value=87, time=1152, desc=87), Event(type=NoteOn, value=61, time=1152, desc=1524), Event(type=Velocity, value=95, time=1152, desc=95), Event(type=NoteOn, value=65, time=1152, desc=1524), Event(type=Velocity, value=99, time=1152, desc=99), Event(type=TimeShift, value=2.0.8, time=1152, desc=192 ticks), Event(type=NoteOff, value=58, time=1344, desc=1344), Event(type=NoteOn, value=58, time=1344, desc=1536), Event(type=Velocity, value=103, time=1344, desc=103), Event(type=NoteOn, value=80, time=1344, desc=1440), Event(type=Velocity, value=95, time=1344, desc=95), Event(type=TimeShift, value=0.7.8, time=1344, desc=84 ticks), Event(type=NoteOff, value=82, time=1428, desc=1428), Event(type=TimeShift, value=0.1.8, time=1428, desc=12 ticks), Event(type=NoteOff, value=80, time=1440, desc=1440), Event(type=NoteOn, value=82, time=1440, desc=1524), Event(type=Velocity, value=91, time=1440, desc=91), Event(type=TimeShift, value=0.7.8, time=1440, desc=84 ticks), Event(type=NoteOff, value=61, time=1524, desc=1524), Event(type=NoteOff, value=65, time=1524, desc=1524), Event(type=NoteOff, value=82, time=1524, desc=1524), Event(type=TimeShift, value=0.1.8, time=1524, desc=12 ticks), Event(type=NoteOff, value=34, time=1536, desc=1536), Event(type=NoteOff, value=58, time=1536, desc=1536), Event(type=Chord, value=D#:min, time=1536, desc=(0, 3, 7)), Event(type=NoteOn, value=63, time=1536, desc=1920), Event(type=Velocity, value=95, time=1536, desc=95), Event(type=NoteOn, value=66, time=1536, desc=1908), Event(type=Velocity, value=103, time=1536, desc=103), Event(type=NoteOn, value=70, time=1536, desc=1908), Event(type=Velocity, value=95, time=1536, desc=95), Event(type=TimeShift, value=1.0.8, time=1536, desc=96 ticks), Event(type=NoteOn, value=39, time=1632, desc=1824), Event(type=Velocity, value=91, time=1632, desc=91), Event(type=TimeShift, value=2.0.8, time=1632, desc=192 ticks), Event(type=NoteOff, value=39, time=1824, desc=1824), Event(type=NoteOn, value=42, time=1824, desc=1872), Event(type=Velocity, value=91, time=1824, desc=91), Event(type=TimeShift, value=0.4.8, time=1824, desc=48 ticks), Event(type=NoteOff, value=42, time=1872, desc=1872), Event(type=NoteOn, value=35, time=1872, desc=2208), Event(type=Velocity, value=103, time=1872, desc=103), Event(type=TimeShift, value=0.3.8, time=1872, desc=36 ticks), Event(type=NoteOff, value=66, time=1908, desc=1908), Event(type=NoteOff, value=70, time=1908, desc=1908), Event(type=TimeShift, value=0.1.8, time=1908, desc=12 ticks), Event(type=NoteOff, value=63, time=1920, desc=1920), Event(type=Chord, value=G#:min, time=1920, desc=(0, 3, 7)), Event(type=NoteOn, value=56, time=1920, desc=2292), Event(type=Velocity, value=103, time=1920, desc=103), Event(type=NoteOn, value=59, time=1920, desc=2292), Event(type=Velocity, value=91, time=1920, desc=91), Event(type=NoteOn, value=63, time=1920, desc=2292), Event(type=Velocity, value=95, time=1920, desc=95), Event(type=TimeShift, value=3.0.8, time=1920, desc=288 ticks), Event(type=NoteOff, value=35, time=2208, desc=2208), Event(type=NoteOn, value=34, time=2208, desc=2304), Event(type=Velocity, value=91, time=2208, desc=91), Event(type=TimeShift, value=0.7.8, time=2208, desc=84 ticks), Event(type=NoteOff, value=56, time=2292, desc=2292), Event(type=NoteOff, value=59, time=2292, desc=2292), Event(type=NoteOff, value=63, time=2292, desc=2292), Event(type=TimeShift, value=0.1.8, time=2292, desc=12 ticks), Event(type=NoteOff, value=34, time=2304, desc=2304), Event(type=NoteOn, value=32, time=2304, desc=2688), Event(type=Velocity, value=99, time=2304, desc=99), Event(type=NoteOn, value=59, time=2304, desc=2676), Event(type=Velocity, value=95, time=2304, desc=95), Event(type=NoteOn, value=63, time=2304, desc=2676), Event(type=Velocity, value=103, time=2304, desc=103), Event(type=NoteOn, value=66, time=2304, desc=2676), Event(type=Velocity, value=95, time=2304, desc=95), Event(type=TimeShift, value=3.7.8, time=2304, desc=372 ticks), Event(type=NoteOff, value=59, time=2676, desc=2676), Event(type=NoteOff, value=63, time=2676, desc=2676), Event(type=NoteOff, value=66, time=2676, desc=2676), Event(type=TimeShift, value=0.1.8, time=2676, desc=12 ticks), Event(type=NoteOff, value=32, time=2688, desc=2688), Event(type=NoteOn, value=34, time=2688, desc=3072), Event(type=Velocity, value=99, time=2688, desc=99), Event(type=NoteOn, value=58, time=2688, desc=2880), Event(type=Velocity, value=87, time=2688, desc=87), Event(type=NoteOn, value=61, time=2688, desc=3060), Event(type=Velocity, value=95, time=2688, desc=95), Event(type=NoteOn, value=65, time=2688, desc=3060), Event(type=Velocity, value=99, time=2688, desc=99), Event(type=TimeShift, value=2.0.8, time=2688, desc=192 ticks), Event(type=NoteOff, value=58, time=2880, desc=2880), Event(type=NoteOn, value=58, time=2880, desc=3060), Event(type=Velocity, value=103, time=2880, desc=103), Event(type=TimeShift, value=1.7.8, time=2880, desc=180 ticks), Event(type=NoteOff, value=61, time=3060, desc=3060), Event(type=NoteOff, value=65, time=3060, desc=3060), Event(type=NoteOff, value=58, time=3060, desc=3060), Event(type=TimeShift, value=0.1.8, time=3060, desc=12 ticks), Event(type=NoteOff, value=34, time=3072, desc=3072)], ids_bpe_encoded=True, _ids_no_bpe=None)]\n"
          ]
        }
      ]
    },
    {
      "cell_type": "code",
      "source": [
        "savetok = Path('/content/gdrive/MyDrive/example midi/token1.json')\n",
        "\n",
        "tokenizer.save_tokens(token, savetok)"
      ],
      "metadata": {
        "id": "HcJAown6mytC"
      },
      "execution_count": 32,
      "outputs": []
    },
    {
      "cell_type": "code",
      "source": [
        "import json\n",
        "import os\n",
        "\n",
        "directory = '/content/gdrive/MyDrive/example midi/tokens/'\n",
        "\n",
        "\n",
        "for fname in os.listdir(directory):                     # for each file in the directory\n",
        "    with open(os.path.join(directory, fname)) as i:     # open the file\n",
        "        data = json.load(i)   "
      ],
      "metadata": {
        "id": "GEEpNQuMn1mr"
      },
      "execution_count": 39,
      "outputs": []
    },
    {
      "cell_type": "code",
      "source": [
        "print(data['ids'])"
      ],
      "metadata": {
        "colab": {
          "base_uri": "https://localhost:8080/"
        },
        "id": "iE-B7zCpopdS",
        "outputId": "12ffbb00-d23c-4135-b82d-f374b960a213"
      },
      "execution_count": 42,
      "outputs": [
        {
          "output_type": "stream",
          "name": "stdout",
          "text": [
            "[[328, 904, 48, 204, 52, 438, 21, 201, 226, 109, 24, 461, 112, 17, 204, 213, 702, 133, 136, 271, 38, 204, 41, 201, 45, 438, 64, 205, 217, 958, 64, 201, 65, 347, 152, 213, 64, 204, 213, 882, 105, 16, 201, 217, 587, 211, 126, 104, 679, 794, 45, 204, 48, 202, 222, 152, 214, 67, 534, 65, 338, 155, 64, 862, 133, 136, 882, 102, 129, 520, 40, 200, 43, 202, 389, 226, 128, 40, 204, 62, 202, 217, 958, 740, 201, 217, 131, 135, 958, 104, 128, 904, 48, 204, 52, 438, 21, 201, 226, 109, 24, 461, 112, 17, 204, 213, 136, 702, 133, 271, 38, 204, 41, 201, 904, 234, 105, 16, 201, 217, 126, 587, 211, 104, 679, 794, 45, 204, 48, 202, 241, 587, 820, 102, 520, 40, 200, 43, 202, 389, 226, 128, 40, 204, 225, 131, 135, 780, 104]]\n"
          ]
        }
      ]
    },
    {
      "cell_type": "code",
      "source": [
        "prompt = str(data['ids'])\n",
        "\n",
        "print(prompt)"
      ],
      "metadata": {
        "id": "q6QqZy8cBBta",
        "colab": {
          "base_uri": "https://localhost:8080/"
        },
        "outputId": "826c8002-2920-44f4-d5e6-d1b25d5da275"
      },
      "execution_count": 44,
      "outputs": [
        {
          "output_type": "stream",
          "name": "stdout",
          "text": [
            "[[328, 904, 48, 204, 52, 438, 21, 201, 226, 109, 24, 461, 112, 17, 204, 213, 702, 133, 136, 271, 38, 204, 41, 201, 45, 438, 64, 205, 217, 958, 64, 201, 65, 347, 152, 213, 64, 204, 213, 882, 105, 16, 201, 217, 587, 211, 126, 104, 679, 794, 45, 204, 48, 202, 222, 152, 214, 67, 534, 65, 338, 155, 64, 862, 133, 136, 882, 102, 129, 520, 40, 200, 43, 202, 389, 226, 128, 40, 204, 62, 202, 217, 958, 740, 201, 217, 131, 135, 958, 104, 128, 904, 48, 204, 52, 438, 21, 201, 226, 109, 24, 461, 112, 17, 204, 213, 136, 702, 133, 271, 38, 204, 41, 201, 904, 234, 105, 16, 201, 217, 126, 587, 211, 104, 679, 794, 45, 204, 48, 202, 241, 587, 820, 102, 520, 40, 200, 43, 202, 389, 226, 128, 40, 204, 225, 131, 135, 780, 104]]\n"
          ]
        }
      ]
    },
    {
      "cell_type": "markdown",
      "source": [
        " I have managed to convert a new MIDI to a BPE encoded token, however I am unsure on how to feed the data into the model.generate function to generate a new sequence."
      ],
      "metadata": {
        "id": "nL07Onqdrj71"
      }
    },
    {
      "cell_type": "code",
      "source": [
        "\n",
        "outputs = model.generate(data['ids'], max_length=250, do_sample=True, top_p=0.95, top_k=60)\n"
      ],
      "metadata": {
        "id": "9Tu0912A0Mqu",
        "colab": {
          "base_uri": "https://localhost:8080/",
          "height": 762
        },
        "outputId": "4d9a37e3-6cac-4daa-81b9-f1d48652cf3f"
      },
      "execution_count": 46,
      "outputs": [
        {
          "output_type": "stream",
          "name": "stderr",
          "text": [
            "The attention mask and the pad token id were not set. As a consequence, you may observe unexpected behavior. Please pass your input's `attention_mask` to obtain reliable results.\n",
            "Setting `pad_token_id` to `eos_token_id`:2 for open-end generation.\n"
          ]
        },
        {
          "output_type": "error",
          "ename": "InvalidArgumentError",
          "evalue": "ignored",
          "traceback": [
            "\u001b[0;31m---------------------------------------------------------------------------\u001b[0m",
            "\u001b[0;31mInvalidArgumentError\u001b[0m                      Traceback (most recent call last)",
            "\u001b[0;32m<ipython-input-46-3822bcac44bf>\u001b[0m in \u001b[0;36m<cell line: 1>\u001b[0;34m()\u001b[0m\n\u001b[0;32m----> 1\u001b[0;31m \u001b[0moutputs\u001b[0m \u001b[0;34m=\u001b[0m \u001b[0mmodel\u001b[0m\u001b[0;34m.\u001b[0m\u001b[0mgenerate\u001b[0m\u001b[0;34m(\u001b[0m\u001b[0mdata\u001b[0m\u001b[0;34m[\u001b[0m\u001b[0;34m'ids'\u001b[0m\u001b[0;34m]\u001b[0m\u001b[0;34m,\u001b[0m \u001b[0mmax_length\u001b[0m\u001b[0;34m=\u001b[0m\u001b[0;36m250\u001b[0m\u001b[0;34m,\u001b[0m \u001b[0mdo_sample\u001b[0m\u001b[0;34m=\u001b[0m\u001b[0;32mTrue\u001b[0m\u001b[0;34m,\u001b[0m \u001b[0mtop_p\u001b[0m\u001b[0;34m=\u001b[0m\u001b[0;36m0.95\u001b[0m\u001b[0;34m,\u001b[0m \u001b[0mtop_k\u001b[0m\u001b[0;34m=\u001b[0m\u001b[0;36m60\u001b[0m\u001b[0;34m)\u001b[0m\u001b[0;34m\u001b[0m\u001b[0;34m\u001b[0m\u001b[0m\n\u001b[0m",
            "\u001b[0;32m/usr/local/lib/python3.9/dist-packages/transformers/generation/tf_utils.py\u001b[0m in \u001b[0;36mgenerate\u001b[0;34m(self, inputs, generation_config, logits_processor, seed, **kwargs)\u001b[0m\n\u001b[1;32m    965\u001b[0m \u001b[0;34m\u001b[0m\u001b[0m\n\u001b[1;32m    966\u001b[0m             \u001b[0;31m# 13. run sample\u001b[0m\u001b[0;34m\u001b[0m\u001b[0;34m\u001b[0m\u001b[0m\n\u001b[0;32m--> 967\u001b[0;31m             return self.sample(\n\u001b[0m\u001b[1;32m    968\u001b[0m                 \u001b[0minput_ids\u001b[0m\u001b[0;34m,\u001b[0m\u001b[0;34m\u001b[0m\u001b[0;34m\u001b[0m\u001b[0m\n\u001b[1;32m    969\u001b[0m                 \u001b[0mlogits_processor\u001b[0m\u001b[0;34m=\u001b[0m\u001b[0mlogits_processor\u001b[0m\u001b[0;34m,\u001b[0m\u001b[0;34m\u001b[0m\u001b[0;34m\u001b[0m\u001b[0m\n",
            "\u001b[0;32m/usr/local/lib/python3.9/dist-packages/transformers/generation/tf_utils.py\u001b[0m in \u001b[0;36msample\u001b[0;34m(self, input_ids, logits_processor, logits_warper, max_length, pad_token_id, eos_token_id, seed, output_attentions, output_hidden_states, output_scores, return_dict_in_generate, **model_kwargs)\u001b[0m\n\u001b[1;32m   2010\u001b[0m         \u001b[0;31m# 5. run generation\u001b[0m\u001b[0;34m\u001b[0m\u001b[0;34m\u001b[0m\u001b[0m\n\u001b[1;32m   2011\u001b[0m         \u001b[0;31m# 1st generation step has to be run before to initialize `past_key_values`\u001b[0m\u001b[0;34m\u001b[0m\u001b[0;34m\u001b[0m\u001b[0m\n\u001b[0;32m-> 2012\u001b[0;31m         generated, finished_sequences, cur_len, model_kwargs = sample_body_fn(\n\u001b[0m\u001b[1;32m   2013\u001b[0m             \u001b[0mgenerated\u001b[0m\u001b[0;34m,\u001b[0m \u001b[0mfinished_sequences\u001b[0m\u001b[0;34m,\u001b[0m \u001b[0mcur_len\u001b[0m\u001b[0;34m,\u001b[0m \u001b[0mmodel_kwargs\u001b[0m\u001b[0;34m\u001b[0m\u001b[0;34m\u001b[0m\u001b[0m\n\u001b[1;32m   2014\u001b[0m         )\n",
            "\u001b[0;32m/usr/local/lib/python3.9/dist-packages/transformers/generation/tf_utils.py\u001b[0m in \u001b[0;36msample_body_fn\u001b[0;34m(generated, finished_sequences, cur_len, model_kwargs)\u001b[0m\n\u001b[1;32m   1928\u001b[0m             \u001b[0mmodel_inputs\u001b[0m \u001b[0;34m=\u001b[0m \u001b[0mself\u001b[0m\u001b[0;34m.\u001b[0m\u001b[0mprepare_inputs_for_generation\u001b[0m\u001b[0;34m(\u001b[0m\u001b[0minput_ids\u001b[0m\u001b[0;34m,\u001b[0m \u001b[0muse_cache\u001b[0m\u001b[0;34m=\u001b[0m\u001b[0muse_cache\u001b[0m\u001b[0;34m,\u001b[0m \u001b[0;34m**\u001b[0m\u001b[0mmodel_kwargs\u001b[0m\u001b[0;34m)\u001b[0m\u001b[0;34m\u001b[0m\u001b[0;34m\u001b[0m\u001b[0m\n\u001b[1;32m   1929\u001b[0m             \u001b[0;31m# forward pass to get next token logits\u001b[0m\u001b[0;34m\u001b[0m\u001b[0;34m\u001b[0m\u001b[0m\n\u001b[0;32m-> 1930\u001b[0;31m             model_outputs = self(\n\u001b[0m\u001b[1;32m   1931\u001b[0m                 \u001b[0;34m**\u001b[0m\u001b[0mmodel_inputs\u001b[0m\u001b[0;34m,\u001b[0m\u001b[0;34m\u001b[0m\u001b[0;34m\u001b[0m\u001b[0m\n\u001b[1;32m   1932\u001b[0m                 \u001b[0mreturn_dict\u001b[0m\u001b[0;34m=\u001b[0m\u001b[0;32mTrue\u001b[0m\u001b[0;34m,\u001b[0m\u001b[0;34m\u001b[0m\u001b[0;34m\u001b[0m\u001b[0m\n",
            "\u001b[0;32m/usr/local/lib/python3.9/dist-packages/keras/utils/traceback_utils.py\u001b[0m in \u001b[0;36merror_handler\u001b[0;34m(*args, **kwargs)\u001b[0m\n\u001b[1;32m     68\u001b[0m             \u001b[0;31m# To get the full stack trace, call:\u001b[0m\u001b[0;34m\u001b[0m\u001b[0;34m\u001b[0m\u001b[0m\n\u001b[1;32m     69\u001b[0m             \u001b[0;31m# `tf.debugging.disable_traceback_filtering()`\u001b[0m\u001b[0;34m\u001b[0m\u001b[0;34m\u001b[0m\u001b[0m\n\u001b[0;32m---> 70\u001b[0;31m             \u001b[0;32mraise\u001b[0m \u001b[0me\u001b[0m\u001b[0;34m.\u001b[0m\u001b[0mwith_traceback\u001b[0m\u001b[0;34m(\u001b[0m\u001b[0mfiltered_tb\u001b[0m\u001b[0;34m)\u001b[0m \u001b[0;32mfrom\u001b[0m \u001b[0;32mNone\u001b[0m\u001b[0;34m\u001b[0m\u001b[0;34m\u001b[0m\u001b[0m\n\u001b[0m\u001b[1;32m     71\u001b[0m         \u001b[0;32mfinally\u001b[0m\u001b[0;34m:\u001b[0m\u001b[0;34m\u001b[0m\u001b[0;34m\u001b[0m\u001b[0m\n\u001b[1;32m     72\u001b[0m             \u001b[0;32mdel\u001b[0m \u001b[0mfiltered_tb\u001b[0m\u001b[0;34m\u001b[0m\u001b[0;34m\u001b[0m\u001b[0m\n",
            "\u001b[0;32m/usr/local/lib/python3.9/dist-packages/transformers/modeling_tf_utils.py\u001b[0m in \u001b[0;36mrun_call_with_unpacked_inputs\u001b[0;34m(self, *args, **kwargs)\u001b[0m\n\u001b[1;32m    431\u001b[0m \u001b[0;34m\u001b[0m\u001b[0m\n\u001b[1;32m    432\u001b[0m         \u001b[0munpacked_inputs\u001b[0m \u001b[0;34m=\u001b[0m \u001b[0minput_processing\u001b[0m\u001b[0;34m(\u001b[0m\u001b[0mfunc\u001b[0m\u001b[0;34m,\u001b[0m \u001b[0mconfig\u001b[0m\u001b[0;34m,\u001b[0m \u001b[0;34m**\u001b[0m\u001b[0mfn_args_and_kwargs\u001b[0m\u001b[0;34m)\u001b[0m\u001b[0;34m\u001b[0m\u001b[0;34m\u001b[0m\u001b[0m\n\u001b[0;32m--> 433\u001b[0;31m         \u001b[0;32mreturn\u001b[0m \u001b[0mfunc\u001b[0m\u001b[0;34m(\u001b[0m\u001b[0mself\u001b[0m\u001b[0;34m,\u001b[0m \u001b[0;34m**\u001b[0m\u001b[0munpacked_inputs\u001b[0m\u001b[0;34m)\u001b[0m\u001b[0;34m\u001b[0m\u001b[0;34m\u001b[0m\u001b[0m\n\u001b[0m\u001b[1;32m    434\u001b[0m \u001b[0;34m\u001b[0m\u001b[0m\n\u001b[1;32m    435\u001b[0m     \u001b[0;31m# Keras enforces the first layer argument to be passed, and checks it through `inspect.getfullargspec()`. This\u001b[0m\u001b[0;34m\u001b[0m\u001b[0;34m\u001b[0m\u001b[0m\n",
            "\u001b[0;32m/usr/local/lib/python3.9/dist-packages/transformers/models/gpt2/modeling_tf_gpt2.py\u001b[0m in \u001b[0;36mcall\u001b[0;34m(self, input_ids, past_key_values, attention_mask, token_type_ids, position_ids, head_mask, inputs_embeds, encoder_hidden_states, encoder_attention_mask, use_cache, output_attentions, output_hidden_states, return_dict, labels, training)\u001b[0m\n\u001b[1;32m    897\u001b[0m         \"\"\"\n\u001b[1;32m    898\u001b[0m \u001b[0;34m\u001b[0m\u001b[0m\n\u001b[0;32m--> 899\u001b[0;31m         transformer_outputs = self.transformer(\n\u001b[0m\u001b[1;32m    900\u001b[0m             \u001b[0minput_ids\u001b[0m\u001b[0;34m=\u001b[0m\u001b[0minput_ids\u001b[0m\u001b[0;34m,\u001b[0m\u001b[0;34m\u001b[0m\u001b[0;34m\u001b[0m\u001b[0m\n\u001b[1;32m    901\u001b[0m             \u001b[0mpast_key_values\u001b[0m\u001b[0;34m=\u001b[0m\u001b[0mpast_key_values\u001b[0m\u001b[0;34m,\u001b[0m\u001b[0;34m\u001b[0m\u001b[0;34m\u001b[0m\u001b[0m\n",
            "\u001b[0;32m/usr/local/lib/python3.9/dist-packages/transformers/modeling_tf_utils.py\u001b[0m in \u001b[0;36mrun_call_with_unpacked_inputs\u001b[0;34m(self, *args, **kwargs)\u001b[0m\n\u001b[1;32m    431\u001b[0m \u001b[0;34m\u001b[0m\u001b[0m\n\u001b[1;32m    432\u001b[0m         \u001b[0munpacked_inputs\u001b[0m \u001b[0;34m=\u001b[0m \u001b[0minput_processing\u001b[0m\u001b[0;34m(\u001b[0m\u001b[0mfunc\u001b[0m\u001b[0;34m,\u001b[0m \u001b[0mconfig\u001b[0m\u001b[0;34m,\u001b[0m \u001b[0;34m**\u001b[0m\u001b[0mfn_args_and_kwargs\u001b[0m\u001b[0;34m)\u001b[0m\u001b[0;34m\u001b[0m\u001b[0;34m\u001b[0m\u001b[0m\n\u001b[0;32m--> 433\u001b[0;31m         \u001b[0;32mreturn\u001b[0m \u001b[0mfunc\u001b[0m\u001b[0;34m(\u001b[0m\u001b[0mself\u001b[0m\u001b[0;34m,\u001b[0m \u001b[0;34m**\u001b[0m\u001b[0munpacked_inputs\u001b[0m\u001b[0;34m)\u001b[0m\u001b[0;34m\u001b[0m\u001b[0;34m\u001b[0m\u001b[0m\n\u001b[0m\u001b[1;32m    434\u001b[0m \u001b[0;34m\u001b[0m\u001b[0m\n\u001b[1;32m    435\u001b[0m     \u001b[0;31m# Keras enforces the first layer argument to be passed, and checks it through `inspect.getfullargspec()`. This\u001b[0m\u001b[0;34m\u001b[0m\u001b[0;34m\u001b[0m\u001b[0m\n",
            "\u001b[0;32m/usr/local/lib/python3.9/dist-packages/transformers/models/gpt2/modeling_tf_gpt2.py\u001b[0m in \u001b[0;36mcall\u001b[0;34m(self, input_ids, past_key_values, attention_mask, token_type_ids, position_ids, head_mask, inputs_embeds, encoder_hidden_states, encoder_attention_mask, use_cache, output_attentions, output_hidden_states, return_dict, training)\u001b[0m\n\u001b[1;32m    440\u001b[0m             \u001b[0;31m# Note: tf.gather, on which the embedding layer is based, won't check positive out of bound\u001b[0m\u001b[0;34m\u001b[0m\u001b[0;34m\u001b[0m\u001b[0m\n\u001b[1;32m    441\u001b[0m             \u001b[0;31m# indices on GPU, returning zeros instead. This is a dangerous silent behavior.\u001b[0m\u001b[0;34m\u001b[0m\u001b[0;34m\u001b[0m\u001b[0m\n\u001b[0;32m--> 442\u001b[0;31m             tf.debugging.assert_less(\n\u001b[0m\u001b[1;32m    443\u001b[0m                 \u001b[0minput_ids\u001b[0m\u001b[0;34m,\u001b[0m\u001b[0;34m\u001b[0m\u001b[0;34m\u001b[0m\u001b[0m\n\u001b[1;32m    444\u001b[0m                 \u001b[0mtf\u001b[0m\u001b[0;34m.\u001b[0m\u001b[0mcast\u001b[0m\u001b[0;34m(\u001b[0m\u001b[0mself\u001b[0m\u001b[0;34m.\u001b[0m\u001b[0mconfig\u001b[0m\u001b[0;34m.\u001b[0m\u001b[0mvocab_size\u001b[0m\u001b[0;34m,\u001b[0m \u001b[0mdtype\u001b[0m\u001b[0;34m=\u001b[0m\u001b[0minput_ids\u001b[0m\u001b[0;34m.\u001b[0m\u001b[0mdtype\u001b[0m\u001b[0;34m)\u001b[0m\u001b[0;34m,\u001b[0m\u001b[0;34m\u001b[0m\u001b[0;34m\u001b[0m\u001b[0m\n",
            "\u001b[0;31mInvalidArgumentError\u001b[0m: Exception encountered when calling layer 'transformer' (type TFGPT2MainLayer).\n\ninput_ids must be smaller than the embedding layer's input dimension (got 958 >= 500)\nCondition x < y did not hold.\nFirst 3 elements of x:\n[328 904  48]\nFirst 1 elements of y:\n[500]\n\nCall arguments received by layer 'transformer' (type TFGPT2MainLayer):\n  • input_ids=tf.Tensor(shape=(1, 149), dtype=int32)\n  • past_key_values=None\n  • attention_mask=tf.Tensor(shape=(1, 149), dtype=int32)\n  • token_type_ids=None\n  • position_ids=tf.Tensor(shape=(1, 149), dtype=int32)\n  • head_mask=None\n  • inputs_embeds=None\n  • encoder_hidden_states=None\n  • encoder_attention_mask=None\n  • use_cache=True\n  • output_attentions=False\n  • output_hidden_states=False\n  • return_dict=True\n  • training=False"
          ]
        }
      ]
    },
    {
      "cell_type": "code",
      "source": [],
      "metadata": {
        "id": "6pPuCSZ7o68Q"
      },
      "execution_count": null,
      "outputs": []
    }
  ]
}